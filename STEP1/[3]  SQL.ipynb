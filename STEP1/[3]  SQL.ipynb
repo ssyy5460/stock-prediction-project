{
 "cells": [
  {
   "cell_type": "markdown",
   "metadata": {},
   "source": [
    "<strong>주가 예측 프로젝트 prac 3</strong>\n",
    "\n",
    "- sql 라이브러리 사용 <br>\n",
    "- 다음날 종가 변동률 분포 확인\n",
    "- 변수명 변경\n",
    "\n",
    "<strong> 수행시간</strong> \n",
    "- 과제 1: 0초\n",
    "- 과제 2: 1분\n",
    "- 과제 3: 2초\n",
    "\n",
    "리스트와 비교해보면 약 3분, 딕셔너리와 비교해보면 약 2분이 차이남"
   ]
  },
  {
   "cell_type": "code",
   "execution_count": 1,
   "metadata": {
    "ExecuteTime": {
     "end_time": "2022-11-21T13:52:33.781658Z",
     "start_time": "2022-11-21T13:52:32.635634Z"
    }
   },
   "outputs": [],
   "source": [
    "import os\n",
    "import time\n",
    "import pandas as pd\n",
    "import numpy as np\n",
    "import datetime\n",
    "import pymysql\n",
    "from sqlalchemy import create_engine\n",
    "import FinanceDataReader as fdr\n",
    "from tqdm import tqdm\n",
    "import pickle\n",
    "import warnings"
   ]
  },
  {
   "cell_type": "code",
   "execution_count": 2,
   "metadata": {
    "ExecuteTime": {
     "end_time": "2022-11-21T13:52:33.797853Z",
     "start_time": "2022-11-21T13:52:33.784649Z"
    }
   },
   "outputs": [],
   "source": [
    "warnings.filterwarnings('ignore')"
   ]
  },
  {
   "cell_type": "markdown",
   "metadata": {},
   "source": [
    "# SQL\n",
    "- tab separated 형식\n",
    "- fdr 라이브러리를 사용하여 전체 종목 코드 다운받기\n",
    "- 상장일 2018년 1월 2일 이후 종목 텍스트 파일로 저장하기<br>"
   ]
  },
  {
   "cell_type": "code",
   "execution_count": 3,
   "metadata": {
    "ExecuteTime": {
     "end_time": "2022-11-21T13:52:33.861478Z",
     "start_time": "2022-11-21T13:52:33.800607Z"
    },
    "scrolled": false
   },
   "outputs": [
    {
     "data": {
      "text/html": [
       "<div>\n",
       "<style scoped>\n",
       "    .dataframe tbody tr th:only-of-type {\n",
       "        vertical-align: middle;\n",
       "    }\n",
       "\n",
       "    .dataframe tbody tr th {\n",
       "        vertical-align: top;\n",
       "    }\n",
       "\n",
       "    .dataframe thead th {\n",
       "        text-align: right;\n",
       "    }\n",
       "</style>\n",
       "<table border=\"1\" class=\"dataframe\">\n",
       "  <thead>\n",
       "    <tr style=\"text-align: right;\">\n",
       "      <th></th>\n",
       "      <th>회사명</th>\n",
       "      <th>종목코드</th>\n",
       "      <th>업종</th>\n",
       "      <th>주요제품</th>\n",
       "      <th>상장일</th>\n",
       "      <th>결산월</th>\n",
       "      <th>대표자명</th>\n",
       "      <th>홈페이지</th>\n",
       "      <th>지역</th>\n",
       "    </tr>\n",
       "  </thead>\n",
       "  <tbody>\n",
       "    <tr>\n",
       "      <th>0</th>\n",
       "      <td>ES큐브</td>\n",
       "      <td>050120</td>\n",
       "      <td>생활용품 도매업</td>\n",
       "      <td>텐트, 원 ·부자재</td>\n",
       "      <td>2002-04-25</td>\n",
       "      <td>12월</td>\n",
       "      <td>신희민</td>\n",
       "      <td>http://www.escube.co.kr</td>\n",
       "      <td>서울특별시</td>\n",
       "    </tr>\n",
       "    <tr>\n",
       "      <th>1</th>\n",
       "      <td>ISC</td>\n",
       "      <td>095340</td>\n",
       "      <td>전자부품 제조업</td>\n",
       "      <td>반도체테스트소켓</td>\n",
       "      <td>2007-10-01</td>\n",
       "      <td>12월</td>\n",
       "      <td>김정렬, 김상욱 (각자 대표이사)</td>\n",
       "      <td>http://isc21.kr</td>\n",
       "      <td>경기도</td>\n",
       "    </tr>\n",
       "    <tr>\n",
       "      <th>2</th>\n",
       "      <td>JW신약</td>\n",
       "      <td>067290</td>\n",
       "      <td>의약품 제조업</td>\n",
       "      <td>매니큐어세트, 손톱깎이</td>\n",
       "      <td>2003-02-11</td>\n",
       "      <td>12월</td>\n",
       "      <td>백승호</td>\n",
       "      <td>http://www.cwsy.co.kr</td>\n",
       "      <td>서울특별시</td>\n",
       "    </tr>\n",
       "    <tr>\n",
       "      <th>3</th>\n",
       "      <td>KB오토시스</td>\n",
       "      <td>024120</td>\n",
       "      <td>자동차 신품 부품 제조업</td>\n",
       "      <td>브레이크패드</td>\n",
       "      <td>1994-12-07</td>\n",
       "      <td>12월</td>\n",
       "      <td>김신완</td>\n",
       "      <td>http://www.kbautosys.com</td>\n",
       "      <td>충청남도</td>\n",
       "    </tr>\n",
       "    <tr>\n",
       "      <th>4</th>\n",
       "      <td>KH바텍</td>\n",
       "      <td>060720</td>\n",
       "      <td>전자부품 제조업</td>\n",
       "      <td>휴대폰부품(SHIELD, BRACKET)</td>\n",
       "      <td>2002-05-21</td>\n",
       "      <td>12월</td>\n",
       "      <td>남광희</td>\n",
       "      <td>http://www.khvatec.com</td>\n",
       "      <td>경상북도</td>\n",
       "    </tr>\n",
       "  </tbody>\n",
       "</table>\n",
       "</div>"
      ],
      "text/plain": [
       "      회사명    종목코드             업종                    주요제품         상장일  결산월  \\\n",
       "0    ES큐브  050120       생활용품 도매업              텐트, 원 ·부자재  2002-04-25  12월   \n",
       "1     ISC  095340       전자부품 제조업                반도체테스트소켓  2007-10-01  12월   \n",
       "2    JW신약  067290        의약품 제조업            매니큐어세트, 손톱깎이  2003-02-11  12월   \n",
       "3  KB오토시스  024120  자동차 신품 부품 제조업                  브레이크패드  1994-12-07  12월   \n",
       "4    KH바텍  060720       전자부품 제조업  휴대폰부품(SHIELD, BRACKET)  2002-05-21  12월   \n",
       "\n",
       "                 대표자명                      홈페이지     지역  \n",
       "0                 신희민   http://www.escube.co.kr  서울특별시  \n",
       "1  김정렬, 김상욱 (각자 대표이사)           http://isc21.kr    경기도  \n",
       "2                 백승호     http://www.cwsy.co.kr  서울특별시  \n",
       "3                 김신완  http://www.kbautosys.com   충청남도  \n",
       "4                 남광희    http://www.khvatec.com   경상북도  "
      ]
     },
     "execution_count": 3,
     "metadata": {},
     "output_type": "execute_result"
    }
   ],
   "source": [
    "stock = pd.read_csv('../data/raw_data.csv',index_col = 0)\n",
    "stock['종목코드'] = stock['종목코드'].apply(lambda x : str(x).zfill(6))\n",
    "stock.head()"
   ]
  },
  {
   "cell_type": "code",
   "execution_count": 4,
   "metadata": {
    "ExecuteTime": {
     "end_time": "2022-11-21T13:52:33.908318Z",
     "start_time": "2022-11-21T13:52:33.864444Z"
    }
   },
   "outputs": [
    {
     "name": "stderr",
     "output_type": "stream",
     "text": [
      "100%|██████████████████████████████████████████████████████████████████████████| 1910/1910 [00:00<00:00, 328850.24it/s]\n"
     ]
    }
   ],
   "source": [
    "result = {}\n",
    "lst_stock = stock.values.tolist()\n",
    "\n",
    "OF = open('../data/assignment1.txt','w')\n",
    "for row in tqdm(lst_stock):\n",
    "    code, name,date = row[1],row[0],row[4]\n",
    "    if date <= '2018-01-02':\n",
    "        result[code] = date\n",
    "        OF.write(f'{code}\\t{name}\\n')"
   ]
  },
  {
   "cell_type": "markdown",
   "metadata": {},
   "source": [
    "cursor : 행 단위 작업을 효율적으로 하기 위한 방식으로 테이블에서 여러 개의 행을 조회한 후 </br>\n",
    "쿼리의 결과를 한행씩 처리하는 방식 </br>\n",
    "SELECT한 결과를 반복 작업해줘야 할 경우 유용하게 사용 가능함"
   ]
  },
  {
   "cell_type": "code",
   "execution_count": 13,
   "metadata": {
    "ExecuteTime": {
     "end_time": "2022-11-21T14:14:09.290177Z",
     "start_time": "2022-11-21T14:14:09.282199Z"
    }
   },
   "outputs": [],
   "source": [
    "#con = pymysql.connect()\n",
    "#cursor = con.cursor()"
   ]
  },
  {
   "cell_type": "code",
   "execution_count": 6,
   "metadata": {
    "ExecuteTime": {
     "end_time": "2022-11-21T13:52:34.002077Z",
     "start_time": "2022-11-21T13:52:33.974142Z"
    }
   },
   "outputs": [
    {
     "data": {
      "text/html": [
       "<div>\n",
       "<style scoped>\n",
       "    .dataframe tbody tr th:only-of-type {\n",
       "        vertical-align: middle;\n",
       "    }\n",
       "\n",
       "    .dataframe tbody tr th {\n",
       "        vertical-align: top;\n",
       "    }\n",
       "\n",
       "    .dataframe thead th {\n",
       "        text-align: right;\n",
       "    }\n",
       "</style>\n",
       "<table border=\"1\" class=\"dataframe\">\n",
       "  <thead>\n",
       "    <tr style=\"text-align: right;\">\n",
       "      <th></th>\n",
       "      <th>회사명</th>\n",
       "      <th>종목코드</th>\n",
       "      <th>업종</th>\n",
       "      <th>주요제품</th>\n",
       "      <th>상장일</th>\n",
       "      <th>결산월</th>\n",
       "      <th>대표자명</th>\n",
       "      <th>홈페이지</th>\n",
       "      <th>지역</th>\n",
       "    </tr>\n",
       "  </thead>\n",
       "  <tbody>\n",
       "    <tr>\n",
       "      <th>0</th>\n",
       "      <td>ES큐브</td>\n",
       "      <td>050120</td>\n",
       "      <td>생활용품 도매업</td>\n",
       "      <td>텐트, 원 ·부자재</td>\n",
       "      <td>2002-04-25</td>\n",
       "      <td>12월</td>\n",
       "      <td>신희민</td>\n",
       "      <td>http://www.escube.co.kr</td>\n",
       "      <td>서울특별시</td>\n",
       "    </tr>\n",
       "    <tr>\n",
       "      <th>1</th>\n",
       "      <td>ISC</td>\n",
       "      <td>095340</td>\n",
       "      <td>전자부품 제조업</td>\n",
       "      <td>반도체테스트소켓</td>\n",
       "      <td>2007-10-01</td>\n",
       "      <td>12월</td>\n",
       "      <td>김정렬, 김상욱 (각자 대표이사)</td>\n",
       "      <td>http://isc21.kr</td>\n",
       "      <td>경기도</td>\n",
       "    </tr>\n",
       "    <tr>\n",
       "      <th>2</th>\n",
       "      <td>JW신약</td>\n",
       "      <td>067290</td>\n",
       "      <td>의약품 제조업</td>\n",
       "      <td>매니큐어세트, 손톱깎이</td>\n",
       "      <td>2003-02-11</td>\n",
       "      <td>12월</td>\n",
       "      <td>백승호</td>\n",
       "      <td>http://www.cwsy.co.kr</td>\n",
       "      <td>서울특별시</td>\n",
       "    </tr>\n",
       "    <tr>\n",
       "      <th>3</th>\n",
       "      <td>KB오토시스</td>\n",
       "      <td>024120</td>\n",
       "      <td>자동차 신품 부품 제조업</td>\n",
       "      <td>브레이크패드</td>\n",
       "      <td>1994-12-07</td>\n",
       "      <td>12월</td>\n",
       "      <td>김신완</td>\n",
       "      <td>http://www.kbautosys.com</td>\n",
       "      <td>충청남도</td>\n",
       "    </tr>\n",
       "    <tr>\n",
       "      <th>4</th>\n",
       "      <td>KH바텍</td>\n",
       "      <td>060720</td>\n",
       "      <td>전자부품 제조업</td>\n",
       "      <td>휴대폰부품(SHIELD, BRACKET)</td>\n",
       "      <td>2002-05-21</td>\n",
       "      <td>12월</td>\n",
       "      <td>남광희</td>\n",
       "      <td>http://www.khvatec.com</td>\n",
       "      <td>경상북도</td>\n",
       "    </tr>\n",
       "  </tbody>\n",
       "</table>\n",
       "</div>"
      ],
      "text/plain": [
       "      회사명    종목코드             업종                    주요제품         상장일  결산월  \\\n",
       "0    ES큐브  050120       생활용품 도매업              텐트, 원 ·부자재  2002-04-25  12월   \n",
       "1     ISC  095340       전자부품 제조업                반도체테스트소켓  2007-10-01  12월   \n",
       "2    JW신약  067290        의약품 제조업            매니큐어세트, 손톱깎이  2003-02-11  12월   \n",
       "3  KB오토시스  024120  자동차 신품 부품 제조업                  브레이크패드  1994-12-07  12월   \n",
       "4    KH바텍  060720       전자부품 제조업  휴대폰부품(SHIELD, BRACKET)  2002-05-21  12월   \n",
       "\n",
       "                 대표자명                      홈페이지     지역  \n",
       "0                 신희민   http://www.escube.co.kr  서울특별시  \n",
       "1  김정렬, 김상욱 (각자 대표이사)           http://isc21.kr    경기도  \n",
       "2                 백승호     http://www.cwsy.co.kr  서울특별시  \n",
       "3                 김신완  http://www.kbautosys.com   충청남도  \n",
       "4                 남광희    http://www.khvatec.com   경상북도  "
      ]
     },
     "execution_count": 6,
     "metadata": {},
     "output_type": "execute_result"
    }
   ],
   "source": [
    "stock.head()"
   ]
  },
  {
   "cell_type": "markdown",
   "metadata": {},
   "source": [
    " 선정한 종목 중에서 거래대금 1조 이상인 날짜 수집\n",
    "- Date, Open, High, Close, Volume, Change"
   ]
  },
  {
   "cell_type": "code",
   "execution_count": 7,
   "metadata": {
    "ExecuteTime": {
     "end_time": "2022-11-21T13:55:37.563909Z",
     "start_time": "2022-11-21T13:52:34.015034Z"
    },
    "scrolled": true
   },
   "outputs": [
    {
     "name": "stderr",
     "output_type": "stream",
     "text": [
      "100%|██████████████████████████████████████████████████████████████████████████████| 1910/1910 [03:03<00:00, 10.41it/s]\n"
     ]
    }
   ],
   "source": [
    "dic_code2date = {}\n",
    "\n",
    "for code in tqdm(result.keys()):\n",
    "    sql_query = '''\n",
    "            SELECT * FROM \n",
    "            stock_{}\n",
    "            WHERE Date\n",
    "            BETWEEN '2018-01-01' AND '2021-12-31'\n",
    "    '''.format(code)\n",
    "    \n",
    "    stock = pd.read_sql(sql = sql_query , con = con)\n",
    "    lst_stock = stock.values.tolist()\n",
    "    for row in lst_stock:\n",
    "        date, close , volume, trading_val = row[0].date().strftime('%Y%m%d'), row[4],row[5],row[4]*row[5]\n",
    "        \n",
    "        if trading_val >= 1000000000000:\n",
    "            if code not in dic_code2date:\n",
    "                dic_code2date[code] = []\n",
    "                dic_code2date[code].append(date)\n",
    "            else:\n",
    "                dic_code2date[code].append(date)"
   ]
  },
  {
   "cell_type": "code",
   "execution_count": 8,
   "metadata": {
    "ExecuteTime": {
     "end_time": "2022-11-21T13:55:37.579856Z",
     "start_time": "2022-11-21T13:55:37.566882Z"
    }
   },
   "outputs": [],
   "source": [
    "OF = open('../data/assignment2.txt', 'w')\n",
    "for code,date in dic_code2date.items():\n",
    "    OF.write(f\"{code}\\t{date}\\n\")\n",
    "OF.close()"
   ]
  },
  {
   "cell_type": "code",
   "execution_count": 16,
   "metadata": {
    "ExecuteTime": {
     "end_time": "2022-11-21T14:33:46.214118Z",
     "start_time": "2022-11-21T14:33:37.766730Z"
    }
   },
   "outputs": [
    {
     "name": "stderr",
     "output_type": "stream",
     "text": [
      "100%|██████████████████████████████████████████████████████████████████████████████████| 82/82 [00:08<00:00,  9.73it/s]\n"
     ]
    }
   ],
   "source": [
    "OF=open('../data/assignment3.txt','w')\n",
    "\n",
    "lst_result = []\n",
    "\n",
    "for code in tqdm(dic_code2date.keys()):\n",
    "    sql_query = '''\n",
    "                SELECT *\n",
    "                FROM stock_{}\n",
    "                WHERE Date\n",
    "                BETWEEN '2018-01-01' AND '2021-12-31'\n",
    "                '''.format(code)\n",
    "    stock = pd.read_sql(sql = sql_query, con = con)\n",
    "    lst_stock = stock.values.tolist()  \n",
    "    \n",
    "    for i, row in enumerate(lst_stock):\n",
    "        \n",
    "        if (i < 10) or (i >= len(lst_stock)-1):\n",
    "            continue\n",
    "        \n",
    "   \n",
    "        date = row[0].date().strftime('%Y%m%d')\n",
    "        if date not in dic_code2date[code]:\n",
    "            \n",
    "            continue\n",
    "        D9_date = lst_stock[i-10:i+1]\n",
    "        lst_trading = []\n",
    "        \n",
    "        for row_trading in D9_date:\n",
    "            Open, High, Low, Close, Volume = row_trading[1:6]\n",
    "            Trading = Close * Volume\n",
    "            lst_trading += [Open, High, Low, Close, Trading]\n",
    "            \n",
    "        data = ','.join(map(str,lst_trading))\n",
    "        \n",
    "        target = int(lst_stock[i+1][-1]>=0.02)\n",
    "        result = '{}\\t{}\\t{}\\t{}\\n'.format(code, date, data, target)\n",
    "        lst_result.append([code, date, Trading, target])\n",
    "        OF.write(result)\n",
    "OF.close()"
   ]
  }
 ],
 "metadata": {
  "kernelspec": {
   "display_name": "Python 3",
   "language": "python",
   "name": "python3"
  },
  "language_info": {
   "codemirror_mode": {
    "name": "ipython",
    "version": 3
   },
   "file_extension": ".py",
   "mimetype": "text/x-python",
   "name": "python",
   "nbconvert_exporter": "python",
   "pygments_lexer": "ipython3",
   "version": "3.8.5"
  },
  "toc": {
   "base_numbering": 1,
   "nav_menu": {},
   "number_sections": true,
   "sideBar": true,
   "skip_h1_title": false,
   "title_cell": "Table of Contents",
   "title_sidebar": "Contents",
   "toc_cell": false,
   "toc_position": {},
   "toc_section_display": true,
   "toc_window_display": false
  }
 },
 "nbformat": 4,
 "nbformat_minor": 5
}
