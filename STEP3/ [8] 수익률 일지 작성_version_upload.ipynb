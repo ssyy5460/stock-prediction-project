{
 "cells": [
  {
   "cell_type": "code",
   "execution_count": 1,
   "metadata": {
    "ExecuteTime": {
     "end_time": "2022-12-01T14:29:04.639726Z",
     "start_time": "2022-12-01T14:28:59.077600Z"
    }
   },
   "outputs": [
    {
     "data": {
      "text/html": [
       "        <script type=\"text/javascript\">\n",
       "        window.PlotlyConfig = {MathJaxConfig: 'local'};\n",
       "        if (window.MathJax && window.MathJax.Hub && window.MathJax.Hub.Config) {window.MathJax.Hub.Config({SVG: {font: \"STIX-Web\"}});}\n",
       "        if (typeof require !== 'undefined') {\n",
       "        require.undef(\"plotly\");\n",
       "        requirejs.config({\n",
       "            paths: {\n",
       "                'plotly': ['https://cdn.plot.ly/plotly-2.12.1.min']\n",
       "            }\n",
       "        });\n",
       "        require(['plotly'], function(Plotly) {\n",
       "            window._Plotly = Plotly;\n",
       "        });\n",
       "        }\n",
       "        </script>\n",
       "        "
      ]
     },
     "metadata": {},
     "output_type": "display_data"
    }
   ],
   "source": [
    "import numpy as np\n",
    "import pandas as pd\n",
    "from sklearn import datasets\n",
    "import ipywidgets as widgets\n",
    "from ipywidgets import interact, interact_manual\n",
    "import cufflinks as cf\n",
    "cf.go_offline(connected=True)\n",
    "from tqdm import tqdm\n",
    "import datetime\n",
    "import matplotlib.pyplot as plt\n",
    "import numpy as np\n",
    "import seaborn as sns\n",
    "import pickle\n",
    "import pymysql\n",
    "from sklearn.linear_model import LogisticRegression\n",
    "import sklearn.metrics as metrics\n",
    "import warnings"
   ]
  },
  {
   "cell_type": "code",
   "execution_count": 2,
   "metadata": {},
   "outputs": [],
   "source": [
    "warnings.filterwarnings(action='ignore')"
   ]
  },
  {
   "cell_type": "markdown",
   "metadata": {
    "ExecuteTime": {
     "end_time": "2022-11-21T14:27:11.356704Z",
     "start_time": "2022-11-21T14:27:11.344212Z"
    }
   },
   "source": [
    "## 구축한 머신러닝 데이터 불러오기"
   ]
  },
  {
   "cell_type": "code",
   "execution_count": 3,
   "metadata": {
    "ExecuteTime": {
     "end_time": "2022-12-01T14:29:04.654688Z",
     "start_time": "2022-12-01T14:29:04.641721Z"
    }
   },
   "outputs": [],
   "source": [
    "def load_file(TYPE,trading, days,target):\n",
    "    with open('../data/{}_{}_{}_{}.pickle'.format(TYPE,trading, days,target), 'rb') as f:\n",
    "        data = pickle.load(f)\n",
    "    return data"
   ]
  },
  {
   "cell_type": "code",
   "execution_count": 4,
   "metadata": {
    "ExecuteTime": {
     "end_time": "2022-12-01T14:29:04.717556Z",
     "start_time": "2022-12-01T14:29:04.658676Z"
    }
   },
   "outputs": [],
   "source": [
    "def dump_model(model,trading, days,target):\n",
    "    with open('../model/{}_{}_{}_{}.pickle'.format(model,trading, days,target), 'wb') as f:\n",
    "        pickle.dump(model, f)"
   ]
  },
  {
   "cell_type": "code",
   "execution_count": 5,
   "metadata": {
    "ExecuteTime": {
     "end_time": "2022-12-01T14:29:04.733506Z",
     "start_time": "2022-12-01T14:29:04.721508Z"
    }
   },
   "outputs": [],
   "source": [
    "def load_model(model,trading, days,target):\n",
    "    with open('../model/{}_{}_{}_{}.pickle'.format(model,trading, days,target), 'rb') as f:\n",
    "        model = pickle.load(f)\n",
    "    return model"
   ]
  },
  {
   "cell_type": "code",
   "execution_count": 6,
   "metadata": {
    "ExecuteTime": {
     "end_time": "2022-12-01T14:29:19.359884Z",
     "start_time": "2022-12-01T14:29:04.736498Z"
    },
    "scrolled": true
   },
   "outputs": [],
   "source": [
    "train = load_file('train',1000000000000,10,0.02)\n",
    "test = load_file('test',1000000000000,10,0.02)"
   ]
  },
  {
   "cell_type": "markdown",
   "metadata": {},
   "source": [
    "### train"
   ]
  },
  {
   "cell_type": "code",
   "execution_count": 7,
   "metadata": {
    "ExecuteTime": {
     "end_time": "2022-12-01T14:29:51.877394Z",
     "start_time": "2022-12-01T14:29:19.385814Z"
    }
   },
   "outputs": [],
   "source": [
    "lst_code2date = []\n",
    "trainX = []\n",
    "trainY = []\n",
    "\n",
    "for line in train:\n",
    "    code, date, x, y = line\n",
    "    lst_code2date.append([code,date])\n",
    "    trainX.append(list(map(int, x.split(','))))\n",
    "    trainY.append(int(y))"
   ]
  },
  {
   "cell_type": "code",
   "execution_count": 8,
   "metadata": {
    "ExecuteTime": {
     "end_time": "2022-12-01T14:29:57.106415Z",
     "start_time": "2022-12-01T14:29:51.889364Z"
    }
   },
   "outputs": [],
   "source": [
    "trainX = np.array(trainX)\n",
    "trainY = np.array(trainY)"
   ]
  },
  {
   "cell_type": "markdown",
   "metadata": {},
   "source": [
    "## test"
   ]
  },
  {
   "cell_type": "code",
   "execution_count": 9,
   "metadata": {
    "ExecuteTime": {
     "end_time": "2022-12-01T14:30:05.874973Z",
     "start_time": "2022-12-01T14:29:57.153290Z"
    }
   },
   "outputs": [],
   "source": [
    "lst_code2date = []\n",
    "testX = []\n",
    "testY = []\n",
    "\n",
    "for line in test:\n",
    "    code, date, x, y = line\n",
    "    lst_code2date.append([code,date])\n",
    "    testX.append(list(map(int, x.split(','))))\n",
    "    testY.append(int(y))\n",
    "testX = np.array(testX)\n",
    "testY = np.array(testY)"
   ]
  },
  {
   "cell_type": "markdown",
   "metadata": {},
   "source": [
    "### Modeling"
   ]
  },
  {
   "cell_type": "code",
   "execution_count": 10,
   "metadata": {
    "ExecuteTime": {
     "end_time": "2022-12-01T14:30:09.104414Z",
     "start_time": "2022-12-01T14:30:05.876967Z"
    }
   },
   "outputs": [
    {
     "data": {
      "text/plain": [
       "LogisticRegression(random_state=42)"
      ]
     },
     "execution_count": 10,
     "metadata": {},
     "output_type": "execute_result"
    }
   ],
   "source": [
    "LR = LogisticRegression(random_state = 42)\n",
    "LR.fit(trainX, trainY)"
   ]
  },
  {
   "cell_type": "code",
   "execution_count": 11,
   "metadata": {
    "ExecuteTime": {
     "end_time": "2022-12-01T14:30:09.119375Z",
     "start_time": "2022-12-01T14:30:09.107407Z"
    }
   },
   "outputs": [],
   "source": [
    "dump_model(LR,1000000000000,10,0.02)"
   ]
  },
  {
   "cell_type": "code",
   "execution_count": 12,
   "metadata": {
    "ExecuteTime": {
     "end_time": "2022-12-01T14:30:09.213126Z",
     "start_time": "2022-12-01T14:30:09.121370Z"
    }
   },
   "outputs": [],
   "source": [
    "LR = load_model(LogisticRegression(random_state = 42),1000000000000,10,0.02)"
   ]
  },
  {
   "cell_type": "code",
   "execution_count": 13,
   "metadata": {
    "ExecuteTime": {
     "end_time": "2022-12-01T14:30:09.304878Z",
     "start_time": "2022-12-01T14:30:09.216116Z"
    }
   },
   "outputs": [],
   "source": [
    "predY = LR.predict_proba(testX) # predict_proba 함수는 예측한 값을 확률 값으로 출력\n",
    "predY2 = LR.predict(testX) # predict 함수는 예측한 값을 이진 값(1 또는 0)으로 출력"
   ]
  },
  {
   "cell_type": "code",
   "execution_count": 21,
   "metadata": {
    "ExecuteTime": {
     "end_time": "2022-12-01T14:30:09.365717Z",
     "start_time": "2022-12-01T14:30:09.306874Z"
    }
   },
   "outputs": [
    {
     "data": {
      "text/plain": [
       "array([[0.47270631, 0.52729369],\n",
       "       [0.48977521, 0.51022479],\n",
       "       [0.50975051, 0.49024949],\n",
       "       [0.49153171, 0.50846829],\n",
       "       [0.41687951, 0.58312049],\n",
       "       [0.64937167, 0.35062833],\n",
       "       [0.43121972, 0.56878028],\n",
       "       [0.49671836, 0.50328164],\n",
       "       [0.43118093, 0.56881907],\n",
       "       [0.57162541, 0.42837459],\n",
       "       [0.45877259, 0.54122741],\n",
       "       [0.45645762, 0.54354238],\n",
       "       [0.5212776 , 0.4787224 ],\n",
       "       [0.5562763 , 0.4437237 ],\n",
       "       [0.70471271, 0.29528729],\n",
       "       [0.42362539, 0.57637461],\n",
       "       [0.56194577, 0.43805423],\n",
       "       [0.47800619, 0.52199381],\n",
       "       [0.54822839, 0.45177161],\n",
       "       [0.52735642, 0.47264358],\n",
       "       [0.53410522, 0.46589478],\n",
       "       [0.47923608, 0.52076392],\n",
       "       [0.51399554, 0.48600446],\n",
       "       [0.48900469, 0.51099531],\n",
       "       [0.47057139, 0.52942861],\n",
       "       [0.46195777, 0.53804223],\n",
       "       [0.49344916, 0.50655084],\n",
       "       [0.47935649, 0.52064351],\n",
       "       [0.46373406, 0.53626594],\n",
       "       [0.58107086, 0.41892914],\n",
       "       [0.51752159, 0.48247841],\n",
       "       [0.46985431, 0.53014569],\n",
       "       [0.47801309, 0.52198691],\n",
       "       [0.51657665, 0.48342335],\n",
       "       [0.47936181, 0.52063819],\n",
       "       [0.4938323 , 0.5061677 ],\n",
       "       [0.47879593, 0.52120407],\n",
       "       [0.53503956, 0.46496044],\n",
       "       [0.46117999, 0.53882001],\n",
       "       [0.47654201, 0.52345799],\n",
       "       [0.52383432, 0.47616568],\n",
       "       [0.62225737, 0.37774263],\n",
       "       [0.44016825, 0.55983175],\n",
       "       [0.64184076, 0.35815924],\n",
       "       [0.47715296, 0.52284704],\n",
       "       [0.50888185, 0.49111815],\n",
       "       [0.48763913, 0.51236087],\n",
       "       [0.51837862, 0.48162138],\n",
       "       [0.51988835, 0.48011165],\n",
       "       [0.51450673, 0.48549327],\n",
       "       [0.47375664, 0.52624336],\n",
       "       [0.52173876, 0.47826124],\n",
       "       [0.50469939, 0.49530061],\n",
       "       [0.51403434, 0.48596566],\n",
       "       [0.52188415, 0.47811585],\n",
       "       [0.51762848, 0.48237152],\n",
       "       [0.48064272, 0.51935728],\n",
       "       [0.47390914, 0.52609086],\n",
       "       [0.50226125, 0.49773875],\n",
       "       [0.48288392, 0.51711608],\n",
       "       [0.59426786, 0.40573214],\n",
       "       [0.44794382, 0.55205618],\n",
       "       [0.63678297, 0.36321703],\n",
       "       [0.49226134, 0.50773866],\n",
       "       [0.49528365, 0.50471635],\n",
       "       [0.55828823, 0.44171177],\n",
       "       [0.47875612, 0.52124388],\n",
       "       [0.48586329, 0.51413671],\n",
       "       [0.4782009 , 0.5217991 ],\n",
       "       [0.47377173, 0.52622827],\n",
       "       [0.50245052, 0.49754948],\n",
       "       [0.58509241, 0.41490759],\n",
       "       [0.51902237, 0.48097763],\n",
       "       [0.52778252, 0.47221748],\n",
       "       [0.40609334, 0.59390666],\n",
       "       [0.38468416, 0.61531584],\n",
       "       [0.52052595, 0.47947405],\n",
       "       [0.5790981 , 0.4209019 ],\n",
       "       [0.38264484, 0.61735516],\n",
       "       [0.48710785, 0.51289215],\n",
       "       [0.48617302, 0.51382698],\n",
       "       [0.47911028, 0.52088972],\n",
       "       [0.54520266, 0.45479734],\n",
       "       [0.47262362, 0.52737638],\n",
       "       [0.48431072, 0.51568928],\n",
       "       [0.556119  , 0.443881  ],\n",
       "       [0.48439736, 0.51560264],\n",
       "       [0.49427169, 0.50572831],\n",
       "       [0.48045936, 0.51954064],\n",
       "       [0.4785469 , 0.5214531 ],\n",
       "       [0.47735657, 0.52264343],\n",
       "       [0.4767988 , 0.5232012 ],\n",
       "       [0.48176953, 0.51823047],\n",
       "       [0.50763406, 0.49236594],\n",
       "       [0.51394184, 0.48605816],\n",
       "       [0.51469019, 0.48530981],\n",
       "       [0.48090383, 0.51909617],\n",
       "       [0.49247091, 0.50752909],\n",
       "       [0.5249617 , 0.4750383 ],\n",
       "       [0.51619268, 0.48380732],\n",
       "       [0.48525874, 0.51474126],\n",
       "       [0.50459971, 0.49540029],\n",
       "       [0.52884447, 0.47115553],\n",
       "       [0.54836532, 0.45163468],\n",
       "       [0.54648522, 0.45351478],\n",
       "       [0.45454302, 0.54545698],\n",
       "       [0.49010562, 0.50989438],\n",
       "       [0.4711972 , 0.5288028 ],\n",
       "       [0.46250967, 0.53749033],\n",
       "       [0.52719558, 0.47280442],\n",
       "       [0.47284623, 0.52715377],\n",
       "       [0.51751107, 0.48248893],\n",
       "       [0.48189436, 0.51810564],\n",
       "       [0.48281861, 0.51718139],\n",
       "       [0.48373977, 0.51626023],\n",
       "       [0.51100773, 0.48899227],\n",
       "       [0.51706378, 0.48293622],\n",
       "       [0.47943339, 0.52056661],\n",
       "       [0.49968989, 0.50031011],\n",
       "       [0.51546984, 0.48453016],\n",
       "       [0.49227469, 0.50772531],\n",
       "       [0.50498933, 0.49501067],\n",
       "       [0.50208275, 0.49791725],\n",
       "       [0.48123746, 0.51876254],\n",
       "       [0.51134109, 0.48865891],\n",
       "       [0.51179859, 0.48820141],\n",
       "       [0.53686485, 0.46313515],\n",
       "       [0.48536399, 0.51463601],\n",
       "       [0.52330572, 0.47669428],\n",
       "       [0.48758396, 0.51241604],\n",
       "       [0.51070808, 0.48929192],\n",
       "       [0.5046865 , 0.4953135 ],\n",
       "       [0.48360902, 0.51639098],\n",
       "       [0.48816392, 0.51183608],\n",
       "       [0.49005193, 0.50994807],\n",
       "       [0.50302005, 0.49697995],\n",
       "       [0.50298209, 0.49701791],\n",
       "       [0.50188339, 0.49811661],\n",
       "       [0.4844255 , 0.5155745 ],\n",
       "       [0.54517545, 0.45482455],\n",
       "       [0.46965205, 0.53034795],\n",
       "       [0.52492717, 0.47507283],\n",
       "       [0.49357183, 0.50642817],\n",
       "       [0.48195602, 0.51804398],\n",
       "       [0.49378078, 0.50621922],\n",
       "       [0.52861565, 0.47138435],\n",
       "       [0.49335375, 0.50664625],\n",
       "       [0.51562887, 0.48437113],\n",
       "       [0.47629704, 0.52370296],\n",
       "       [0.5085229 , 0.4914771 ],\n",
       "       [0.47916939, 0.52083061],\n",
       "       [0.50990485, 0.49009515],\n",
       "       [0.5307519 , 0.4692481 ],\n",
       "       [0.55860753, 0.44139247],\n",
       "       [0.54250041, 0.45749959],\n",
       "       [0.47568151, 0.52431849],\n",
       "       [0.47556033, 0.52443967],\n",
       "       [0.47487001, 0.52512999],\n",
       "       [0.47487619, 0.52512381],\n",
       "       [0.52945404, 0.47054596],\n",
       "       [0.47250017, 0.52749983],\n",
       "       [0.47486612, 0.52513388],\n",
       "       [0.46825364, 0.53174636],\n",
       "       [0.51585211, 0.48414789],\n",
       "       [0.48073782, 0.51926218],\n",
       "       [0.48387586, 0.51612414],\n",
       "       [0.57073793, 0.42926207],\n",
       "       [0.51057933, 0.48942067],\n",
       "       [0.49320916, 0.50679084],\n",
       "       [0.48321721, 0.51678279],\n",
       "       [0.48231109, 0.51768891],\n",
       "       [0.50207996, 0.49792004],\n",
       "       [0.48653646, 0.51346354],\n",
       "       [0.50479153, 0.49520847],\n",
       "       [0.49975074, 0.50024926],\n",
       "       [0.51271963, 0.48728037],\n",
       "       [0.48250869, 0.51749131],\n",
       "       [0.49466718, 0.50533282],\n",
       "       [0.53412226, 0.46587774],\n",
       "       [0.49071451, 0.50928549],\n",
       "       [0.51730791, 0.48269209],\n",
       "       [0.48004064, 0.51995936],\n",
       "       [0.54122401, 0.45877599],\n",
       "       [0.46889827, 0.53110173],\n",
       "       [0.44719667, 0.55280333],\n",
       "       [0.52716813, 0.47283187],\n",
       "       [0.46547994, 0.53452006]])"
      ]
     },
     "execution_count": 21,
     "metadata": {},
     "output_type": "execute_result"
    }
   ],
   "source": [
    "predY"
   ]
  },
  {
   "cell_type": "code",
   "execution_count": 15,
   "metadata": {
    "ExecuteTime": {
     "end_time": "2022-12-01T14:30:09.395636Z",
     "start_time": "2022-12-01T14:30:09.371709Z"
    }
   },
   "outputs": [
    {
     "data": {
      "text/plain": [
       "array([1, 1, 0, 1, 1, 0, 1, 1, 1, 0, 1, 1, 0, 0, 0, 1, 0, 1, 0, 0, 0, 1,\n",
       "       0, 1, 1, 1, 1, 1, 1, 0, 0, 1, 1, 0, 1, 1, 1, 0, 1, 1, 0, 0, 1, 0,\n",
       "       1, 0, 1, 0, 0, 0, 1, 0, 0, 0, 0, 0, 1, 1, 0, 1, 0, 1, 0, 1, 1, 0,\n",
       "       1, 1, 1, 1, 0, 0, 0, 0, 1, 1, 0, 0, 1, 1, 1, 1, 0, 1, 1, 0, 1, 1,\n",
       "       1, 1, 1, 1, 1, 0, 0, 0, 1, 1, 0, 0, 1, 0, 0, 0, 0, 1, 1, 1, 1, 0,\n",
       "       1, 0, 1, 1, 1, 0, 0, 1, 1, 0, 1, 0, 0, 1, 0, 0, 0, 1, 0, 1, 0, 0,\n",
       "       1, 1, 1, 0, 0, 0, 1, 0, 1, 0, 1, 1, 1, 0, 1, 0, 1, 0, 1, 0, 0, 0,\n",
       "       0, 1, 1, 1, 1, 0, 1, 1, 1, 0, 1, 1, 0, 0, 1, 1, 1, 0, 1, 0, 1, 0,\n",
       "       1, 1, 0, 1, 0, 1, 0, 1, 1, 0, 1])"
      ]
     },
     "execution_count": 15,
     "metadata": {},
     "output_type": "execute_result"
    }
   ],
   "source": [
    "predY2"
   ]
  },
  {
   "cell_type": "markdown",
   "metadata": {},
   "source": [
    "## 주문 요청 일지"
   ]
  },
  {
   "cell_type": "code",
   "execution_count": 16,
   "metadata": {
    "ExecuteTime": {
     "end_time": "2022-12-01T15:00:11.683079Z",
     "start_time": "2022-12-01T15:00:11.036764Z"
    }
   },
   "outputs": [],
   "source": [
    "lst_output = []\n",
    "\n",
    "for (code,date),y in zip(lst_code2date, predY):\n",
    "    if y[1] >= 0.7:\n",
    "        lst_output.append([code, date, 'buy','r50'])\n",
    "        lst_output.append([code, date+\"n\", 'sell', 'all'])\n",
    "    elif y[1] >= 0.5:\n",
    "        lst_output.append([code, date, 'buy', 'r30'])\n",
    "        lst_output.append([code, date+\"n\", 'sell', 'all'])\n",
    "    elif y[1] >= 0.3:\n",
    "        lst_output.append([code, date, 'buy', 'r10'])\n",
    "        lst_output.append([code, date+\"n\", 'sell', 'all'])"
   ]
  },
  {
   "cell_type": "code",
   "execution_count": 17,
   "metadata": {
    "ExecuteTime": {
     "end_time": "2022-12-01T15:00:13.465368Z",
     "start_time": "2022-12-01T15:00:12.724306Z"
    }
   },
   "outputs": [],
   "source": [
    "lst_output.sort(key = lambda x: x[1]) # date 기준으로 주문 요청 결과 정렬\n",
    "\n",
    "OF = open('../data/order_request.txt','w')\n",
    "for row in lst_output:\n",
    "    OF.write('\\t'.join(map(str, row)) + '\\n')\n",
    "OF.close()"
   ]
  },
  {
   "cell_type": "code",
   "execution_count": 18,
   "metadata": {
    "ExecuteTime": {
     "end_time": "2022-12-01T16:29:57.716999Z",
     "start_time": "2022-12-01T16:29:57.666078Z"
    }
   },
   "outputs": [],
   "source": [
    "# database\n",
    "con = pymysql.connect(\n",
    "\n",
    ")\n",
    "\n",
    "cursor = con.cursor()"
   ]
  },
  {
   "cell_type": "markdown",
   "metadata": {},
   "source": [
    "## 수익률 계산"
   ]
  },
  {
   "cell_type": "code",
   "execution_count": 19,
   "metadata": {
    "ExecuteTime": {
     "start_time": "2022-12-01T16:30:01.520Z"
    }
   },
   "outputs": [
    {
     "name": "stderr",
     "output_type": "stream",
     "text": [
      "372it [00:04, 89.42it/s]"
     ]
    },
    {
     "name": "stdout",
     "output_type": "stream",
     "text": [
      "Final earning rate : -28.06787 %\n"
     ]
    },
    {
     "name": "stderr",
     "output_type": "stream",
     "text": [
      "\n"
     ]
    }
   ],
   "source": [
    "start_money = 10000000 # 초기 현금 1천만원\n",
    "money = start_money\n",
    "dic_code2num ={}  # 보유 종목\n",
    "\n",
    "\n",
    "IF = open('../data/order_request.txt','r')\n",
    "for i, line in tqdm(enumerate(IF)): #주문 일지를 한 줄 읽어 옴\n",
    "    code, date, request, amount = line.strip().split(\"\\t\")\n",
    "    \n",
    "    ##############################################################################################\n",
    "    sql_query = '''\n",
    "                SELECT *\n",
    "                FROM stock_{}\n",
    "                WHERE Date\n",
    "                BETWEEN '2021-01-01' AND '2021-07-01'\n",
    "                '''.format(code)\n",
    "    stock = pd.read_sql(sql = sql_query, con = con)\n",
    "    lst_stock = stock.values.tolist()\n",
    "    \n",
    "    for idx, row in enumerate(lst_stock):\n",
    "        Date = row[0].strftime('%Y%m%d')        \n",
    "        if date.endswith('n'):\n",
    "            if date.rstrip('n') == Date:\n",
    "                sell_close = lst_stock[idx+1][4]\n",
    "        elif date == Date:\n",
    "            buy_close = lst_stock[idx][4]\n",
    "\n",
    "    ##############################################################################################\n",
    "    \n",
    "    if request == 'buy': # buy인 경우\n",
    "        if amount.startswith('r'):\n",
    "            request_money = money * float(amount.lstrip(\"r\")) / 100\n",
    "        elif amount == 'all':\n",
    "            request_money = money\n",
    "        elif amount.isdigit():\n",
    "            request_money = int(amount)\n",
    "        # elif amount == ~~~~~    ##### 기타 필요한 매수 요청 옵션이 있을 시 작성\n",
    "        else:\n",
    "            raise Exception('Not permitted option')\n",
    "        request_money = min(request_money, money)\n",
    "        buy_num = int(request_money / buy_close)\n",
    "        money -= buy_num * buy_close  # 현재 금액(money)을 실제 매수액을 뺀 만큼 업데이트\n",
    "        if code not in dic_code2num:\n",
    "            dic_code2num[code] = 0\n",
    "        dic_code2num[code] += buy_num # 보유 종목 데이터에 구매 종목(code)를 매수 개수 만큼 증가\n",
    "    if request == 'sell': # sell인 경우\n",
    "        if amount == 'all':\n",
    "            sell_num = dic_code2num[code]\n",
    "        # elif amount == ~~~~~    ##### 기타 필요한 매도 요청 옵션이 있을 시 작성\n",
    "        else:\n",
    "            raise Exception('Not permitted option')            \n",
    "        money += sell_num * sell_close\n",
    "        dic_code2num[code] -= sell_num\n",
    "        if dic_code2num[code] == 0:\n",
    "            del dic_code2num[code]\n",
    "IF.close()            \n",
    "            \n",
    "if dic_code2num != {}: # 매매가 종료되었는데 보유 종목이 있으면\n",
    "    raise Exception('Not empty stock') \n",
    "\n",
    "print(\"Final earning rate : {} %\".format(str((money-start_money) / start_money * 100)))"
   ]
  }
 ],
 "metadata": {
  "kernelspec": {
   "display_name": "Python 3",
   "language": "python",
   "name": "python3"
  },
  "language_info": {
   "codemirror_mode": {
    "name": "ipython",
    "version": 3
   },
   "file_extension": ".py",
   "mimetype": "text/x-python",
   "name": "python",
   "nbconvert_exporter": "python",
   "pygments_lexer": "ipython3",
   "version": "3.8.5"
  },
  "toc": {
   "base_numbering": 1,
   "nav_menu": {},
   "number_sections": true,
   "sideBar": true,
   "skip_h1_title": false,
   "title_cell": "Table of Contents",
   "title_sidebar": "Contents",
   "toc_cell": false,
   "toc_position": {},
   "toc_section_display": true,
   "toc_window_display": false
  }
 },
 "nbformat": 4,
 "nbformat_minor": 4
}
