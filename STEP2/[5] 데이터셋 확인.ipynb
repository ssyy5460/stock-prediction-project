{
 "cells": [
  {
   "cell_type": "code",
   "execution_count": 1,
   "metadata": {
    "ExecuteTime": {
     "end_time": "2022-11-27T09:55:23.562449Z",
     "start_time": "2022-11-27T09:55:17.407885Z"
    }
   },
   "outputs": [
    {
     "data": {
      "text/html": [
       "        <script type=\"text/javascript\">\n",
       "        window.PlotlyConfig = {MathJaxConfig: 'local'};\n",
       "        if (window.MathJax) {MathJax.Hub.Config({SVG: {font: \"STIX-Web\"}});}\n",
       "        if (typeof require !== 'undefined') {\n",
       "        require.undef(\"plotly\");\n",
       "        requirejs.config({\n",
       "            paths: {\n",
       "                'plotly': ['https://cdn.plot.ly/plotly-2.11.1.min']\n",
       "            }\n",
       "        });\n",
       "        require(['plotly'], function(Plotly) {\n",
       "            window._Plotly = Plotly;\n",
       "        });\n",
       "        }\n",
       "        </script>\n",
       "        "
      ]
     },
     "metadata": {},
     "output_type": "display_data"
    }
   ],
   "source": [
    "import numpy as np\n",
    "import pandas as pd\n",
    "from sklearn import datasets\n",
    "import ipywidgets as widgets\n",
    "from ipywidgets import interact, interact_manual\n",
    "import cufflinks as cf\n",
    "cf.go_offline(connected=True)\n",
    "from tqdm import tqdm\n",
    "import datetime\n",
    "import matplotlib.pyplot as plt\n",
    "import numpy as np\n",
    "import seaborn as sns\n",
    "import pickle\n",
    "import pymysql"
   ]
  },
  {
   "cell_type": "code",
   "execution_count": 7,
   "metadata": {
    "ExecuteTime": {
     "end_time": "2022-11-27T09:57:30.258486Z",
     "start_time": "2022-11-27T09:57:30.241533Z"
    }
   },
   "outputs": [],
   "source": [
    "def load_file(TYPE,trading, days,target):\n",
    "    with open('../data/{}_{}_{}_{}.pickle'.format(TYPE,trading, days,target), 'rb') as f:\n",
    "        data = pickle.load(f)\n",
    "    return data"
   ]
  },
  {
   "cell_type": "markdown",
   "metadata": {},
   "source": [
    "# change 0.02"
   ]
  },
  {
   "cell_type": "code",
   "execution_count": 9,
   "metadata": {
    "ExecuteTime": {
     "end_time": "2022-11-27T09:57:52.637481Z",
     "start_time": "2022-11-27T09:57:52.611551Z"
    }
   },
   "outputs": [
    {
     "name": "stdout",
     "output_type": "stream",
     "text": [
      "(350, 4) (187, 4)\n"
     ]
    }
   ],
   "source": [
    "a = load_file('train',1000000000000, 10, 0.02)\n",
    "b = load_file('test',1000000000000, 10, 0.02)\n",
    "print(a.shape, b.shape)"
   ]
  },
  {
   "cell_type": "code",
   "execution_count": 10,
   "metadata": {
    "ExecuteTime": {
     "end_time": "2022-11-27T09:58:07.994801Z",
     "start_time": "2022-11-27T09:58:07.830158Z"
    }
   },
   "outputs": [
    {
     "name": "stdout",
     "output_type": "stream",
     "text": [
      "(11977, 4) (4469, 4)\n"
     ]
    }
   ],
   "source": [
    "a = load_file('train',100000000000, 10, 0.02)\n",
    "b = load_file('test',100000000000, 10, 0.02)\n",
    "print(a.shape, b.shape)"
   ]
  },
  {
   "cell_type": "code",
   "execution_count": 11,
   "metadata": {
    "ExecuteTime": {
     "end_time": "2022-11-27T09:58:13.806963Z",
     "start_time": "2022-11-27T09:58:11.814258Z"
    }
   },
   "outputs": [
    {
     "name": "stdout",
     "output_type": "stream",
     "text": [
      "(133800, 4) (35306, 4)\n"
     ]
    }
   ],
   "source": [
    "a = load_file('train',10000000000, 10, 0.02)\n",
    "b = load_file('test',10000000000, 10, 0.02)\n",
    "print(a.shape, b.shape)"
   ]
  },
  {
   "cell_type": "code",
   "execution_count": 12,
   "metadata": {
    "ExecuteTime": {
     "end_time": "2022-11-27T09:58:43.340436Z",
     "start_time": "2022-11-27T09:58:17.513902Z"
    }
   },
   "outputs": [
    {
     "name": "stdout",
     "output_type": "stream",
     "text": [
      "(513107, 4) (120482, 4)\n"
     ]
    }
   ],
   "source": [
    "a = load_file('train',1000000000, 10, 0.02)\n",
    "b = load_file('test',1000000000, 10, 0.02)\n",
    "print(a.shape, b.shape)"
   ]
  },
  {
   "cell_type": "code",
   "execution_count": 14,
   "metadata": {
    "ExecuteTime": {
     "end_time": "2022-11-27T09:59:55.070576Z",
     "start_time": "2022-11-27T09:58:46.331413Z"
    }
   },
   "outputs": [
    {
     "name": "stdout",
     "output_type": "stream",
     "text": [
      "(972422, 4) (173246, 4)\n"
     ]
    }
   ],
   "source": [
    "a = load_file('train',100000000, 10, 0.02)\n",
    "b = load_file('test',100000000, 10, 0.02)\n",
    "print(a.shape, b.shape)"
   ]
  },
  {
   "cell_type": "markdown",
   "metadata": {},
   "source": [
    "# change 0.05"
   ]
  },
  {
   "cell_type": "code",
   "execution_count": 15,
   "metadata": {
    "ExecuteTime": {
     "end_time": "2022-11-27T09:59:56.584526Z",
     "start_time": "2022-11-27T09:59:55.083541Z"
    }
   },
   "outputs": [
    {
     "name": "stdout",
     "output_type": "stream",
     "text": [
      "(350, 4) (187, 4)\n"
     ]
    }
   ],
   "source": [
    "a = load_file('train',1000000000000, 10, 0.05)\n",
    "b = load_file('test',1000000000000, 10, 0.05)\n",
    "print(a.shape, b.shape)"
   ]
  },
  {
   "cell_type": "code",
   "execution_count": 16,
   "metadata": {
    "ExecuteTime": {
     "end_time": "2022-11-27T09:59:56.848819Z",
     "start_time": "2022-11-27T09:59:56.594500Z"
    }
   },
   "outputs": [
    {
     "name": "stdout",
     "output_type": "stream",
     "text": [
      "(11977, 4) (4469, 4)\n"
     ]
    }
   ],
   "source": [
    "a = load_file('train',100000000000, 10, 0.05)\n",
    "b = load_file('test',100000000000, 10, 0.05)\n",
    "print(a.shape, b.shape)"
   ]
  },
  {
   "cell_type": "code",
   "execution_count": 17,
   "metadata": {
    "ExecuteTime": {
     "end_time": "2022-11-27T09:59:58.890362Z",
     "start_time": "2022-11-27T09:59:56.855807Z"
    }
   },
   "outputs": [
    {
     "name": "stdout",
     "output_type": "stream",
     "text": [
      "(133800, 4) (35306, 4)\n"
     ]
    }
   ],
   "source": [
    "a = load_file('train',10000000000, 10, 0.05)\n",
    "b = load_file('test',10000000000, 10, 0.05)\n",
    "print(a.shape, b.shape)"
   ]
  },
  {
   "cell_type": "code",
   "execution_count": 18,
   "metadata": {
    "ExecuteTime": {
     "end_time": "2022-11-27T10:00:27.674663Z",
     "start_time": "2022-11-27T09:59:58.895349Z"
    }
   },
   "outputs": [
    {
     "name": "stdout",
     "output_type": "stream",
     "text": [
      "(513107, 4) (120482, 4)\n"
     ]
    }
   ],
   "source": [
    "a = load_file('train',1000000000, 10, 0.05)\n",
    "b = load_file('test',1000000000, 10, 0.05)\n",
    "print(a.shape, b.shape)"
   ]
  },
  {
   "cell_type": "code",
   "execution_count": 19,
   "metadata": {
    "ExecuteTime": {
     "end_time": "2022-11-27T10:01:51.957675Z",
     "start_time": "2022-11-27T10:00:27.682641Z"
    }
   },
   "outputs": [
    {
     "name": "stdout",
     "output_type": "stream",
     "text": [
      "(972422, 4) (173246, 4)\n"
     ]
    }
   ],
   "source": [
    "a = load_file('train',100000000, 10, 0.05)\n",
    "b = load_file('test',100000000, 10, 0.05)\n",
    "print(a.shape, b.shape)"
   ]
  }
 ],
 "metadata": {
  "kernelspec": {
   "display_name": "Python 3",
   "language": "python",
   "name": "python3"
  },
  "language_info": {
   "codemirror_mode": {
    "name": "ipython",
    "version": 3
   },
   "file_extension": ".py",
   "mimetype": "text/x-python",
   "name": "python",
   "nbconvert_exporter": "python",
   "pygments_lexer": "ipython3",
   "version": "3.8.5"
  },
  "toc": {
   "base_numbering": 1,
   "nav_menu": {},
   "number_sections": true,
   "sideBar": true,
   "skip_h1_title": false,
   "title_cell": "Table of Contents",
   "title_sidebar": "Contents",
   "toc_cell": false,
   "toc_position": {},
   "toc_section_display": true,
   "toc_window_display": false
  }
 },
 "nbformat": 4,
 "nbformat_minor": 4
}
