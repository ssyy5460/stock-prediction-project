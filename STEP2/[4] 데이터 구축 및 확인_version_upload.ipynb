{
 "cells": [
  {
   "cell_type": "code",
   "execution_count": 1,
   "metadata": {
    "ExecuteTime": {
     "end_time": "2022-11-27T08:01:08.330252Z",
     "start_time": "2022-11-27T08:01:03.372415Z"
    },
    "scrolled": true
   },
   "outputs": [
    {
     "data": {
      "text/html": [
       "        <script type=\"text/javascript\">\n",
       "        window.PlotlyConfig = {MathJaxConfig: 'local'};\n",
       "        if (window.MathJax) {MathJax.Hub.Config({SVG: {font: \"STIX-Web\"}});}\n",
       "        if (typeof require !== 'undefined') {\n",
       "        require.undef(\"plotly\");\n",
       "        requirejs.config({\n",
       "            paths: {\n",
       "                'plotly': ['https://cdn.plot.ly/plotly-2.11.1.min']\n",
       "            }\n",
       "        });\n",
       "        require(['plotly'], function(Plotly) {\n",
       "            window._Plotly = Plotly;\n",
       "        });\n",
       "        }\n",
       "        </script>\n",
       "        "
      ]
     },
     "metadata": {},
     "output_type": "display_data"
    }
   ],
   "source": [
    "import numpy as np\n",
    "import pandas as pd\n",
    "from sklearn import datasets\n",
    "import ipywidgets as widgets\n",
    "from ipywidgets import interact, interact_manual\n",
    "import cufflinks as cf\n",
    "cf.go_offline(connected=True)\n",
    "from tqdm import tqdm\n",
    "import datetime\n",
    "import matplotlib.pyplot as plt\n",
    "import numpy as np\n",
    "import seaborn as sns\n",
    "import pickle\n",
    "import pymysql"
   ]
  },
  {
   "cell_type": "markdown",
   "metadata": {},
   "source": [
    "# 데이터셋 구축 & 파일저장 함수"
   ]
  },
  {
   "cell_type": "code",
   "execution_count": 1,
   "metadata": {
    "ExecuteTime": {
     "end_time": "2022-12-08T10:35:50.260210Z",
     "start_time": "2022-12-08T10:35:50.225303Z"
    }
   },
   "outputs": [],
   "source": [
    "def make_data_train(trading, days, target): \n",
    "    # 코드 리스트 \n",
    "   \n",
    "    IF=open(\"../data/code_list.txt\", 'r')\n",
    "    lst_code = IF.readlines()\n",
    "    \n",
    "    # trainX, trainY\n",
    "    lst_trainX = []\n",
    "    lst_trainY = []\n",
    "    lst_data = []\n",
    "    lst_target = []\n",
    "    \n",
    "    # database\n",
    "    con = pymysql.connect(\n",
    "    )\n",
    "\n",
    "    cursor = con.cursor()\n",
    " \n",
    "    for line in tqdm(lst_code): \n",
    "        code = line.strip()\n",
    "        sql_query = '''\n",
    "                    SELECT *\n",
    "                    FROM stock_{}\n",
    "                    WHERE Date\n",
    "                    BETWEEN '2018-01-01' AND '2020-12-31'\n",
    "                    '''.format(code)\n",
    "        stock = pd.read_sql(sql = sql_query, con = con)\n",
    "        lst_stock = stock.values.tolist()  \n",
    "\n",
    "\n",
    "        for i, row in enumerate(lst_stock): \n",
    "            date, close, volume = row[0].strftime('%Y%m%d'), row[4], row[5]\n",
    "            # 거래대금, 이동평균선 범위 조건\n",
    "            if (close * volume >= trading) :\n",
    "                if i < (days-1):   # 예외 처리 \n",
    "                    continue                               \n",
    "\n",
    "                lst_result = []\n",
    "                \n",
    "                Ddays_date = lst_stock[i-(days-1):i+1]\n",
    "                                           \n",
    "                for row2 in Ddays_date:\n",
    "                    Open,High,Low,Close,Volume = row2[1:6]\n",
    "                    Trading = Close * Volume\n",
    "                    lst_result += [Open,High,Low,Close,Trading]\n",
    "                y = int(row[6] >= target)\n",
    "                target = float(row[6])\n",
    "                \n",
    "                data = ','.join(map(str,lst_result))\n",
    "                \n",
    "                lst_trainX.append(data)\n",
    "                lst_trainY.append(y)\n",
    "                lst_data.append([code,date,data,y])\n",
    "                lst_target.append(target)\n",
    "    return np.array(lst_trainX), np.array(lst_trainY),np.array(lst_data),np.array(lst_target)"
   ]
  },
  {
   "cell_type": "code",
   "execution_count": 2,
   "metadata": {
    "ExecuteTime": {
     "end_time": "2022-12-08T10:35:56.588291Z",
     "start_time": "2022-12-08T10:35:56.557375Z"
    }
   },
   "outputs": [],
   "source": [
    "def make_data_test(trading, days, target): \n",
    "    # 코드 리스트 \n",
    "   \n",
    "    IF=open(\"../data/code_list.txt\", 'r')\n",
    "    lst_code = IF.readlines()\n",
    "    \n",
    "\n",
    "    lst_testX = []\n",
    "    lst_testY = []\n",
    "    lst_data = []\n",
    "    lst_target = []\n",
    "    \n",
    "    # database\n",
    "    con = pymysql.connect(\n",
    "\n",
    "    )\n",
    "\n",
    "    cursor = con.cursor()\n",
    " \n",
    "    for line in tqdm(lst_code): \n",
    "        code = line.strip()\n",
    "        sql_query = '''\n",
    "                    SELECT *\n",
    "                    FROM stock_{}\n",
    "                    WHERE Date\n",
    "                    BETWEEN '2021-01-01' AND '2021-06-30'\n",
    "                    '''.format(code)\n",
    "        stock = pd.read_sql(sql = sql_query, con = con)\n",
    "        lst_stock = stock.values.tolist()  \n",
    "\n",
    "\n",
    "        for i, row in enumerate(lst_stock): \n",
    "            date, close, volume = row[0].strftime('%Y%m%d'), row[4], row[5]\n",
    "            # 거래대금, 이동평균선 범위 조건\n",
    "            if (close * volume >= trading) :\n",
    "                if i < (days-1):   # 예외 처리 \n",
    "                    continue                               \n",
    "\n",
    "                lst_result = []\n",
    "                \n",
    "                Ddays_date = lst_stock[i-(days-1):i+1]\n",
    "                                           \n",
    "                for row2 in Ddays_date:\n",
    "                    Open,High,Low,Close,Volume = row2[1:6]\n",
    "                    Trading = Close * Volume\n",
    "                    lst_result += [Open,High,Low,Close,Trading]\n",
    "                y = int(row[6] >= target)\n",
    "                target = float(row[6])\n",
    "                data = ','.join(map(str,lst_result))\n",
    "                \n",
    "                lst_testX.append(data)\n",
    "                lst_testY.append(y)\n",
    "                lst_data.append([code,date,data,y])\n",
    "                lst_target.append(target)\n",
    "    return np.array(lst_testX), np.array(lst_testY),np.array(lst_data),np.array(lst_target)"
   ]
  },
  {
   "cell_type": "code",
   "execution_count": 54,
   "metadata": {
    "ExecuteTime": {
     "end_time": "2022-11-27T08:32:57.813948Z",
     "start_time": "2022-11-27T08:32:57.809958Z"
    }
   },
   "outputs": [],
   "source": [
    "def dump_file(TYPE, trading, days,target,data):\n",
    "    with open('../data/{}_{}_{}_{}.pickle'.format(TYPE,trading, days,target), 'wb') as f:\n",
    "        pickle.dump(data, f)"
   ]
  },
  {
   "cell_type": "code",
   "execution_count": 102,
   "metadata": {
    "ExecuteTime": {
     "end_time": "2022-11-27T09:57:19.541078Z",
     "start_time": "2022-11-27T09:57:19.535093Z"
    }
   },
   "outputs": [],
   "source": [
    "def load_file(TYPE,trading, days,target):\n",
    "    with open('../data/{}_{}_{}_{}.pickle'.format(TYPE,trading, days,target), 'rb') as f:\n",
    "        data = pickle.load(f)\n",
    "    return data"
   ]
  },
  {
   "cell_type": "markdown",
   "metadata": {
    "ExecuteTime": {
     "end_time": "2022-11-27T08:42:36.871753Z",
     "start_time": "2022-11-27T08:42:36.854802Z"
    }
   },
   "source": [
    "# Change 0.02\n",
    "## 거래대금 1조 "
   ]
  },
  {
   "cell_type": "code",
   "execution_count": 65,
   "metadata": {
    "ExecuteTime": {
     "end_time": "2022-11-27T08:45:01.247754Z",
     "start_time": "2022-11-27T08:43:54.705434Z"
    },
    "scrolled": true
   },
   "outputs": [
    {
     "name": "stderr",
     "output_type": "stream",
     "text": [
      "100%|██████████████████████████████████████████████████████████████████████████████| 1561/1561 [01:06<00:00, 23.49it/s]\n"
     ]
    }
   ],
   "source": [
    "trainX, trainY,train_data,train_target= make_data_train(1000000000000, 10, 0.02)"
   ]
  },
  {
   "cell_type": "code",
   "execution_count": 66,
   "metadata": {
    "ExecuteTime": {
     "end_time": "2022-11-27T08:45:29.381046Z",
     "start_time": "2022-11-27T08:45:01.250748Z"
    },
    "scrolled": true
   },
   "outputs": [
    {
     "name": "stderr",
     "output_type": "stream",
     "text": [
      "100%|██████████████████████████████████████████████████████████████████████████████| 1561/1561 [00:28<00:00, 55.61it/s]\n"
     ]
    }
   ],
   "source": [
    "testX, testY,test_data,test_target= make_data_test(1000000000000, 10, 0.02)"
   ]
  },
  {
   "cell_type": "code",
   "execution_count": 67,
   "metadata": {
    "ExecuteTime": {
     "end_time": "2022-11-27T08:45:29.442835Z",
     "start_time": "2022-11-27T08:45:29.383992Z"
    }
   },
   "outputs": [],
   "source": [
    "dump_file('train',1000000000000, 10, 0.02,train_data)\n",
    "dump_file('test',1000000000000, 10, 0.02,test_data)\n",
    "dump_file('trainX',1000000000000, 10, 0.02,trainX)\n",
    "dump_file('trainY',1000000000000, 10, 0.02,trainY)\n",
    "dump_file('testX',1000000000000, 10, 0.02,testX)\n",
    "dump_file('testY',1000000000000, 10, 0.02,testY)"
   ]
  },
  {
   "cell_type": "markdown",
   "metadata": {},
   "source": [
    "\n",
    "## 거래대금 1천억 "
   ]
  },
  {
   "cell_type": "code",
   "execution_count": 68,
   "metadata": {
    "ExecuteTime": {
     "end_time": "2022-11-27T08:46:42.139544Z",
     "start_time": "2022-11-27T08:45:29.446827Z"
    },
    "scrolled": false
   },
   "outputs": [
    {
     "name": "stderr",
     "output_type": "stream",
     "text": [
      "100%|██████████████████████████████████████████████████████████████████████████████| 1561/1561 [01:12<00:00, 21.51it/s]\n"
     ]
    }
   ],
   "source": [
    "trainX, trainY,train_data,train_target= make_data_train(100000000000, 10, 0.02)"
   ]
  },
  {
   "cell_type": "code",
   "execution_count": 69,
   "metadata": {
    "ExecuteTime": {
     "end_time": "2022-11-27T08:47:07.315158Z",
     "start_time": "2022-11-27T08:46:42.141540Z"
    },
    "scrolled": true
   },
   "outputs": [
    {
     "name": "stderr",
     "output_type": "stream",
     "text": [
      "100%|██████████████████████████████████████████████████████████████████████████████| 1561/1561 [00:25<00:00, 62.20it/s]\n"
     ]
    }
   ],
   "source": [
    "testX, testY,test_data,test_target= make_data_test(100000000000, 10, 0.02)"
   ]
  },
  {
   "cell_type": "code",
   "execution_count": 70,
   "metadata": {
    "ExecuteTime": {
     "end_time": "2022-11-27T08:47:07.600391Z",
     "start_time": "2022-11-27T08:47:07.317153Z"
    }
   },
   "outputs": [],
   "source": [
    "dump_file('train',100000000000, 10, 0.02,train_data)\n",
    "dump_file('test',100000000000, 10, 0.02,test_data)\n",
    "dump_file('trainX',100000000000, 10, 0.02,trainX)\n",
    "dump_file('trainY',100000000000, 10, 0.02,trainY)\n",
    "dump_file('testX',100000000000, 10, 0.02,testX)\n",
    "dump_file('testY',100000000000, 10, 0.02,testY)"
   ]
  },
  {
   "cell_type": "markdown",
   "metadata": {},
   "source": [
    "## 거래대금 100억 "
   ]
  },
  {
   "cell_type": "code",
   "execution_count": 71,
   "metadata": {
    "ExecuteTime": {
     "end_time": "2022-11-27T08:48:19.103444Z",
     "start_time": "2022-11-27T08:47:07.603385Z"
    },
    "scrolled": true
   },
   "outputs": [
    {
     "name": "stderr",
     "output_type": "stream",
     "text": [
      "100%|██████████████████████████████████████████████████████████████████████████████| 1561/1561 [01:10<00:00, 22.08it/s]\n"
     ]
    }
   ],
   "source": [
    "trainX, trainY,train_data,train_target= make_data_train(10000000000, 10, 0.02)"
   ]
  },
  {
   "cell_type": "code",
   "execution_count": 72,
   "metadata": {
    "ExecuteTime": {
     "end_time": "2022-11-27T08:48:44.139105Z",
     "start_time": "2022-11-27T08:48:19.106435Z"
    },
    "scrolled": true
   },
   "outputs": [
    {
     "name": "stderr",
     "output_type": "stream",
     "text": [
      "100%|██████████████████████████████████████████████████████████████████████████████| 1561/1561 [00:24<00:00, 62.93it/s]\n"
     ]
    }
   ],
   "source": [
    "testX, testY,test_data,test_target= make_data_test(10000000000, 10, 0.02)"
   ]
  },
  {
   "cell_type": "code",
   "execution_count": 73,
   "metadata": {
    "ExecuteTime": {
     "end_time": "2022-11-27T08:48:46.939618Z",
     "start_time": "2022-11-27T08:48:44.142099Z"
    }
   },
   "outputs": [],
   "source": [
    "dump_file('train',10000000000, 10, 0.02,train_data)\n",
    "dump_file('test',10000000000, 10, 0.02,test_data)\n",
    "dump_file('trainX',10000000000, 10, 0.02,trainX)\n",
    "dump_file('trainY',10000000000, 10, 0.02,trainY)\n",
    "dump_file('testX',10000000000, 10, 0.02,testX)\n",
    "dump_file('testY',10000000000, 10, 0.02,testY)"
   ]
  },
  {
   "cell_type": "markdown",
   "metadata": {},
   "source": [
    "## 거래대금 10억"
   ]
  },
  {
   "cell_type": "code",
   "execution_count": 74,
   "metadata": {
    "ExecuteTime": {
     "end_time": "2022-11-27T08:53:56.111512Z",
     "start_time": "2022-11-27T08:51:57.893877Z"
    },
    "scrolled": true
   },
   "outputs": [
    {
     "name": "stderr",
     "output_type": "stream",
     "text": [
      "100%|██████████████████████████████████████████████████████████████████████████████| 1561/1561 [01:19<00:00, 19.65it/s]\n"
     ]
    }
   ],
   "source": [
    "trainX, trainY,train_data,train_target= make_data_train(1000000000, 10, 0.02)"
   ]
  },
  {
   "cell_type": "code",
   "execution_count": 75,
   "metadata": {
    "ExecuteTime": {
     "end_time": "2022-11-27T08:54:29.899457Z",
     "start_time": "2022-11-27T08:53:56.131459Z"
    },
    "scrolled": true
   },
   "outputs": [
    {
     "name": "stderr",
     "output_type": "stream",
     "text": [
      "100%|██████████████████████████████████████████████████████████████████████████████| 1561/1561 [00:42<00:00, 37.02it/s]\n"
     ]
    }
   ],
   "source": [
    "testX, testY,test_data,test_target= make_data_test(1000000000, 10, 0.02)"
   ]
  },
  {
   "cell_type": "code",
   "execution_count": 76,
   "metadata": {
    "ExecuteTime": {
     "end_time": "2022-11-27T08:56:21.333447Z",
     "start_time": "2022-11-27T08:54:29.903447Z"
    }
   },
   "outputs": [],
   "source": [
    "dump_file('train',1000000000, 10, 0.02,train_data)\n",
    "dump_file('test',1000000000, 10, 0.02,test_data)\n",
    "dump_file('trainX',1000000000, 10, 0.02,trainX)\n",
    "dump_file('trainY',1000000000, 10, 0.02,trainY)\n",
    "dump_file('testX',1000000000, 10, 0.02,testX)\n",
    "dump_file('testY',1000000000, 10, 0.02,testY)"
   ]
  },
  {
   "cell_type": "markdown",
   "metadata": {},
   "source": [
    "## 거래대금 1억"
   ]
  },
  {
   "cell_type": "code",
   "execution_count": 77,
   "metadata": {
    "ExecuteTime": {
     "end_time": "2022-11-27T08:53:56.111512Z",
     "start_time": "2022-11-27T08:51:57.893877Z"
    },
    "scrolled": true
   },
   "outputs": [
    {
     "name": "stderr",
     "output_type": "stream",
     "text": [
      "100%|██████████████████████████████████████████████████████████████████████████████| 1561/1561 [01:30<00:00, 17.26it/s]\n"
     ]
    }
   ],
   "source": [
    "trainX, trainY,train_data,train_target= make_data_train(100000000, 10, 0.02)"
   ]
  },
  {
   "cell_type": "code",
   "execution_count": 78,
   "metadata": {
    "ExecuteTime": {
     "end_time": "2022-11-27T08:54:29.899457Z",
     "start_time": "2022-11-27T08:53:56.131459Z"
    },
    "scrolled": true
   },
   "outputs": [
    {
     "name": "stderr",
     "output_type": "stream",
     "text": [
      "100%|██████████████████████████████████████████████████████████████████████████████| 1561/1561 [00:32<00:00, 47.79it/s]\n"
     ]
    }
   ],
   "source": [
    "testX, testY,test_data,test_target= make_data_test(100000000, 10, 0.02)"
   ]
  },
  {
   "cell_type": "code",
   "execution_count": 79,
   "metadata": {
    "ExecuteTime": {
     "end_time": "2022-11-27T08:56:21.333447Z",
     "start_time": "2022-11-27T08:54:29.903447Z"
    }
   },
   "outputs": [],
   "source": [
    "dump_file('train',100000000, 10, 0.02,train_data)\n",
    "dump_file('test',100000000, 10, 0.02,test_data)\n",
    "dump_file('trainX',100000000, 10, 0.02,trainX)\n",
    "dump_file('trainY',100000000, 10, 0.02,trainY)\n",
    "dump_file('testX',100000000, 10, 0.02,testX)\n",
    "dump_file('testY',100000000, 10, 0.02,testY)"
   ]
  },
  {
   "cell_type": "markdown",
   "metadata": {
    "ExecuteTime": {
     "end_time": "2022-11-27T08:42:36.871753Z",
     "start_time": "2022-11-27T08:42:36.854802Z"
    }
   },
   "source": [
    "# Change 0.05\n",
    "## 거래대금 1조  "
   ]
  },
  {
   "cell_type": "code",
   "execution_count": 80,
   "metadata": {
    "ExecuteTime": {
     "end_time": "2022-11-27T08:58:41.696031Z",
     "start_time": "2022-11-27T08:56:21.354392Z"
    },
    "scrolled": false
   },
   "outputs": [
    {
     "name": "stderr",
     "output_type": "stream",
     "text": [
      "100%|██████████████████████████████████████████████████████████████████████████████| 1561/1561 [02:19<00:00, 11.17it/s]\n"
     ]
    }
   ],
   "source": [
    "trainX, trainY,train_data,train_target= make_data_train(1000000000000, 10, 0.05)"
   ]
  },
  {
   "cell_type": "code",
   "execution_count": 81,
   "metadata": {
    "ExecuteTime": {
     "end_time": "2022-11-27T08:59:08.619050Z",
     "start_time": "2022-11-27T08:58:41.699053Z"
    },
    "scrolled": true
   },
   "outputs": [
    {
     "name": "stderr",
     "output_type": "stream",
     "text": [
      "100%|██████████████████████████████████████████████████████████████████████████████| 1561/1561 [00:26<00:00, 58.34it/s]\n"
     ]
    }
   ],
   "source": [
    "testX, testY,test_data,test_target= make_data_test(1000000000000, 10, 0.05)"
   ]
  },
  {
   "cell_type": "code",
   "execution_count": 82,
   "metadata": {
    "ExecuteTime": {
     "end_time": "2022-11-27T08:59:08.682881Z",
     "start_time": "2022-11-27T08:59:08.623041Z"
    }
   },
   "outputs": [],
   "source": [
    "dump_file('train',1000000000000, 10, 0.05,train_data)\n",
    "dump_file('test',1000000000000, 10, 0.05,test_data)\n",
    "dump_file('trainX',1000000000000, 10, 0.05,trainX)\n",
    "dump_file('trainY',1000000000000, 10, 0.05,trainY)\n",
    "dump_file('testX',1000000000000, 10, 0.05,testX)\n",
    "dump_file('testY',1000000000000, 10, 0.05,testY)"
   ]
  },
  {
   "cell_type": "markdown",
   "metadata": {},
   "source": [
    "\n",
    "## 거래대금 1천억 "
   ]
  },
  {
   "cell_type": "code",
   "execution_count": 83,
   "metadata": {
    "ExecuteTime": {
     "end_time": "2022-11-27T09:00:30.085636Z",
     "start_time": "2022-11-27T08:59:08.686871Z"
    },
    "scrolled": false
   },
   "outputs": [
    {
     "name": "stderr",
     "output_type": "stream",
     "text": [
      "100%|██████████████████████████████████████████████████████████████████████████████| 1561/1561 [01:21<00:00, 19.22it/s]\n"
     ]
    }
   ],
   "source": [
    "trainX, trainY,train_data,train_target= make_data_train(100000000000, 10, 0.05)"
   ]
  },
  {
   "cell_type": "code",
   "execution_count": 84,
   "metadata": {
    "ExecuteTime": {
     "end_time": "2022-11-27T09:01:07.154748Z",
     "start_time": "2022-11-27T09:00:30.088629Z"
    },
    "scrolled": true
   },
   "outputs": [
    {
     "name": "stderr",
     "output_type": "stream",
     "text": [
      "100%|██████████████████████████████████████████████████████████████████████████████| 1561/1561 [00:36<00:00, 42.38it/s]\n"
     ]
    }
   ],
   "source": [
    "testX, testY,test_data,test_target= make_data_test(100000000000, 10, 0.05)"
   ]
  },
  {
   "cell_type": "code",
   "execution_count": 85,
   "metadata": {
    "ExecuteTime": {
     "end_time": "2022-11-27T09:01:07.516776Z",
     "start_time": "2022-11-27T09:01:07.159732Z"
    }
   },
   "outputs": [],
   "source": [
    "dump_file('train',100000000000, 10, 0.05,train_data)\n",
    "dump_file('test',100000000000, 10, 0.05,test_data)\n",
    "dump_file('trainX',100000000000, 10, 0.05,trainX)\n",
    "dump_file('trainY',100000000000, 10, 0.05,trainY)\n",
    "dump_file('testX',100000000000, 10, 0.05,testX)\n",
    "dump_file('testY',100000000000, 10, 0.05,testY)"
   ]
  },
  {
   "cell_type": "markdown",
   "metadata": {},
   "source": [
    "## 거래대금 100억 "
   ]
  },
  {
   "cell_type": "code",
   "execution_count": 86,
   "metadata": {
    "ExecuteTime": {
     "end_time": "2022-11-27T09:02:26.445815Z",
     "start_time": "2022-11-27T09:01:07.520765Z"
    },
    "scrolled": true
   },
   "outputs": [
    {
     "name": "stderr",
     "output_type": "stream",
     "text": [
      "100%|██████████████████████████████████████████████████████████████████████████████| 1561/1561 [01:18<00:00, 19.99it/s]\n"
     ]
    }
   ],
   "source": [
    "trainX, trainY,train_data,train_target= make_data_train(10000000000, 10, 0.05)"
   ]
  },
  {
   "cell_type": "code",
   "execution_count": 87,
   "metadata": {
    "ExecuteTime": {
     "end_time": "2022-11-27T09:02:54.891859Z",
     "start_time": "2022-11-27T09:02:26.456784Z"
    },
    "scrolled": true
   },
   "outputs": [
    {
     "name": "stderr",
     "output_type": "stream",
     "text": [
      "100%|██████████████████████████████████████████████████████████████████████████████| 1561/1561 [00:28<00:00, 55.42it/s]\n"
     ]
    }
   ],
   "source": [
    "testX, testY,test_data,test_target= make_data_test(10000000000, 10, 0.05)"
   ]
  },
  {
   "cell_type": "code",
   "execution_count": 88,
   "metadata": {
    "ExecuteTime": {
     "end_time": "2022-11-27T09:02:57.894456Z",
     "start_time": "2022-11-27T09:02:54.894849Z"
    }
   },
   "outputs": [],
   "source": [
    "dump_file('train',10000000000, 10, 0.05,train_data)\n",
    "dump_file('test',10000000000, 10, 0.05,test_data)\n",
    "dump_file('trainX',10000000000, 10, 0.05,trainX)\n",
    "dump_file('trainY',10000000000, 10, 0.05,trainY)\n",
    "dump_file('testX',10000000000, 10, 0.05,testX)\n",
    "dump_file('testY',10000000000, 10, 0.05,testY)"
   ]
  },
  {
   "cell_type": "markdown",
   "metadata": {},
   "source": [
    "## 거래대금 10억"
   ]
  },
  {
   "cell_type": "code",
   "execution_count": 89,
   "metadata": {
    "ExecuteTime": {
     "end_time": "2022-11-27T09:04:35.374137Z",
     "start_time": "2022-11-27T09:02:57.897448Z"
    },
    "scrolled": true
   },
   "outputs": [
    {
     "name": "stderr",
     "output_type": "stream",
     "text": [
      "100%|██████████████████████████████████████████████████████████████████████████████| 1561/1561 [01:21<00:00, 19.17it/s]\n"
     ]
    }
   ],
   "source": [
    "trainX, trainY,train_data,train_target= make_data_train(1000000000, 10, 0.05)"
   ]
  },
  {
   "cell_type": "code",
   "execution_count": 90,
   "metadata": {
    "ExecuteTime": {
     "end_time": "2022-11-27T09:05:14.575422Z",
     "start_time": "2022-11-27T09:04:35.414031Z"
    },
    "scrolled": true
   },
   "outputs": [
    {
     "name": "stderr",
     "output_type": "stream",
     "text": [
      "100%|██████████████████████████████████████████████████████████████████████████████| 1561/1561 [00:37<00:00, 41.48it/s]\n"
     ]
    }
   ],
   "source": [
    "testX, testY,test_data,test_target= make_data_test(1000000000, 10, 0.05)"
   ]
  },
  {
   "cell_type": "code",
   "execution_count": 91,
   "metadata": {
    "ExecuteTime": {
     "end_time": "2022-11-27T09:05:57.123191Z",
     "start_time": "2022-11-27T09:05:14.579411Z"
    }
   },
   "outputs": [],
   "source": [
    "dump_file('train',1000000000, 10, 0.05,train_data)\n",
    "dump_file('test',1000000000, 10, 0.05,test_data)\n",
    "dump_file('trainX',1000000000, 10, 0.05,trainX)\n",
    "dump_file('trainY',1000000000, 10, 0.05,trainY)\n",
    "dump_file('testX',1000000000, 10, 0.05,testX)\n",
    "dump_file('testY',1000000000, 10, 0.05,testY)"
   ]
  },
  {
   "cell_type": "markdown",
   "metadata": {},
   "source": [
    "## 거래대금 1억"
   ]
  },
  {
   "cell_type": "code",
   "execution_count": 92,
   "metadata": {
    "ExecuteTime": {
     "end_time": "2022-11-27T09:08:19.681999Z",
     "start_time": "2022-11-27T09:05:57.147129Z"
    },
    "scrolled": true
   },
   "outputs": [
    {
     "name": "stderr",
     "output_type": "stream",
     "text": [
      "100%|██████████████████████████████████████████████████████████████████████████████| 1561/1561 [01:33<00:00, 16.75it/s]\n"
     ]
    }
   ],
   "source": [
    "trainX, trainY,train_data,train_target= make_data_train(100000000, 10, 0.05)"
   ]
  },
  {
   "cell_type": "code",
   "execution_count": 93,
   "metadata": {
    "ExecuteTime": {
     "end_time": "2022-11-27T09:08:54.897327Z",
     "start_time": "2022-11-27T09:08:19.705935Z"
    },
    "scrolled": true
   },
   "outputs": [
    {
     "name": "stderr",
     "output_type": "stream",
     "text": [
      "100%|██████████████████████████████████████████████████████████████████████████████| 1561/1561 [00:34<00:00, 45.90it/s]\n"
     ]
    }
   ],
   "source": [
    "testX, testY,test_data,test_target= make_data_test(100000000, 10, 0.05)"
   ]
  },
  {
   "cell_type": "code",
   "execution_count": 94,
   "metadata": {
    "ExecuteTime": {
     "end_time": "2022-11-27T09:10:35.018550Z",
     "start_time": "2022-11-27T09:08:54.899323Z"
    }
   },
   "outputs": [],
   "source": [
    "dump_file('train',100000000, 10, 0.05,train_data)\n",
    "dump_file('test',100000000, 10, 0.05,test_data)\n",
    "dump_file('trainX',100000000, 10, 0.05,trainX)\n",
    "dump_file('trainY',100000000, 10, 0.05,trainY)\n",
    "dump_file('testX',100000000, 10, 0.05,testX)\n",
    "dump_file('testY',100000000, 10, 0.05,testY)"
   ]
  }
 ],
 "metadata": {
  "kernelspec": {
   "display_name": "Python 3",
   "language": "python",
   "name": "python3"
  },
  "language_info": {
   "codemirror_mode": {
    "name": "ipython",
    "version": 3
   },
   "file_extension": ".py",
   "mimetype": "text/x-python",
   "name": "python",
   "nbconvert_exporter": "python",
   "pygments_lexer": "ipython3",
   "version": "3.8.5"
  },
  "toc": {
   "base_numbering": 1,
   "nav_menu": {},
   "number_sections": true,
   "sideBar": true,
   "skip_h1_title": false,
   "title_cell": "Table of Contents",
   "title_sidebar": "Contents",
   "toc_cell": false,
   "toc_position": {
    "height": "calc(100% - 180px)",
    "left": "10px",
    "top": "150px",
    "width": "384px"
   },
   "toc_section_display": true,
   "toc_window_display": true
  }
 },
 "nbformat": 4,
 "nbformat_minor": 5
}
