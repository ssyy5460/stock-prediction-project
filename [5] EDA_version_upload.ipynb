{
 "cells": [
  {
   "cell_type": "code",
   "execution_count": 1,
   "metadata": {
    "ExecuteTime": {
     "end_time": "2022-12-07T12:18:49.825135Z",
     "start_time": "2022-12-07T12:18:44.613962Z"
    }
   },
   "outputs": [
    {
     "data": {
      "text/html": [
       "        <script type=\"text/javascript\">\n",
       "        window.PlotlyConfig = {MathJaxConfig: 'local'};\n",
       "        if (window.MathJax) {MathJax.Hub.Config({SVG: {font: \"STIX-Web\"}});}\n",
       "        if (typeof require !== 'undefined') {\n",
       "        require.undef(\"plotly\");\n",
       "        requirejs.config({\n",
       "            paths: {\n",
       "                'plotly': ['https://cdn.plot.ly/plotly-2.11.1.min']\n",
       "            }\n",
       "        });\n",
       "        require(['plotly'], function(Plotly) {\n",
       "            window._Plotly = Plotly;\n",
       "        });\n",
       "        }\n",
       "        </script>\n",
       "        "
      ]
     },
     "metadata": {},
     "output_type": "display_data"
    }
   ],
   "source": [
    "import numpy as np\n",
    "import pandas as pd\n",
    "from sklearn import datasets\n",
    "import ipywidgets as widgets\n",
    "from ipywidgets import interact, interact_manual\n",
    "import chart_studio.plotly as py\n",
    "import cufflinks as cf\n",
    "cf.go_offline(connected = True)\n",
    "from tqdm import tqdm\n",
    "import datetime\n",
    "import matplotlib.pyplot as plt\n",
    "import numpy as np\n",
    "import seaborn as sns\n",
    "import pickle\n",
    "import pymysql\n",
    "import warnings\n",
    "warnings.filterwarnings(action='ignore')\n",
    "pd.set_option('display.max_columns', 600)\n",
    "\n",
    "plt.rcParams['font.family'] = 'Malgun Gothic'\n",
    "plt.rcParams['font.size'] = 16\n",
    "plt.rcParams['figure.figsize'] = 20, 10\n",
    "plt.rcParams['axes.unicode_minus'] = False"
   ]
  },
  {
   "cell_type": "markdown",
   "metadata": {},
   "source": [
    "data \n",
    "기간 : 2018년 1월 1일 ~ 2021년 6월 30일 <br>\n",
    "데이터셋 생성조건 : 거래대금 1조, 거래일자 10일, 다음날 변화률 : 0.02 이상\n",
    "# 데이터셋 생성"
   ]
  },
  {
   "cell_type": "code",
   "execution_count": 63,
   "metadata": {
    "ExecuteTime": {
     "end_time": "2022-12-07T12:42:56.927027Z",
     "start_time": "2022-12-07T12:42:56.908078Z"
    }
   },
   "outputs": [],
   "source": [
    "def make_data(trading, days, target): \n",
    "    # 코드 리스트 \n",
    "   \n",
    "    IF=open(\"../data/code_list.txt\", 'r')\n",
    "    lst_code = IF.readlines()\n",
    "    \n",
    "\n",
    "    lst_dataX = []\n",
    "    lst_dataY = []\n",
    "    lst_data = []\n",
    "    lst_target = []\n",
    "    \n",
    "    # database\n",
    "    con = pymysql.connect(\n",
    "    )\n",
    "\n",
    "    cursor = con.cursor()\n",
    " \n",
    "    for line in tqdm(lst_code): \n",
    "        code = line.strip()\n",
    "        sql_query = '''\n",
    "                    SELECT *\n",
    "                    FROM stock_{}\n",
    "                    WHERE Date\n",
    "                    BETWEEN '2018-01-01' AND '2021-06-30'\n",
    "                    '''.format(code)\n",
    "        stock = pd.read_sql(sql = sql_query, con = con)\n",
    "        lst_stock = stock.values.tolist()  \n",
    "\n",
    "\n",
    "        for i, row in enumerate(lst_stock): \n",
    "            date, close, volume = row[0].strftime('%Y%m%d'), row[4], row[5]\n",
    "            # 거래대금, 이동평균선 범위 조건\n",
    "            if (close * volume >= trading) :\n",
    "                if i < (days-1):   # 예외 처리 \n",
    "                    continue                               \n",
    "\n",
    "                lst_result = []\n",
    "                \n",
    "                Ddays_date = lst_stock[i-(days-1):i+1]\n",
    "                                           \n",
    "                for row2 in Ddays_date:\n",
    "                    Open,High,Low,Close,Volume = row2[1:6]\n",
    "                    Trading = Close * Volume\n",
    "                    lst_result += [Open,High,Low,Close,Trading]\n",
    "\n",
    "                rate = float(row[6])\n",
    "                y = int(row[6] >= target)\n",
    "                data = ','.join(map(str,lst_result))\n",
    "                \n",
    "                lst_dataX.append(data)\n",
    "                lst_dataY.append(y)\n",
    "                lst_data.append([code,date,data,y])\n",
    "                lst_target.append(rate)\n",
    "    return np.array(lst_dataX), np.array(lst_dataY),pd.DataFrame(lst_data),np.array(lst_target)"
   ]
  },
  {
   "cell_type": "code",
   "execution_count": 3,
   "metadata": {
    "ExecuteTime": {
     "end_time": "2022-12-07T12:20:17.141146Z",
     "start_time": "2022-12-07T12:18:49.861066Z"
    }
   },
   "outputs": [
    {
     "name": "stderr",
     "output_type": "stream",
     "text": [
      "100%|██████████████████████████████████████████████████████████████████████████████| 1561/1561 [01:27<00:00, 17.90it/s]\n"
     ]
    }
   ],
   "source": [
    "dataX, dataY, data , target = make_data(1000000000000,10,0.02)"
   ]
  },
  {
   "cell_type": "code",
   "execution_count": 12,
   "metadata": {
    "ExecuteTime": {
     "end_time": "2022-12-07T12:21:25.576075Z",
     "start_time": "2022-12-07T12:21:25.561116Z"
    },
    "scrolled": true
   },
   "outputs": [],
   "source": [
    "data.columns = ['code','date','trading','label']"
   ]
  },
  {
   "cell_type": "code",
   "execution_count": 13,
   "metadata": {
    "ExecuteTime": {
     "end_time": "2022-12-07T12:21:34.305304Z",
     "start_time": "2022-12-07T12:21:34.299319Z"
    }
   },
   "outputs": [],
   "source": [
    "code2date = data[['code','date']]"
   ]
  },
  {
   "cell_type": "code",
   "execution_count": 15,
   "metadata": {
    "ExecuteTime": {
     "end_time": "2022-12-07T12:21:45.328490Z",
     "start_time": "2022-12-07T12:21:45.308544Z"
    }
   },
   "outputs": [],
   "source": [
    "lst = []\n",
    "for line in data['trading']:\n",
    "    lst.append(list(map(int, str(line).split(','))))"
   ]
  },
  {
   "cell_type": "code",
   "execution_count": 64,
   "metadata": {
    "ExecuteTime": {
     "end_time": "2022-12-07T12:51:16.068411Z",
     "start_time": "2022-12-07T12:51:16.050459Z"
    }
   },
   "outputs": [],
   "source": [
    "lst_columns = []\n",
    "for i in range(9,-1,-1):\n",
    "    for val in ['Open','High','Low','Close','trading_val']:\n",
    "        lst_columns.append(f'{val}_D-{i}')"
   ]
  },
  {
   "cell_type": "code",
   "execution_count": 66,
   "metadata": {
    "ExecuteTime": {
     "end_time": "2022-12-07T12:51:30.635568Z",
     "start_time": "2022-12-07T12:51:30.561765Z"
    },
    "scrolled": false
   },
   "outputs": [
    {
     "data": {
      "text/html": [
       "<div>\n",
       "<style scoped>\n",
       "    .dataframe tbody tr th:only-of-type {\n",
       "        vertical-align: middle;\n",
       "    }\n",
       "\n",
       "    .dataframe tbody tr th {\n",
       "        vertical-align: top;\n",
       "    }\n",
       "\n",
       "    .dataframe thead th {\n",
       "        text-align: right;\n",
       "    }\n",
       "</style>\n",
       "<table border=\"1\" class=\"dataframe\">\n",
       "  <thead>\n",
       "    <tr style=\"text-align: right;\">\n",
       "      <th></th>\n",
       "      <th>Open_D-9</th>\n",
       "      <th>High_D-9</th>\n",
       "      <th>Low_D-9</th>\n",
       "      <th>Close_D-9</th>\n",
       "      <th>trading_val_D-9</th>\n",
       "      <th>Open_D-8</th>\n",
       "      <th>High_D-8</th>\n",
       "      <th>Low_D-8</th>\n",
       "      <th>Close_D-8</th>\n",
       "      <th>trading_val_D-8</th>\n",
       "      <th>Open_D-7</th>\n",
       "      <th>High_D-7</th>\n",
       "      <th>Low_D-7</th>\n",
       "      <th>Close_D-7</th>\n",
       "      <th>trading_val_D-7</th>\n",
       "      <th>Open_D-6</th>\n",
       "      <th>High_D-6</th>\n",
       "      <th>Low_D-6</th>\n",
       "      <th>Close_D-6</th>\n",
       "      <th>trading_val_D-6</th>\n",
       "      <th>Open_D-5</th>\n",
       "      <th>High_D-5</th>\n",
       "      <th>Low_D-5</th>\n",
       "      <th>Close_D-5</th>\n",
       "      <th>trading_val_D-5</th>\n",
       "      <th>Open_D-4</th>\n",
       "      <th>High_D-4</th>\n",
       "      <th>Low_D-4</th>\n",
       "      <th>Close_D-4</th>\n",
       "      <th>trading_val_D-4</th>\n",
       "      <th>Open_D-3</th>\n",
       "      <th>High_D-3</th>\n",
       "      <th>Low_D-3</th>\n",
       "      <th>Close_D-3</th>\n",
       "      <th>trading_val_D-3</th>\n",
       "      <th>Open_D-2</th>\n",
       "      <th>High_D-2</th>\n",
       "      <th>Low_D-2</th>\n",
       "      <th>Close_D-2</th>\n",
       "      <th>trading_val_D-2</th>\n",
       "      <th>Open_D-1</th>\n",
       "      <th>High_D-1</th>\n",
       "      <th>Low_D-1</th>\n",
       "      <th>Close_D-1</th>\n",
       "      <th>trading_val_D-1</th>\n",
       "      <th>Open_D-0</th>\n",
       "      <th>High_D-0</th>\n",
       "      <th>Low_D-0</th>\n",
       "      <th>Close_D-0</th>\n",
       "      <th>trading_val_D-0</th>\n",
       "    </tr>\n",
       "  </thead>\n",
       "  <tbody>\n",
       "    <tr>\n",
       "      <th>0</th>\n",
       "      <td>13700</td>\n",
       "      <td>16100</td>\n",
       "      <td>13400</td>\n",
       "      <td>15400</td>\n",
       "      <td>897154258000</td>\n",
       "      <td>14700</td>\n",
       "      <td>15500</td>\n",
       "      <td>14000</td>\n",
       "      <td>14350</td>\n",
       "      <td>277027065700</td>\n",
       "      <td>13050</td>\n",
       "      <td>13300</td>\n",
       "      <td>11650</td>\n",
       "      <td>11650</td>\n",
       "      <td>231873876050</td>\n",
       "      <td>12200</td>\n",
       "      <td>13150</td>\n",
       "      <td>11600</td>\n",
       "      <td>12200</td>\n",
       "      <td>222393934200</td>\n",
       "      <td>12200</td>\n",
       "      <td>13750</td>\n",
       "      <td>12100</td>\n",
       "      <td>12350</td>\n",
       "      <td>256196958550</td>\n",
       "      <td>12500</td>\n",
       "      <td>15450</td>\n",
       "      <td>12450</td>\n",
       "      <td>14050</td>\n",
       "      <td>886535779600</td>\n",
       "      <td>14350</td>\n",
       "      <td>15300</td>\n",
       "      <td>13900</td>\n",
       "      <td>14350</td>\n",
       "      <td>333578205800</td>\n",
       "      <td>14450</td>\n",
       "      <td>14800</td>\n",
       "      <td>13550</td>\n",
       "      <td>13550</td>\n",
       "      <td>148350291550</td>\n",
       "      <td>13600</td>\n",
       "      <td>15400</td>\n",
       "      <td>13600</td>\n",
       "      <td>14050</td>\n",
       "      <td>451780054200</td>\n",
       "      <td>14600</td>\n",
       "      <td>18250</td>\n",
       "      <td>14550</td>\n",
       "      <td>18250</td>\n",
       "      <td>2343685750250</td>\n",
       "    </tr>\n",
       "    <tr>\n",
       "      <th>1</th>\n",
       "      <td>14700</td>\n",
       "      <td>15500</td>\n",
       "      <td>14000</td>\n",
       "      <td>14350</td>\n",
       "      <td>277027065700</td>\n",
       "      <td>13050</td>\n",
       "      <td>13300</td>\n",
       "      <td>11650</td>\n",
       "      <td>11650</td>\n",
       "      <td>231873876050</td>\n",
       "      <td>12200</td>\n",
       "      <td>13150</td>\n",
       "      <td>11600</td>\n",
       "      <td>12200</td>\n",
       "      <td>222393934200</td>\n",
       "      <td>12200</td>\n",
       "      <td>13750</td>\n",
       "      <td>12100</td>\n",
       "      <td>12350</td>\n",
       "      <td>256196958550</td>\n",
       "      <td>12500</td>\n",
       "      <td>15450</td>\n",
       "      <td>12450</td>\n",
       "      <td>14050</td>\n",
       "      <td>886535779600</td>\n",
       "      <td>14350</td>\n",
       "      <td>15300</td>\n",
       "      <td>13900</td>\n",
       "      <td>14350</td>\n",
       "      <td>333578205800</td>\n",
       "      <td>14450</td>\n",
       "      <td>14800</td>\n",
       "      <td>13550</td>\n",
       "      <td>13550</td>\n",
       "      <td>148350291550</td>\n",
       "      <td>13600</td>\n",
       "      <td>15400</td>\n",
       "      <td>13600</td>\n",
       "      <td>14050</td>\n",
       "      <td>451780054200</td>\n",
       "      <td>14600</td>\n",
       "      <td>18250</td>\n",
       "      <td>14550</td>\n",
       "      <td>18250</td>\n",
       "      <td>2343685750250</td>\n",
       "      <td>18500</td>\n",
       "      <td>21350</td>\n",
       "      <td>17500</td>\n",
       "      <td>18000</td>\n",
       "      <td>1963299564000</td>\n",
       "    </tr>\n",
       "    <tr>\n",
       "      <th>2</th>\n",
       "      <td>36379</td>\n",
       "      <td>40437</td>\n",
       "      <td>35662</td>\n",
       "      <td>38146</td>\n",
       "      <td>144505974164</td>\n",
       "      <td>38622</td>\n",
       "      <td>40102</td>\n",
       "      <td>38431</td>\n",
       "      <td>39864</td>\n",
       "      <td>62342791368</td>\n",
       "      <td>40437</td>\n",
       "      <td>40819</td>\n",
       "      <td>38670</td>\n",
       "      <td>40342</td>\n",
       "      <td>51753783592</td>\n",
       "      <td>40675</td>\n",
       "      <td>51560</td>\n",
       "      <td>40532</td>\n",
       "      <td>50320</td>\n",
       "      <td>271549816880</td>\n",
       "      <td>50988</td>\n",
       "      <td>51751</td>\n",
       "      <td>47646</td>\n",
       "      <td>50224</td>\n",
       "      <td>131053601568</td>\n",
       "      <td>51560</td>\n",
       "      <td>53852</td>\n",
       "      <td>47837</td>\n",
       "      <td>52134</td>\n",
       "      <td>167995611054</td>\n",
       "      <td>50606</td>\n",
       "      <td>52706</td>\n",
       "      <td>49746</td>\n",
       "      <td>51561</td>\n",
       "      <td>78144871941</td>\n",
       "      <td>52038</td>\n",
       "      <td>61682</td>\n",
       "      <td>51465</td>\n",
       "      <td>59391</td>\n",
       "      <td>394185728439</td>\n",
       "      <td>41630</td>\n",
       "      <td>47311</td>\n",
       "      <td>41630</td>\n",
       "      <td>41631</td>\n",
       "      <td>365547656460</td>\n",
       "      <td>38002</td>\n",
       "      <td>46595</td>\n",
       "      <td>33371</td>\n",
       "      <td>41726</td>\n",
       "      <td>1406528840666</td>\n",
       "    </tr>\n",
       "    <tr>\n",
       "      <th>3</th>\n",
       "      <td>58600</td>\n",
       "      <td>62900</td>\n",
       "      <td>34850</td>\n",
       "      <td>34850</td>\n",
       "      <td>808041161000</td>\n",
       "      <td>32900</td>\n",
       "      <td>33350</td>\n",
       "      <td>24800</td>\n",
       "      <td>29150</td>\n",
       "      <td>946589524100</td>\n",
       "      <td>28350</td>\n",
       "      <td>32450</td>\n",
       "      <td>27300</td>\n",
       "      <td>30200</td>\n",
       "      <td>686763371800</td>\n",
       "      <td>30550</td>\n",
       "      <td>30600</td>\n",
       "      <td>27100</td>\n",
       "      <td>27650</td>\n",
       "      <td>253417088750</td>\n",
       "      <td>27000</td>\n",
       "      <td>31000</td>\n",
       "      <td>25550</td>\n",
       "      <td>28250</td>\n",
       "      <td>547098427000</td>\n",
       "      <td>28350</td>\n",
       "      <td>28700</td>\n",
       "      <td>26300</td>\n",
       "      <td>26750</td>\n",
       "      <td>122904640500</td>\n",
       "      <td>26600</td>\n",
       "      <td>27300</td>\n",
       "      <td>25600</td>\n",
       "      <td>26150</td>\n",
       "      <td>96068510200</td>\n",
       "      <td>25750</td>\n",
       "      <td>30350</td>\n",
       "      <td>25050</td>\n",
       "      <td>26800</td>\n",
       "      <td>526937097600</td>\n",
       "      <td>27200</td>\n",
       "      <td>29900</td>\n",
       "      <td>26350</td>\n",
       "      <td>29700</td>\n",
       "      <td>282149346600</td>\n",
       "      <td>30900</td>\n",
       "      <td>35500</td>\n",
       "      <td>30250</td>\n",
       "      <td>34350</td>\n",
       "      <td>1016523775050</td>\n",
       "    </tr>\n",
       "    <tr>\n",
       "      <th>4</th>\n",
       "      <td>6650</td>\n",
       "      <td>7460</td>\n",
       "      <td>4460</td>\n",
       "      <td>4460</td>\n",
       "      <td>814557121960</td>\n",
       "      <td>4430</td>\n",
       "      <td>4835</td>\n",
       "      <td>3800</td>\n",
       "      <td>4290</td>\n",
       "      <td>760794181290</td>\n",
       "      <td>4370</td>\n",
       "      <td>4480</td>\n",
       "      <td>3935</td>\n",
       "      <td>4040</td>\n",
       "      <td>275440441080</td>\n",
       "      <td>4090</td>\n",
       "      <td>4210</td>\n",
       "      <td>3865</td>\n",
       "      <td>4040</td>\n",
       "      <td>135435994440</td>\n",
       "      <td>4265</td>\n",
       "      <td>4350</td>\n",
       "      <td>3935</td>\n",
       "      <td>4065</td>\n",
       "      <td>157481555250</td>\n",
       "      <td>4130</td>\n",
       "      <td>4135</td>\n",
       "      <td>3970</td>\n",
       "      <td>4030</td>\n",
       "      <td>69359479670</td>\n",
       "      <td>4010</td>\n",
       "      <td>4080</td>\n",
       "      <td>3850</td>\n",
       "      <td>3955</td>\n",
       "      <td>71513669290</td>\n",
       "      <td>3860</td>\n",
       "      <td>4025</td>\n",
       "      <td>3680</td>\n",
       "      <td>3915</td>\n",
       "      <td>100265976630</td>\n",
       "      <td>3800</td>\n",
       "      <td>4160</td>\n",
       "      <td>3730</td>\n",
       "      <td>4160</td>\n",
       "      <td>184787828160</td>\n",
       "      <td>4080</td>\n",
       "      <td>5190</td>\n",
       "      <td>3980</td>\n",
       "      <td>5190</td>\n",
       "      <td>1368703369410</td>\n",
       "    </tr>\n",
       "  </tbody>\n",
       "</table>\n",
       "</div>"
      ],
      "text/plain": [
       "   Open_D-9  High_D-9  Low_D-9  Close_D-9  trading_val_D-9  Open_D-8  \\\n",
       "0     13700     16100    13400      15400     897154258000     14700   \n",
       "1     14700     15500    14000      14350     277027065700     13050   \n",
       "2     36379     40437    35662      38146     144505974164     38622   \n",
       "3     58600     62900    34850      34850     808041161000     32900   \n",
       "4      6650      7460     4460       4460     814557121960      4430   \n",
       "\n",
       "   High_D-8  Low_D-8  Close_D-8  trading_val_D-8  Open_D-7  High_D-7  Low_D-7  \\\n",
       "0     15500    14000      14350     277027065700     13050     13300    11650   \n",
       "1     13300    11650      11650     231873876050     12200     13150    11600   \n",
       "2     40102    38431      39864      62342791368     40437     40819    38670   \n",
       "3     33350    24800      29150     946589524100     28350     32450    27300   \n",
       "4      4835     3800       4290     760794181290      4370      4480     3935   \n",
       "\n",
       "   Close_D-7  trading_val_D-7  Open_D-6  High_D-6  Low_D-6  Close_D-6  \\\n",
       "0      11650     231873876050     12200     13150    11600      12200   \n",
       "1      12200     222393934200     12200     13750    12100      12350   \n",
       "2      40342      51753783592     40675     51560    40532      50320   \n",
       "3      30200     686763371800     30550     30600    27100      27650   \n",
       "4       4040     275440441080      4090      4210     3865       4040   \n",
       "\n",
       "   trading_val_D-6  Open_D-5  High_D-5  Low_D-5  Close_D-5  trading_val_D-5  \\\n",
       "0     222393934200     12200     13750    12100      12350     256196958550   \n",
       "1     256196958550     12500     15450    12450      14050     886535779600   \n",
       "2     271549816880     50988     51751    47646      50224     131053601568   \n",
       "3     253417088750     27000     31000    25550      28250     547098427000   \n",
       "4     135435994440      4265      4350     3935       4065     157481555250   \n",
       "\n",
       "   Open_D-4  High_D-4  Low_D-4  Close_D-4  trading_val_D-4  Open_D-3  \\\n",
       "0     12500     15450    12450      14050     886535779600     14350   \n",
       "1     14350     15300    13900      14350     333578205800     14450   \n",
       "2     51560     53852    47837      52134     167995611054     50606   \n",
       "3     28350     28700    26300      26750     122904640500     26600   \n",
       "4      4130      4135     3970       4030      69359479670      4010   \n",
       "\n",
       "   High_D-3  Low_D-3  Close_D-3  trading_val_D-3  Open_D-2  High_D-2  Low_D-2  \\\n",
       "0     15300    13900      14350     333578205800     14450     14800    13550   \n",
       "1     14800    13550      13550     148350291550     13600     15400    13600   \n",
       "2     52706    49746      51561      78144871941     52038     61682    51465   \n",
       "3     27300    25600      26150      96068510200     25750     30350    25050   \n",
       "4      4080     3850       3955      71513669290      3860      4025     3680   \n",
       "\n",
       "   Close_D-2  trading_val_D-2  Open_D-1  High_D-1  Low_D-1  Close_D-1  \\\n",
       "0      13550     148350291550     13600     15400    13600      14050   \n",
       "1      14050     451780054200     14600     18250    14550      18250   \n",
       "2      59391     394185728439     41630     47311    41630      41631   \n",
       "3      26800     526937097600     27200     29900    26350      29700   \n",
       "4       3915     100265976630      3800      4160     3730       4160   \n",
       "\n",
       "   trading_val_D-1  Open_D-0  High_D-0  Low_D-0  Close_D-0  trading_val_D-0  \n",
       "0     451780054200     14600     18250    14550      18250    2343685750250  \n",
       "1    2343685750250     18500     21350    17500      18000    1963299564000  \n",
       "2     365547656460     38002     46595    33371      41726    1406528840666  \n",
       "3     282149346600     30900     35500    30250      34350    1016523775050  \n",
       "4     184787828160      4080      5190     3980       5190    1368703369410  "
      ]
     },
     "execution_count": 66,
     "metadata": {},
     "output_type": "execute_result"
    }
   ],
   "source": [
    "df2 = pd.DataFrame(lst, columns = lst_columns)\n",
    "df2.head()"
   ]
  },
  {
   "cell_type": "code",
   "execution_count": 67,
   "metadata": {
    "ExecuteTime": {
     "end_time": "2022-12-07T12:51:31.925795Z",
     "start_time": "2022-12-07T12:51:31.918812Z"
    }
   },
   "outputs": [],
   "source": [
    "df_Y = pd.DataFrame(dataY, columns = ['Y'])\n",
    "df_target = pd.DataFrame(target, columns = ['target'])"
   ]
  },
  {
   "cell_type": "code",
   "execution_count": 68,
   "metadata": {
    "ExecuteTime": {
     "end_time": "2022-12-07T12:51:32.989964Z",
     "start_time": "2022-12-07T12:51:32.936093Z"
    },
    "scrolled": false
   },
   "outputs": [
    {
     "data": {
      "text/html": [
       "<div>\n",
       "<style scoped>\n",
       "    .dataframe tbody tr th:only-of-type {\n",
       "        vertical-align: middle;\n",
       "    }\n",
       "\n",
       "    .dataframe tbody tr th {\n",
       "        vertical-align: top;\n",
       "    }\n",
       "\n",
       "    .dataframe thead th {\n",
       "        text-align: right;\n",
       "    }\n",
       "</style>\n",
       "<table border=\"1\" class=\"dataframe\">\n",
       "  <thead>\n",
       "    <tr style=\"text-align: right;\">\n",
       "      <th></th>\n",
       "      <th>code</th>\n",
       "      <th>date</th>\n",
       "      <th>Open_D-9</th>\n",
       "      <th>High_D-9</th>\n",
       "      <th>Low_D-9</th>\n",
       "      <th>Close_D-9</th>\n",
       "      <th>trading_val_D-9</th>\n",
       "      <th>Open_D-8</th>\n",
       "      <th>High_D-8</th>\n",
       "      <th>Low_D-8</th>\n",
       "      <th>Close_D-8</th>\n",
       "      <th>trading_val_D-8</th>\n",
       "      <th>Open_D-7</th>\n",
       "      <th>High_D-7</th>\n",
       "      <th>Low_D-7</th>\n",
       "      <th>Close_D-7</th>\n",
       "      <th>trading_val_D-7</th>\n",
       "      <th>Open_D-6</th>\n",
       "      <th>High_D-6</th>\n",
       "      <th>Low_D-6</th>\n",
       "      <th>Close_D-6</th>\n",
       "      <th>trading_val_D-6</th>\n",
       "      <th>Open_D-5</th>\n",
       "      <th>High_D-5</th>\n",
       "      <th>Low_D-5</th>\n",
       "      <th>Close_D-5</th>\n",
       "      <th>trading_val_D-5</th>\n",
       "      <th>Open_D-4</th>\n",
       "      <th>High_D-4</th>\n",
       "      <th>Low_D-4</th>\n",
       "      <th>Close_D-4</th>\n",
       "      <th>trading_val_D-4</th>\n",
       "      <th>Open_D-3</th>\n",
       "      <th>High_D-3</th>\n",
       "      <th>Low_D-3</th>\n",
       "      <th>Close_D-3</th>\n",
       "      <th>trading_val_D-3</th>\n",
       "      <th>Open_D-2</th>\n",
       "      <th>High_D-2</th>\n",
       "      <th>Low_D-2</th>\n",
       "      <th>Close_D-2</th>\n",
       "      <th>trading_val_D-2</th>\n",
       "      <th>Open_D-1</th>\n",
       "      <th>High_D-1</th>\n",
       "      <th>Low_D-1</th>\n",
       "      <th>Close_D-1</th>\n",
       "      <th>trading_val_D-1</th>\n",
       "      <th>Open_D-0</th>\n",
       "      <th>High_D-0</th>\n",
       "      <th>Low_D-0</th>\n",
       "      <th>Close_D-0</th>\n",
       "      <th>trading_val_D-0</th>\n",
       "      <th>target</th>\n",
       "    </tr>\n",
       "  </thead>\n",
       "  <tbody>\n",
       "    <tr>\n",
       "      <th>0</th>\n",
       "      <td>050120</td>\n",
       "      <td>20180126</td>\n",
       "      <td>13700</td>\n",
       "      <td>16100</td>\n",
       "      <td>13400</td>\n",
       "      <td>15400</td>\n",
       "      <td>897154258000</td>\n",
       "      <td>14700</td>\n",
       "      <td>15500</td>\n",
       "      <td>14000</td>\n",
       "      <td>14350</td>\n",
       "      <td>277027065700</td>\n",
       "      <td>13050</td>\n",
       "      <td>13300</td>\n",
       "      <td>11650</td>\n",
       "      <td>11650</td>\n",
       "      <td>231873876050</td>\n",
       "      <td>12200</td>\n",
       "      <td>13150</td>\n",
       "      <td>11600</td>\n",
       "      <td>12200</td>\n",
       "      <td>222393934200</td>\n",
       "      <td>12200</td>\n",
       "      <td>13750</td>\n",
       "      <td>12100</td>\n",
       "      <td>12350</td>\n",
       "      <td>256196958550</td>\n",
       "      <td>12500</td>\n",
       "      <td>15450</td>\n",
       "      <td>12450</td>\n",
       "      <td>14050</td>\n",
       "      <td>886535779600</td>\n",
       "      <td>14350</td>\n",
       "      <td>15300</td>\n",
       "      <td>13900</td>\n",
       "      <td>14350</td>\n",
       "      <td>333578205800</td>\n",
       "      <td>14450</td>\n",
       "      <td>14800</td>\n",
       "      <td>13550</td>\n",
       "      <td>13550</td>\n",
       "      <td>148350291550</td>\n",
       "      <td>13600</td>\n",
       "      <td>15400</td>\n",
       "      <td>13600</td>\n",
       "      <td>14050</td>\n",
       "      <td>451780054200</td>\n",
       "      <td>14600</td>\n",
       "      <td>18250</td>\n",
       "      <td>14550</td>\n",
       "      <td>18250</td>\n",
       "      <td>2343685750250</td>\n",
       "      <td>0.298932</td>\n",
       "    </tr>\n",
       "    <tr>\n",
       "      <th>1</th>\n",
       "      <td>050120</td>\n",
       "      <td>20180129</td>\n",
       "      <td>14700</td>\n",
       "      <td>15500</td>\n",
       "      <td>14000</td>\n",
       "      <td>14350</td>\n",
       "      <td>277027065700</td>\n",
       "      <td>13050</td>\n",
       "      <td>13300</td>\n",
       "      <td>11650</td>\n",
       "      <td>11650</td>\n",
       "      <td>231873876050</td>\n",
       "      <td>12200</td>\n",
       "      <td>13150</td>\n",
       "      <td>11600</td>\n",
       "      <td>12200</td>\n",
       "      <td>222393934200</td>\n",
       "      <td>12200</td>\n",
       "      <td>13750</td>\n",
       "      <td>12100</td>\n",
       "      <td>12350</td>\n",
       "      <td>256196958550</td>\n",
       "      <td>12500</td>\n",
       "      <td>15450</td>\n",
       "      <td>12450</td>\n",
       "      <td>14050</td>\n",
       "      <td>886535779600</td>\n",
       "      <td>14350</td>\n",
       "      <td>15300</td>\n",
       "      <td>13900</td>\n",
       "      <td>14350</td>\n",
       "      <td>333578205800</td>\n",
       "      <td>14450</td>\n",
       "      <td>14800</td>\n",
       "      <td>13550</td>\n",
       "      <td>13550</td>\n",
       "      <td>148350291550</td>\n",
       "      <td>13600</td>\n",
       "      <td>15400</td>\n",
       "      <td>13600</td>\n",
       "      <td>14050</td>\n",
       "      <td>451780054200</td>\n",
       "      <td>14600</td>\n",
       "      <td>18250</td>\n",
       "      <td>14550</td>\n",
       "      <td>18250</td>\n",
       "      <td>2343685750250</td>\n",
       "      <td>18500</td>\n",
       "      <td>21350</td>\n",
       "      <td>17500</td>\n",
       "      <td>18000</td>\n",
       "      <td>1963299564000</td>\n",
       "      <td>-0.013699</td>\n",
       "    </tr>\n",
       "    <tr>\n",
       "      <th>2</th>\n",
       "      <td>007390</td>\n",
       "      <td>20180320</td>\n",
       "      <td>36379</td>\n",
       "      <td>40437</td>\n",
       "      <td>35662</td>\n",
       "      <td>38146</td>\n",
       "      <td>144505974164</td>\n",
       "      <td>38622</td>\n",
       "      <td>40102</td>\n",
       "      <td>38431</td>\n",
       "      <td>39864</td>\n",
       "      <td>62342791368</td>\n",
       "      <td>40437</td>\n",
       "      <td>40819</td>\n",
       "      <td>38670</td>\n",
       "      <td>40342</td>\n",
       "      <td>51753783592</td>\n",
       "      <td>40675</td>\n",
       "      <td>51560</td>\n",
       "      <td>40532</td>\n",
       "      <td>50320</td>\n",
       "      <td>271549816880</td>\n",
       "      <td>50988</td>\n",
       "      <td>51751</td>\n",
       "      <td>47646</td>\n",
       "      <td>50224</td>\n",
       "      <td>131053601568</td>\n",
       "      <td>51560</td>\n",
       "      <td>53852</td>\n",
       "      <td>47837</td>\n",
       "      <td>52134</td>\n",
       "      <td>167995611054</td>\n",
       "      <td>50606</td>\n",
       "      <td>52706</td>\n",
       "      <td>49746</td>\n",
       "      <td>51561</td>\n",
       "      <td>78144871941</td>\n",
       "      <td>52038</td>\n",
       "      <td>61682</td>\n",
       "      <td>51465</td>\n",
       "      <td>59391</td>\n",
       "      <td>394185728439</td>\n",
       "      <td>41630</td>\n",
       "      <td>47311</td>\n",
       "      <td>41630</td>\n",
       "      <td>41631</td>\n",
       "      <td>365547656460</td>\n",
       "      <td>38002</td>\n",
       "      <td>46595</td>\n",
       "      <td>33371</td>\n",
       "      <td>41726</td>\n",
       "      <td>1406528840666</td>\n",
       "      <td>0.002282</td>\n",
       "    </tr>\n",
       "    <tr>\n",
       "      <th>3</th>\n",
       "      <td>950130</td>\n",
       "      <td>20200903</td>\n",
       "      <td>58600</td>\n",
       "      <td>62900</td>\n",
       "      <td>34850</td>\n",
       "      <td>34850</td>\n",
       "      <td>808041161000</td>\n",
       "      <td>32900</td>\n",
       "      <td>33350</td>\n",
       "      <td>24800</td>\n",
       "      <td>29150</td>\n",
       "      <td>946589524100</td>\n",
       "      <td>28350</td>\n",
       "      <td>32450</td>\n",
       "      <td>27300</td>\n",
       "      <td>30200</td>\n",
       "      <td>686763371800</td>\n",
       "      <td>30550</td>\n",
       "      <td>30600</td>\n",
       "      <td>27100</td>\n",
       "      <td>27650</td>\n",
       "      <td>253417088750</td>\n",
       "      <td>27000</td>\n",
       "      <td>31000</td>\n",
       "      <td>25550</td>\n",
       "      <td>28250</td>\n",
       "      <td>547098427000</td>\n",
       "      <td>28350</td>\n",
       "      <td>28700</td>\n",
       "      <td>26300</td>\n",
       "      <td>26750</td>\n",
       "      <td>122904640500</td>\n",
       "      <td>26600</td>\n",
       "      <td>27300</td>\n",
       "      <td>25600</td>\n",
       "      <td>26150</td>\n",
       "      <td>96068510200</td>\n",
       "      <td>25750</td>\n",
       "      <td>30350</td>\n",
       "      <td>25050</td>\n",
       "      <td>26800</td>\n",
       "      <td>526937097600</td>\n",
       "      <td>27200</td>\n",
       "      <td>29900</td>\n",
       "      <td>26350</td>\n",
       "      <td>29700</td>\n",
       "      <td>282149346600</td>\n",
       "      <td>30900</td>\n",
       "      <td>35500</td>\n",
       "      <td>30250</td>\n",
       "      <td>34350</td>\n",
       "      <td>1016523775050</td>\n",
       "      <td>0.156566</td>\n",
       "    </tr>\n",
       "    <tr>\n",
       "      <th>4</th>\n",
       "      <td>042040</td>\n",
       "      <td>20201014</td>\n",
       "      <td>6650</td>\n",
       "      <td>7460</td>\n",
       "      <td>4460</td>\n",
       "      <td>4460</td>\n",
       "      <td>814557121960</td>\n",
       "      <td>4430</td>\n",
       "      <td>4835</td>\n",
       "      <td>3800</td>\n",
       "      <td>4290</td>\n",
       "      <td>760794181290</td>\n",
       "      <td>4370</td>\n",
       "      <td>4480</td>\n",
       "      <td>3935</td>\n",
       "      <td>4040</td>\n",
       "      <td>275440441080</td>\n",
       "      <td>4090</td>\n",
       "      <td>4210</td>\n",
       "      <td>3865</td>\n",
       "      <td>4040</td>\n",
       "      <td>135435994440</td>\n",
       "      <td>4265</td>\n",
       "      <td>4350</td>\n",
       "      <td>3935</td>\n",
       "      <td>4065</td>\n",
       "      <td>157481555250</td>\n",
       "      <td>4130</td>\n",
       "      <td>4135</td>\n",
       "      <td>3970</td>\n",
       "      <td>4030</td>\n",
       "      <td>69359479670</td>\n",
       "      <td>4010</td>\n",
       "      <td>4080</td>\n",
       "      <td>3850</td>\n",
       "      <td>3955</td>\n",
       "      <td>71513669290</td>\n",
       "      <td>3860</td>\n",
       "      <td>4025</td>\n",
       "      <td>3680</td>\n",
       "      <td>3915</td>\n",
       "      <td>100265976630</td>\n",
       "      <td>3800</td>\n",
       "      <td>4160</td>\n",
       "      <td>3730</td>\n",
       "      <td>4160</td>\n",
       "      <td>184787828160</td>\n",
       "      <td>4080</td>\n",
       "      <td>5190</td>\n",
       "      <td>3980</td>\n",
       "      <td>5190</td>\n",
       "      <td>1368703369410</td>\n",
       "      <td>0.247596</td>\n",
       "    </tr>\n",
       "  </tbody>\n",
       "</table>\n",
       "</div>"
      ],
      "text/plain": [
       "     code      date  Open_D-9  High_D-9  Low_D-9  Close_D-9  trading_val_D-9  \\\n",
       "0  050120  20180126     13700     16100    13400      15400     897154258000   \n",
       "1  050120  20180129     14700     15500    14000      14350     277027065700   \n",
       "2  007390  20180320     36379     40437    35662      38146     144505974164   \n",
       "3  950130  20200903     58600     62900    34850      34850     808041161000   \n",
       "4  042040  20201014      6650      7460     4460       4460     814557121960   \n",
       "\n",
       "   Open_D-8  High_D-8  Low_D-8  Close_D-8  trading_val_D-8  Open_D-7  \\\n",
       "0     14700     15500    14000      14350     277027065700     13050   \n",
       "1     13050     13300    11650      11650     231873876050     12200   \n",
       "2     38622     40102    38431      39864      62342791368     40437   \n",
       "3     32900     33350    24800      29150     946589524100     28350   \n",
       "4      4430      4835     3800       4290     760794181290      4370   \n",
       "\n",
       "   High_D-7  Low_D-7  Close_D-7  trading_val_D-7  Open_D-6  High_D-6  Low_D-6  \\\n",
       "0     13300    11650      11650     231873876050     12200     13150    11600   \n",
       "1     13150    11600      12200     222393934200     12200     13750    12100   \n",
       "2     40819    38670      40342      51753783592     40675     51560    40532   \n",
       "3     32450    27300      30200     686763371800     30550     30600    27100   \n",
       "4      4480     3935       4040     275440441080      4090      4210     3865   \n",
       "\n",
       "   Close_D-6  trading_val_D-6  Open_D-5  High_D-5  Low_D-5  Close_D-5  \\\n",
       "0      12200     222393934200     12200     13750    12100      12350   \n",
       "1      12350     256196958550     12500     15450    12450      14050   \n",
       "2      50320     271549816880     50988     51751    47646      50224   \n",
       "3      27650     253417088750     27000     31000    25550      28250   \n",
       "4       4040     135435994440      4265      4350     3935       4065   \n",
       "\n",
       "   trading_val_D-5  Open_D-4  High_D-4  Low_D-4  Close_D-4  trading_val_D-4  \\\n",
       "0     256196958550     12500     15450    12450      14050     886535779600   \n",
       "1     886535779600     14350     15300    13900      14350     333578205800   \n",
       "2     131053601568     51560     53852    47837      52134     167995611054   \n",
       "3     547098427000     28350     28700    26300      26750     122904640500   \n",
       "4     157481555250      4130      4135     3970       4030      69359479670   \n",
       "\n",
       "   Open_D-3  High_D-3  Low_D-3  Close_D-3  trading_val_D-3  Open_D-2  \\\n",
       "0     14350     15300    13900      14350     333578205800     14450   \n",
       "1     14450     14800    13550      13550     148350291550     13600   \n",
       "2     50606     52706    49746      51561      78144871941     52038   \n",
       "3     26600     27300    25600      26150      96068510200     25750   \n",
       "4      4010      4080     3850       3955      71513669290      3860   \n",
       "\n",
       "   High_D-2  Low_D-2  Close_D-2  trading_val_D-2  Open_D-1  High_D-1  Low_D-1  \\\n",
       "0     14800    13550      13550     148350291550     13600     15400    13600   \n",
       "1     15400    13600      14050     451780054200     14600     18250    14550   \n",
       "2     61682    51465      59391     394185728439     41630     47311    41630   \n",
       "3     30350    25050      26800     526937097600     27200     29900    26350   \n",
       "4      4025     3680       3915     100265976630      3800      4160     3730   \n",
       "\n",
       "   Close_D-1  trading_val_D-1  Open_D-0  High_D-0  Low_D-0  Close_D-0  \\\n",
       "0      14050     451780054200     14600     18250    14550      18250   \n",
       "1      18250    2343685750250     18500     21350    17500      18000   \n",
       "2      41631     365547656460     38002     46595    33371      41726   \n",
       "3      29700     282149346600     30900     35500    30250      34350   \n",
       "4       4160     184787828160      4080      5190     3980       5190   \n",
       "\n",
       "   trading_val_D-0    target  \n",
       "0    2343685750250  0.298932  \n",
       "1    1963299564000 -0.013699  \n",
       "2    1406528840666  0.002282  \n",
       "3    1016523775050  0.156566  \n",
       "4    1368703369410  0.247596  "
      ]
     },
     "execution_count": 68,
     "metadata": {},
     "output_type": "execute_result"
    }
   ],
   "source": [
    "df = pd.concat([code2date, df2,df_target], axis = 1)\n",
    "df.head()"
   ]
  },
  {
   "cell_type": "markdown",
   "metadata": {},
   "source": [
    "# EDA"
   ]
  },
  {
   "cell_type": "markdown",
   "metadata": {},
   "source": [
    "## label 값 분포"
   ]
  },
  {
   "cell_type": "code",
   "execution_count": 19,
   "metadata": {
    "ExecuteTime": {
     "end_time": "2022-12-07T12:22:00.996160Z",
     "start_time": "2022-12-07T12:22:00.979205Z"
    },
    "scrolled": false
   },
   "outputs": [
    {
     "data": {
      "text/plain": [
       "Y\n",
       "0    329\n",
       "1    235\n",
       "dtype: int64"
      ]
     },
     "execution_count": 19,
     "metadata": {},
     "output_type": "execute_result"
    }
   ],
   "source": [
    "df_Y.value_counts()"
   ]
  },
  {
   "cell_type": "code",
   "execution_count": 25,
   "metadata": {
    "ExecuteTime": {
     "end_time": "2022-12-07T12:23:45.493307Z",
     "start_time": "2022-12-07T12:23:45.239017Z"
    },
    "scrolled": false
   },
   "outputs": [
    {
     "data": {
      "image/png": "[encoded data removed]",
      "text/plain": [
       "<Figure size 1440x720 with 1 Axes>"
      ]
     },
     "metadata": {
      "needs_background": "light"
     },
     "output_type": "display_data"
    }
   ],
   "source": [
    "ax = sns.countplot(data = df_Y, x = 'Y')\n",
    "\n",
    "for p in ax.patches:\n",
    "    height = p.get_height()\n",
    "    ax.text(p.get_x() + p.get_width() / 2., height + 3, height, ha = 'center', size = 20)\n",
    "plt.show()"
   ]
  },
  {
   "cell_type": "markdown",
   "metadata": {},
   "source": [
    "## Next Change 값 분포"
   ]
  },
  {
   "cell_type": "code",
   "execution_count": 31,
   "metadata": {
    "ExecuteTime": {
     "end_time": "2022-12-07T12:24:11.690327Z",
     "start_time": "2022-12-07T12:24:11.253495Z"
    }
   },
   "outputs": [
    {
     "data": {
      "text/plain": [
       "<AxesSubplot:ylabel='Count'>"
      ]
     },
     "execution_count": 31,
     "metadata": {},
     "output_type": "execute_result"
    },
    {
     "data": {
      "image/png": "[encoded data removed]",
      "text/plain": [
       "<Figure size 1440x720 with 1 Axes>"
      ]
     },
     "metadata": {
      "needs_background": "light"
     },
     "output_type": "display_data"
    }
   ],
   "source": [
    "sns.histplot(data = df_target , kde = True)"
   ]
  },
  {
   "cell_type": "code",
   "execution_count": 33,
   "metadata": {
    "ExecuteTime": {
     "end_time": "2022-12-07T12:24:19.628773Z",
     "start_time": "2022-12-07T12:24:19.616776Z"
    },
    "scrolled": true
   },
   "outputs": [
    {
     "data": {
      "text/html": [
       "<div>\n",
       "<style scoped>\n",
       "    .dataframe tbody tr th:only-of-type {\n",
       "        vertical-align: middle;\n",
       "    }\n",
       "\n",
       "    .dataframe tbody tr th {\n",
       "        vertical-align: top;\n",
       "    }\n",
       "\n",
       "    .dataframe thead th {\n",
       "        text-align: right;\n",
       "    }\n",
       "</style>\n",
       "<table border=\"1\" class=\"dataframe\">\n",
       "  <thead>\n",
       "    <tr style=\"text-align: right;\">\n",
       "      <th></th>\n",
       "      <th>target</th>\n",
       "    </tr>\n",
       "  </thead>\n",
       "  <tbody>\n",
       "    <tr>\n",
       "      <th>61</th>\n",
       "      <td>0.300000</td>\n",
       "    </tr>\n",
       "    <tr>\n",
       "      <th>90</th>\n",
       "      <td>-0.300000</td>\n",
       "    </tr>\n",
       "    <tr>\n",
       "      <th>125</th>\n",
       "      <td>0.300000</td>\n",
       "    </tr>\n",
       "    <tr>\n",
       "      <th>135</th>\n",
       "      <td>0.300000</td>\n",
       "    </tr>\n",
       "    <tr>\n",
       "      <th>186</th>\n",
       "      <td>0.300000</td>\n",
       "    </tr>\n",
       "    <tr>\n",
       "      <th>189</th>\n",
       "      <td>0.300068</td>\n",
       "    </tr>\n",
       "  </tbody>\n",
       "</table>\n",
       "</div>"
      ],
      "text/plain": [
       "       target\n",
       "61   0.300000\n",
       "90  -0.300000\n",
       "125  0.300000\n",
       "135  0.300000\n",
       "186  0.300000\n",
       "189  0.300068"
      ]
     },
     "execution_count": 33,
     "metadata": {},
     "output_type": "execute_result"
    }
   ],
   "source": [
    "# 주식 상한선 하한선 (-30%~30%) 넘어가는 주식 종목 체크\n",
    "df_target[(df_target['target'] < - 0.3) | (df_target['target'] > 0.3)]"
   ]
  },
  {
   "cell_type": "markdown",
   "metadata": {},
   "source": [
    "## 이상치 탐색"
   ]
  },
  {
   "cell_type": "code",
   "execution_count": 69,
   "metadata": {
    "ExecuteTime": {
     "end_time": "2022-12-07T12:51:40.503755Z",
     "start_time": "2022-12-07T12:51:40.136738Z"
    },
    "scrolled": false
   },
   "outputs": [
    {
     "data": {
      "text/html": [
       "<div>\n",
       "<style scoped>\n",
       "    .dataframe tbody tr th:only-of-type {\n",
       "        vertical-align: middle;\n",
       "    }\n",
       "\n",
       "    .dataframe tbody tr th {\n",
       "        vertical-align: top;\n",
       "    }\n",
       "\n",
       "    .dataframe thead th {\n",
       "        text-align: right;\n",
       "    }\n",
       "</style>\n",
       "<table border=\"1\" class=\"dataframe\">\n",
       "  <thead>\n",
       "    <tr style=\"text-align: right;\">\n",
       "      <th></th>\n",
       "      <th>Open_D-9</th>\n",
       "      <th>High_D-9</th>\n",
       "      <th>Low_D-9</th>\n",
       "      <th>Close_D-9</th>\n",
       "      <th>trading_val_D-9</th>\n",
       "      <th>Open_D-8</th>\n",
       "      <th>High_D-8</th>\n",
       "      <th>Low_D-8</th>\n",
       "      <th>Close_D-8</th>\n",
       "      <th>trading_val_D-8</th>\n",
       "      <th>Open_D-7</th>\n",
       "      <th>High_D-7</th>\n",
       "      <th>Low_D-7</th>\n",
       "      <th>Close_D-7</th>\n",
       "      <th>trading_val_D-7</th>\n",
       "      <th>Open_D-6</th>\n",
       "      <th>High_D-6</th>\n",
       "      <th>Low_D-6</th>\n",
       "      <th>Close_D-6</th>\n",
       "      <th>trading_val_D-6</th>\n",
       "      <th>Open_D-5</th>\n",
       "      <th>High_D-5</th>\n",
       "      <th>Low_D-5</th>\n",
       "      <th>Close_D-5</th>\n",
       "      <th>trading_val_D-5</th>\n",
       "      <th>Open_D-4</th>\n",
       "      <th>High_D-4</th>\n",
       "      <th>Low_D-4</th>\n",
       "      <th>Close_D-4</th>\n",
       "      <th>trading_val_D-4</th>\n",
       "      <th>Open_D-3</th>\n",
       "      <th>High_D-3</th>\n",
       "      <th>Low_D-3</th>\n",
       "      <th>Close_D-3</th>\n",
       "      <th>trading_val_D-3</th>\n",
       "      <th>Open_D-2</th>\n",
       "      <th>High_D-2</th>\n",
       "      <th>Low_D-2</th>\n",
       "      <th>Close_D-2</th>\n",
       "      <th>trading_val_D-2</th>\n",
       "      <th>Open_D-1</th>\n",
       "      <th>High_D-1</th>\n",
       "      <th>Low_D-1</th>\n",
       "      <th>Close_D-1</th>\n",
       "      <th>trading_val_D-1</th>\n",
       "      <th>Open_D-0</th>\n",
       "      <th>High_D-0</th>\n",
       "      <th>Low_D-0</th>\n",
       "      <th>Close_D-0</th>\n",
       "      <th>trading_val_D-0</th>\n",
       "      <th>target</th>\n",
       "    </tr>\n",
       "  </thead>\n",
       "  <tbody>\n",
       "    <tr>\n",
       "      <th>count</th>\n",
       "      <td>564.000000</td>\n",
       "      <td>564.000000</td>\n",
       "      <td>564.000000</td>\n",
       "      <td>564.000000</td>\n",
       "      <td>5.640000e+02</td>\n",
       "      <td>564.000000</td>\n",
       "      <td>564.000000</td>\n",
       "      <td>564.000000</td>\n",
       "      <td>564.000000</td>\n",
       "      <td>5.640000e+02</td>\n",
       "      <td>564.000000</td>\n",
       "      <td>564.000000</td>\n",
       "      <td>564.000000</td>\n",
       "      <td>564.000000</td>\n",
       "      <td>5.640000e+02</td>\n",
       "      <td>564.000000</td>\n",
       "      <td>564.000000</td>\n",
       "      <td>564.000000</td>\n",
       "      <td>564.000000</td>\n",
       "      <td>5.640000e+02</td>\n",
       "      <td>564.000000</td>\n",
       "      <td>564.000000</td>\n",
       "      <td>564.000000</td>\n",
       "      <td>564.000000</td>\n",
       "      <td>5.640000e+02</td>\n",
       "      <td>564.000000</td>\n",
       "      <td>564.000000</td>\n",
       "      <td>564.000000</td>\n",
       "      <td>564.000000</td>\n",
       "      <td>5.640000e+02</td>\n",
       "      <td>564.000000</td>\n",
       "      <td>564.000000</td>\n",
       "      <td>564.000000</td>\n",
       "      <td>564.000000</td>\n",
       "      <td>5.640000e+02</td>\n",
       "      <td>564.000000</td>\n",
       "      <td>564.000000</td>\n",
       "      <td>564.000000</td>\n",
       "      <td>564.000000</td>\n",
       "      <td>5.640000e+02</td>\n",
       "      <td>564.000000</td>\n",
       "      <td>564.000000</td>\n",
       "      <td>564.000000</td>\n",
       "      <td>564.000000</td>\n",
       "      <td>5.640000e+02</td>\n",
       "      <td>564.000000</td>\n",
       "      <td>564.000000</td>\n",
       "      <td>564.000000</td>\n",
       "      <td>564.000000</td>\n",
       "      <td>5.640000e+02</td>\n",
       "      <td>564.000000</td>\n",
       "    </tr>\n",
       "    <tr>\n",
       "      <th>mean</th>\n",
       "      <td>71098.086879</td>\n",
       "      <td>72646.072695</td>\n",
       "      <td>69794.991135</td>\n",
       "      <td>71105.457447</td>\n",
       "      <td>1.041903e+12</td>\n",
       "      <td>71362.342199</td>\n",
       "      <td>72960.643617</td>\n",
       "      <td>69997.554965</td>\n",
       "      <td>71513.671986</td>\n",
       "      <td>1.063863e+12</td>\n",
       "      <td>71640.253546</td>\n",
       "      <td>73488.539007</td>\n",
       "      <td>70393.888298</td>\n",
       "      <td>72091.991135</td>\n",
       "      <td>1.042906e+12</td>\n",
       "      <td>72150.012411</td>\n",
       "      <td>73920.742908</td>\n",
       "      <td>70828.356383</td>\n",
       "      <td>72585.735816</td>\n",
       "      <td>1.098367e+12</td>\n",
       "      <td>72544.707447</td>\n",
       "      <td>74419.037234</td>\n",
       "      <td>71292.929078</td>\n",
       "      <td>73317.294326</td>\n",
       "      <td>1.104992e+12</td>\n",
       "      <td>73063.482270</td>\n",
       "      <td>74986.515957</td>\n",
       "      <td>71692.719858</td>\n",
       "      <td>73799.184397</td>\n",
       "      <td>1.166269e+12</td>\n",
       "      <td>73715.264184</td>\n",
       "      <td>75538.230496</td>\n",
       "      <td>72236.992908</td>\n",
       "      <td>74074.476950</td>\n",
       "      <td>1.198569e+12</td>\n",
       "      <td>74118.597518</td>\n",
       "      <td>76317.709220</td>\n",
       "      <td>72623.718085</td>\n",
       "      <td>74963.031915</td>\n",
       "      <td>1.273523e+12</td>\n",
       "      <td>75398.079787</td>\n",
       "      <td>78228.258865</td>\n",
       "      <td>73530.636525</td>\n",
       "      <td>76405.758865</td>\n",
       "      <td>1.449458e+12</td>\n",
       "      <td>77203.425532</td>\n",
       "      <td>81989.553191</td>\n",
       "      <td>75165.609929</td>\n",
       "      <td>79002.581560</td>\n",
       "      <td>1.830979e+12</td>\n",
       "      <td>0.040407</td>\n",
       "    </tr>\n",
       "    <tr>\n",
       "      <th>std</th>\n",
       "      <td>76589.844277</td>\n",
       "      <td>78010.280421</td>\n",
       "      <td>75450.447245</td>\n",
       "      <td>76564.015106</td>\n",
       "      <td>1.383787e+12</td>\n",
       "      <td>77012.023446</td>\n",
       "      <td>78125.654850</td>\n",
       "      <td>75006.186509</td>\n",
       "      <td>76423.456125</td>\n",
       "      <td>1.344445e+12</td>\n",
       "      <td>76645.685009</td>\n",
       "      <td>78906.036366</td>\n",
       "      <td>75514.167874</td>\n",
       "      <td>77305.880855</td>\n",
       "      <td>1.136893e+12</td>\n",
       "      <td>77189.747166</td>\n",
       "      <td>78752.406364</td>\n",
       "      <td>75652.924737</td>\n",
       "      <td>76979.076964</td>\n",
       "      <td>1.605816e+12</td>\n",
       "      <td>77624.239907</td>\n",
       "      <td>79556.629891</td>\n",
       "      <td>76374.146974</td>\n",
       "      <td>78090.392157</td>\n",
       "      <td>1.517928e+12</td>\n",
       "      <td>78497.897618</td>\n",
       "      <td>80777.662053</td>\n",
       "      <td>76984.978518</td>\n",
       "      <td>79242.449940</td>\n",
       "      <td>1.617093e+12</td>\n",
       "      <td>80127.687006</td>\n",
       "      <td>81835.066986</td>\n",
       "      <td>78453.209497</td>\n",
       "      <td>79856.563429</td>\n",
       "      <td>1.712293e+12</td>\n",
       "      <td>80773.099982</td>\n",
       "      <td>82967.314392</td>\n",
       "      <td>79056.828796</td>\n",
       "      <td>80810.832589</td>\n",
       "      <td>1.815457e+12</td>\n",
       "      <td>82058.671546</td>\n",
       "      <td>85169.715867</td>\n",
       "      <td>79335.303836</td>\n",
       "      <td>82413.747296</td>\n",
       "      <td>1.833226e+12</td>\n",
       "      <td>83800.942755</td>\n",
       "      <td>90671.853565</td>\n",
       "      <td>81804.165116</td>\n",
       "      <td>87125.671728</td>\n",
       "      <td>1.709187e+12</td>\n",
       "      <td>0.100514</td>\n",
       "    </tr>\n",
       "    <tr>\n",
       "      <th>min</th>\n",
       "      <td>550.000000</td>\n",
       "      <td>560.000000</td>\n",
       "      <td>541.000000</td>\n",
       "      <td>544.000000</td>\n",
       "      <td>3.549257e+09</td>\n",
       "      <td>549.000000</td>\n",
       "      <td>560.000000</td>\n",
       "      <td>541.000000</td>\n",
       "      <td>546.000000</td>\n",
       "      <td>3.448088e+09</td>\n",
       "      <td>0.000000</td>\n",
       "      <td>0.000000</td>\n",
       "      <td>0.000000</td>\n",
       "      <td>709.000000</td>\n",
       "      <td>0.000000e+00</td>\n",
       "      <td>0.000000</td>\n",
       "      <td>0.000000</td>\n",
       "      <td>0.000000</td>\n",
       "      <td>745.000000</td>\n",
       "      <td>0.000000e+00</td>\n",
       "      <td>0.000000</td>\n",
       "      <td>0.000000</td>\n",
       "      <td>0.000000</td>\n",
       "      <td>693.000000</td>\n",
       "      <td>0.000000e+00</td>\n",
       "      <td>0.000000</td>\n",
       "      <td>0.000000</td>\n",
       "      <td>0.000000</td>\n",
       "      <td>693.000000</td>\n",
       "      <td>0.000000e+00</td>\n",
       "      <td>0.000000</td>\n",
       "      <td>0.000000</td>\n",
       "      <td>0.000000</td>\n",
       "      <td>699.000000</td>\n",
       "      <td>0.000000e+00</td>\n",
       "      <td>0.000000</td>\n",
       "      <td>0.000000</td>\n",
       "      <td>0.000000</td>\n",
       "      <td>715.000000</td>\n",
       "      <td>0.000000e+00</td>\n",
       "      <td>0.000000</td>\n",
       "      <td>0.000000</td>\n",
       "      <td>0.000000</td>\n",
       "      <td>826.000000</td>\n",
       "      <td>0.000000e+00</td>\n",
       "      <td>898.000000</td>\n",
       "      <td>1070.000000</td>\n",
       "      <td>892.000000</td>\n",
       "      <td>1070.000000</td>\n",
       "      <td>1.000495e+12</td>\n",
       "      <td>-0.300000</td>\n",
       "    </tr>\n",
       "    <tr>\n",
       "      <th>25%</th>\n",
       "      <td>38052.250000</td>\n",
       "      <td>40398.750000</td>\n",
       "      <td>37112.500000</td>\n",
       "      <td>38047.000000</td>\n",
       "      <td>1.850090e+11</td>\n",
       "      <td>38037.250000</td>\n",
       "      <td>39996.250000</td>\n",
       "      <td>37363.750000</td>\n",
       "      <td>38212.000000</td>\n",
       "      <td>2.214951e+11</td>\n",
       "      <td>38222.000000</td>\n",
       "      <td>39836.500000</td>\n",
       "      <td>37281.250000</td>\n",
       "      <td>38381.500000</td>\n",
       "      <td>2.171487e+11</td>\n",
       "      <td>38222.000000</td>\n",
       "      <td>40248.750000</td>\n",
       "      <td>37528.250000</td>\n",
       "      <td>39385.250000</td>\n",
       "      <td>2.380970e+11</td>\n",
       "      <td>38935.250000</td>\n",
       "      <td>40409.500000</td>\n",
       "      <td>37581.000000</td>\n",
       "      <td>39817.750000</td>\n",
       "      <td>2.559294e+11</td>\n",
       "      <td>39197.750000</td>\n",
       "      <td>41305.750000</td>\n",
       "      <td>38481.000000</td>\n",
       "      <td>40839.000000</td>\n",
       "      <td>2.745977e+11</td>\n",
       "      <td>39702.500000</td>\n",
       "      <td>40599.000000</td>\n",
       "      <td>38562.750000</td>\n",
       "      <td>41792.750000</td>\n",
       "      <td>3.062507e+11</td>\n",
       "      <td>41133.250000</td>\n",
       "      <td>43070.000000</td>\n",
       "      <td>39403.250000</td>\n",
       "      <td>42054.750000</td>\n",
       "      <td>3.537973e+11</td>\n",
       "      <td>41950.250000</td>\n",
       "      <td>45500.000000</td>\n",
       "      <td>40236.250000</td>\n",
       "      <td>42964.250000</td>\n",
       "      <td>5.829143e+11</td>\n",
       "      <td>42791.250000</td>\n",
       "      <td>46800.000000</td>\n",
       "      <td>41699.250000</td>\n",
       "      <td>44975.000000</td>\n",
       "      <td>1.143603e+12</td>\n",
       "      <td>-0.010376</td>\n",
       "    </tr>\n",
       "    <tr>\n",
       "      <th>50%</th>\n",
       "      <td>58273.500000</td>\n",
       "      <td>59250.000000</td>\n",
       "      <td>57600.000000</td>\n",
       "      <td>58323.500000</td>\n",
       "      <td>8.089915e+11</td>\n",
       "      <td>58250.000000</td>\n",
       "      <td>58950.000000</td>\n",
       "      <td>57500.000000</td>\n",
       "      <td>58550.000000</td>\n",
       "      <td>8.536831e+11</td>\n",
       "      <td>58000.000000</td>\n",
       "      <td>59100.000000</td>\n",
       "      <td>57600.000000</td>\n",
       "      <td>58550.000000</td>\n",
       "      <td>8.467174e+11</td>\n",
       "      <td>58200.000000</td>\n",
       "      <td>59181.000000</td>\n",
       "      <td>57700.000000</td>\n",
       "      <td>58650.000000</td>\n",
       "      <td>8.174319e+11</td>\n",
       "      <td>58250.000000</td>\n",
       "      <td>59350.000000</td>\n",
       "      <td>57650.000000</td>\n",
       "      <td>58800.000000</td>\n",
       "      <td>8.779020e+11</td>\n",
       "      <td>58800.000000</td>\n",
       "      <td>59400.000000</td>\n",
       "      <td>57800.000000</td>\n",
       "      <td>58650.000000</td>\n",
       "      <td>9.107484e+11</td>\n",
       "      <td>58550.000000</td>\n",
       "      <td>59350.000000</td>\n",
       "      <td>57700.000000</td>\n",
       "      <td>58650.000000</td>\n",
       "      <td>9.143396e+11</td>\n",
       "      <td>58800.000000</td>\n",
       "      <td>59400.000000</td>\n",
       "      <td>57800.000000</td>\n",
       "      <td>58700.000000</td>\n",
       "      <td>9.748433e+11</td>\n",
       "      <td>58250.000000</td>\n",
       "      <td>59350.000000</td>\n",
       "      <td>57500.000000</td>\n",
       "      <td>58600.000000</td>\n",
       "      <td>1.122029e+12</td>\n",
       "      <td>58900.000000</td>\n",
       "      <td>60050.000000</td>\n",
       "      <td>57700.000000</td>\n",
       "      <td>58750.000000</td>\n",
       "      <td>1.380153e+12</td>\n",
       "      <td>0.009025</td>\n",
       "    </tr>\n",
       "    <tr>\n",
       "      <th>75%</th>\n",
       "      <td>82625.000000</td>\n",
       "      <td>83225.000000</td>\n",
       "      <td>81800.000000</td>\n",
       "      <td>82325.000000</td>\n",
       "      <td>1.422301e+12</td>\n",
       "      <td>82625.000000</td>\n",
       "      <td>83225.000000</td>\n",
       "      <td>81800.000000</td>\n",
       "      <td>82325.000000</td>\n",
       "      <td>1.413523e+12</td>\n",
       "      <td>82600.000000</td>\n",
       "      <td>83325.000000</td>\n",
       "      <td>81800.000000</td>\n",
       "      <td>82500.000000</td>\n",
       "      <td>1.434815e+12</td>\n",
       "      <td>82800.000000</td>\n",
       "      <td>83425.000000</td>\n",
       "      <td>81800.000000</td>\n",
       "      <td>82500.000000</td>\n",
       "      <td>1.435822e+12</td>\n",
       "      <td>82700.000000</td>\n",
       "      <td>83400.000000</td>\n",
       "      <td>81800.000000</td>\n",
       "      <td>82525.000000</td>\n",
       "      <td>1.435822e+12</td>\n",
       "      <td>82800.000000</td>\n",
       "      <td>83325.000000</td>\n",
       "      <td>82000.000000</td>\n",
       "      <td>82600.000000</td>\n",
       "      <td>1.469579e+12</td>\n",
       "      <td>82800.000000</td>\n",
       "      <td>83325.000000</td>\n",
       "      <td>81800.000000</td>\n",
       "      <td>82500.000000</td>\n",
       "      <td>1.479368e+12</td>\n",
       "      <td>82700.000000</td>\n",
       "      <td>83400.000000</td>\n",
       "      <td>81925.000000</td>\n",
       "      <td>82600.000000</td>\n",
       "      <td>1.521212e+12</td>\n",
       "      <td>82800.000000</td>\n",
       "      <td>83425.000000</td>\n",
       "      <td>82000.000000</td>\n",
       "      <td>82600.000000</td>\n",
       "      <td>1.679350e+12</td>\n",
       "      <td>82825.000000</td>\n",
       "      <td>83800.000000</td>\n",
       "      <td>82100.000000</td>\n",
       "      <td>82825.000000</td>\n",
       "      <td>1.887869e+12</td>\n",
       "      <td>0.063407</td>\n",
       "    </tr>\n",
       "    <tr>\n",
       "      <th>max</th>\n",
       "      <td>897000.000000</td>\n",
       "      <td>910000.000000</td>\n",
       "      <td>891000.000000</td>\n",
       "      <td>897000.000000</td>\n",
       "      <td>1.550739e+13</td>\n",
       "      <td>903000.000000</td>\n",
       "      <td>904000.000000</td>\n",
       "      <td>881000.000000</td>\n",
       "      <td>881000.000000</td>\n",
       "      <td>1.550739e+13</td>\n",
       "      <td>884000.000000</td>\n",
       "      <td>895000.000000</td>\n",
       "      <td>882000.000000</td>\n",
       "      <td>893000.000000</td>\n",
       "      <td>1.234536e+13</td>\n",
       "      <td>884000.000000</td>\n",
       "      <td>889000.000000</td>\n",
       "      <td>864000.000000</td>\n",
       "      <td>864000.000000</td>\n",
       "      <td>2.271382e+13</td>\n",
       "      <td>872000.000000</td>\n",
       "      <td>881000.000000</td>\n",
       "      <td>867000.000000</td>\n",
       "      <td>871000.000000</td>\n",
       "      <td>2.271382e+13</td>\n",
       "      <td>877000.000000</td>\n",
       "      <td>879000.000000</td>\n",
       "      <td>855000.000000</td>\n",
       "      <td>874000.000000</td>\n",
       "      <td>2.271382e+13</td>\n",
       "      <td>880000.000000</td>\n",
       "      <td>885000.000000</td>\n",
       "      <td>865000.000000</td>\n",
       "      <td>883000.000000</td>\n",
       "      <td>2.271382e+13</td>\n",
       "      <td>891000.000000</td>\n",
       "      <td>903000.000000</td>\n",
       "      <td>886000.000000</td>\n",
       "      <td>891000.000000</td>\n",
       "      <td>2.271382e+13</td>\n",
       "      <td>890000.000000</td>\n",
       "      <td>895000.000000</td>\n",
       "      <td>873000.000000</td>\n",
       "      <td>890000.000000</td>\n",
       "      <td>2.271382e+13</td>\n",
       "      <td>915000.000000</td>\n",
       "      <td>965000.000000</td>\n",
       "      <td>913000.000000</td>\n",
       "      <td>951000.000000</td>\n",
       "      <td>2.271382e+13</td>\n",
       "      <td>0.300068</td>\n",
       "    </tr>\n",
       "  </tbody>\n",
       "</table>\n",
       "</div>"
      ],
      "text/plain": [
       "            Open_D-9       High_D-9        Low_D-9      Close_D-9  \\\n",
       "count     564.000000     564.000000     564.000000     564.000000   \n",
       "mean    71098.086879   72646.072695   69794.991135   71105.457447   \n",
       "std     76589.844277   78010.280421   75450.447245   76564.015106   \n",
       "min       550.000000     560.000000     541.000000     544.000000   \n",
       "25%     38052.250000   40398.750000   37112.500000   38047.000000   \n",
       "50%     58273.500000   59250.000000   57600.000000   58323.500000   \n",
       "75%     82625.000000   83225.000000   81800.000000   82325.000000   \n",
       "max    897000.000000  910000.000000  891000.000000  897000.000000   \n",
       "\n",
       "       trading_val_D-9       Open_D-8       High_D-8        Low_D-8  \\\n",
       "count     5.640000e+02     564.000000     564.000000     564.000000   \n",
       "mean      1.041903e+12   71362.342199   72960.643617   69997.554965   \n",
       "std       1.383787e+12   77012.023446   78125.654850   75006.186509   \n",
       "min       3.549257e+09     549.000000     560.000000     541.000000   \n",
       "25%       1.850090e+11   38037.250000   39996.250000   37363.750000   \n",
       "50%       8.089915e+11   58250.000000   58950.000000   57500.000000   \n",
       "75%       1.422301e+12   82625.000000   83225.000000   81800.000000   \n",
       "max       1.550739e+13  903000.000000  904000.000000  881000.000000   \n",
       "\n",
       "           Close_D-8  trading_val_D-8       Open_D-7       High_D-7  \\\n",
       "count     564.000000     5.640000e+02     564.000000     564.000000   \n",
       "mean    71513.671986     1.063863e+12   71640.253546   73488.539007   \n",
       "std     76423.456125     1.344445e+12   76645.685009   78906.036366   \n",
       "min       546.000000     3.448088e+09       0.000000       0.000000   \n",
       "25%     38212.000000     2.214951e+11   38222.000000   39836.500000   \n",
       "50%     58550.000000     8.536831e+11   58000.000000   59100.000000   \n",
       "75%     82325.000000     1.413523e+12   82600.000000   83325.000000   \n",
       "max    881000.000000     1.550739e+13  884000.000000  895000.000000   \n",
       "\n",
       "             Low_D-7      Close_D-7  trading_val_D-7       Open_D-6  \\\n",
       "count     564.000000     564.000000     5.640000e+02     564.000000   \n",
       "mean    70393.888298   72091.991135     1.042906e+12   72150.012411   \n",
       "std     75514.167874   77305.880855     1.136893e+12   77189.747166   \n",
       "min         0.000000     709.000000     0.000000e+00       0.000000   \n",
       "25%     37281.250000   38381.500000     2.171487e+11   38222.000000   \n",
       "50%     57600.000000   58550.000000     8.467174e+11   58200.000000   \n",
       "75%     81800.000000   82500.000000     1.434815e+12   82800.000000   \n",
       "max    882000.000000  893000.000000     1.234536e+13  884000.000000   \n",
       "\n",
       "            High_D-6        Low_D-6      Close_D-6  trading_val_D-6  \\\n",
       "count     564.000000     564.000000     564.000000     5.640000e+02   \n",
       "mean    73920.742908   70828.356383   72585.735816     1.098367e+12   \n",
       "std     78752.406364   75652.924737   76979.076964     1.605816e+12   \n",
       "min         0.000000       0.000000     745.000000     0.000000e+00   \n",
       "25%     40248.750000   37528.250000   39385.250000     2.380970e+11   \n",
       "50%     59181.000000   57700.000000   58650.000000     8.174319e+11   \n",
       "75%     83425.000000   81800.000000   82500.000000     1.435822e+12   \n",
       "max    889000.000000  864000.000000  864000.000000     2.271382e+13   \n",
       "\n",
       "            Open_D-5       High_D-5        Low_D-5      Close_D-5  \\\n",
       "count     564.000000     564.000000     564.000000     564.000000   \n",
       "mean    72544.707447   74419.037234   71292.929078   73317.294326   \n",
       "std     77624.239907   79556.629891   76374.146974   78090.392157   \n",
       "min         0.000000       0.000000       0.000000     693.000000   \n",
       "25%     38935.250000   40409.500000   37581.000000   39817.750000   \n",
       "50%     58250.000000   59350.000000   57650.000000   58800.000000   \n",
       "75%     82700.000000   83400.000000   81800.000000   82525.000000   \n",
       "max    872000.000000  881000.000000  867000.000000  871000.000000   \n",
       "\n",
       "       trading_val_D-5       Open_D-4       High_D-4        Low_D-4  \\\n",
       "count     5.640000e+02     564.000000     564.000000     564.000000   \n",
       "mean      1.104992e+12   73063.482270   74986.515957   71692.719858   \n",
       "std       1.517928e+12   78497.897618   80777.662053   76984.978518   \n",
       "min       0.000000e+00       0.000000       0.000000       0.000000   \n",
       "25%       2.559294e+11   39197.750000   41305.750000   38481.000000   \n",
       "50%       8.779020e+11   58800.000000   59400.000000   57800.000000   \n",
       "75%       1.435822e+12   82800.000000   83325.000000   82000.000000   \n",
       "max       2.271382e+13  877000.000000  879000.000000  855000.000000   \n",
       "\n",
       "           Close_D-4  trading_val_D-4       Open_D-3       High_D-3  \\\n",
       "count     564.000000     5.640000e+02     564.000000     564.000000   \n",
       "mean    73799.184397     1.166269e+12   73715.264184   75538.230496   \n",
       "std     79242.449940     1.617093e+12   80127.687006   81835.066986   \n",
       "min       693.000000     0.000000e+00       0.000000       0.000000   \n",
       "25%     40839.000000     2.745977e+11   39702.500000   40599.000000   \n",
       "50%     58650.000000     9.107484e+11   58550.000000   59350.000000   \n",
       "75%     82600.000000     1.469579e+12   82800.000000   83325.000000   \n",
       "max    874000.000000     2.271382e+13  880000.000000  885000.000000   \n",
       "\n",
       "             Low_D-3      Close_D-3  trading_val_D-3       Open_D-2  \\\n",
       "count     564.000000     564.000000     5.640000e+02     564.000000   \n",
       "mean    72236.992908   74074.476950     1.198569e+12   74118.597518   \n",
       "std     78453.209497   79856.563429     1.712293e+12   80773.099982   \n",
       "min         0.000000     699.000000     0.000000e+00       0.000000   \n",
       "25%     38562.750000   41792.750000     3.062507e+11   41133.250000   \n",
       "50%     57700.000000   58650.000000     9.143396e+11   58800.000000   \n",
       "75%     81800.000000   82500.000000     1.479368e+12   82700.000000   \n",
       "max    865000.000000  883000.000000     2.271382e+13  891000.000000   \n",
       "\n",
       "            High_D-2        Low_D-2      Close_D-2  trading_val_D-2  \\\n",
       "count     564.000000     564.000000     564.000000     5.640000e+02   \n",
       "mean    76317.709220   72623.718085   74963.031915     1.273523e+12   \n",
       "std     82967.314392   79056.828796   80810.832589     1.815457e+12   \n",
       "min         0.000000       0.000000     715.000000     0.000000e+00   \n",
       "25%     43070.000000   39403.250000   42054.750000     3.537973e+11   \n",
       "50%     59400.000000   57800.000000   58700.000000     9.748433e+11   \n",
       "75%     83400.000000   81925.000000   82600.000000     1.521212e+12   \n",
       "max    903000.000000  886000.000000  891000.000000     2.271382e+13   \n",
       "\n",
       "            Open_D-1       High_D-1        Low_D-1      Close_D-1  \\\n",
       "count     564.000000     564.000000     564.000000     564.000000   \n",
       "mean    75398.079787   78228.258865   73530.636525   76405.758865   \n",
       "std     82058.671546   85169.715867   79335.303836   82413.747296   \n",
       "min         0.000000       0.000000       0.000000     826.000000   \n",
       "25%     41950.250000   45500.000000   40236.250000   42964.250000   \n",
       "50%     58250.000000   59350.000000   57500.000000   58600.000000   \n",
       "75%     82800.000000   83425.000000   82000.000000   82600.000000   \n",
       "max    890000.000000  895000.000000  873000.000000  890000.000000   \n",
       "\n",
       "       trading_val_D-1       Open_D-0       High_D-0        Low_D-0  \\\n",
       "count     5.640000e+02     564.000000     564.000000     564.000000   \n",
       "mean      1.449458e+12   77203.425532   81989.553191   75165.609929   \n",
       "std       1.833226e+12   83800.942755   90671.853565   81804.165116   \n",
       "min       0.000000e+00     898.000000    1070.000000     892.000000   \n",
       "25%       5.829143e+11   42791.250000   46800.000000   41699.250000   \n",
       "50%       1.122029e+12   58900.000000   60050.000000   57700.000000   \n",
       "75%       1.679350e+12   82825.000000   83800.000000   82100.000000   \n",
       "max       2.271382e+13  915000.000000  965000.000000  913000.000000   \n",
       "\n",
       "           Close_D-0  trading_val_D-0      target  \n",
       "count     564.000000     5.640000e+02  564.000000  \n",
       "mean    79002.581560     1.830979e+12    0.040407  \n",
       "std     87125.671728     1.709187e+12    0.100514  \n",
       "min      1070.000000     1.000495e+12   -0.300000  \n",
       "25%     44975.000000     1.143603e+12   -0.010376  \n",
       "50%     58750.000000     1.380153e+12    0.009025  \n",
       "75%     82825.000000     1.887869e+12    0.063407  \n",
       "max    951000.000000     2.271382e+13    0.300068  "
      ]
     },
     "execution_count": 69,
     "metadata": {},
     "output_type": "execute_result"
    }
   ],
   "source": [
    "# 기술통계값\n",
    "df.describe()"
   ]
  },
  {
   "cell_type": "markdown",
   "metadata": {},
   "source": [
    "min값을 살펴보면 주가와 거래대금에 0 값이 존재함을 알 수 있음.<br>\n",
    "이상치 데이터 뽑아 종목 시각화 해보기"
   ]
  },
  {
   "cell_type": "code",
   "execution_count": 70,
   "metadata": {
    "ExecuteTime": {
     "end_time": "2022-12-07T12:51:51.121382Z",
     "start_time": "2022-12-07T12:51:51.083461Z"
    }
   },
   "outputs": [
    {
     "data": {
      "text/html": [
       "<div>\n",
       "<style scoped>\n",
       "    .dataframe tbody tr th:only-of-type {\n",
       "        vertical-align: middle;\n",
       "    }\n",
       "\n",
       "    .dataframe tbody tr th {\n",
       "        vertical-align: top;\n",
       "    }\n",
       "\n",
       "    .dataframe thead th {\n",
       "        text-align: right;\n",
       "    }\n",
       "</style>\n",
       "<table border=\"1\" class=\"dataframe\">\n",
       "  <thead>\n",
       "    <tr style=\"text-align: right;\">\n",
       "      <th></th>\n",
       "      <th>code</th>\n",
       "      <th>date</th>\n",
       "      <th>Open_D-9</th>\n",
       "      <th>High_D-9</th>\n",
       "      <th>Low_D-9</th>\n",
       "      <th>Close_D-9</th>\n",
       "      <th>trading_val_D-9</th>\n",
       "      <th>Open_D-8</th>\n",
       "      <th>High_D-8</th>\n",
       "      <th>Low_D-8</th>\n",
       "      <th>Close_D-8</th>\n",
       "      <th>trading_val_D-8</th>\n",
       "      <th>Open_D-7</th>\n",
       "      <th>High_D-7</th>\n",
       "      <th>Low_D-7</th>\n",
       "      <th>Close_D-7</th>\n",
       "      <th>trading_val_D-7</th>\n",
       "      <th>Open_D-6</th>\n",
       "      <th>High_D-6</th>\n",
       "      <th>Low_D-6</th>\n",
       "      <th>Close_D-6</th>\n",
       "      <th>trading_val_D-6</th>\n",
       "      <th>Open_D-5</th>\n",
       "      <th>High_D-5</th>\n",
       "      <th>Low_D-5</th>\n",
       "      <th>Close_D-5</th>\n",
       "      <th>trading_val_D-5</th>\n",
       "      <th>Open_D-4</th>\n",
       "      <th>High_D-4</th>\n",
       "      <th>Low_D-4</th>\n",
       "      <th>Close_D-4</th>\n",
       "      <th>trading_val_D-4</th>\n",
       "      <th>Open_D-3</th>\n",
       "      <th>High_D-3</th>\n",
       "      <th>Low_D-3</th>\n",
       "      <th>Close_D-3</th>\n",
       "      <th>trading_val_D-3</th>\n",
       "      <th>Open_D-2</th>\n",
       "      <th>High_D-2</th>\n",
       "      <th>Low_D-2</th>\n",
       "      <th>Close_D-2</th>\n",
       "      <th>trading_val_D-2</th>\n",
       "      <th>Open_D-1</th>\n",
       "      <th>High_D-1</th>\n",
       "      <th>Low_D-1</th>\n",
       "      <th>Close_D-1</th>\n",
       "      <th>trading_val_D-1</th>\n",
       "      <th>Open_D-0</th>\n",
       "      <th>High_D-0</th>\n",
       "      <th>Low_D-0</th>\n",
       "      <th>Close_D-0</th>\n",
       "      <th>trading_val_D-0</th>\n",
       "      <th>target</th>\n",
       "    </tr>\n",
       "  </thead>\n",
       "  <tbody>\n",
       "    <tr>\n",
       "      <th>89</th>\n",
       "      <td>019170</td>\n",
       "      <td>20200722</td>\n",
       "      <td>40250</td>\n",
       "      <td>42850</td>\n",
       "      <td>39500</td>\n",
       "      <td>41150</td>\n",
       "      <td>331143926000</td>\n",
       "      <td>42100</td>\n",
       "      <td>52900</td>\n",
       "      <td>40800</td>\n",
       "      <td>48650</td>\n",
       "      <td>1062156719750</td>\n",
       "      <td>51300</td>\n",
       "      <td>60600</td>\n",
       "      <td>50100</td>\n",
       "      <td>60300</td>\n",
       "      <td>793799812800</td>\n",
       "      <td>58200</td>\n",
       "      <td>72400</td>\n",
       "      <td>55400</td>\n",
       "      <td>62500</td>\n",
       "      <td>660813687500</td>\n",
       "      <td>67300</td>\n",
       "      <td>70800</td>\n",
       "      <td>56000</td>\n",
       "      <td>62600</td>\n",
       "      <td>503703951400</td>\n",
       "      <td>61100</td>\n",
       "      <td>65200</td>\n",
       "      <td>59300</td>\n",
       "      <td>63100</td>\n",
       "      <td>289321198200</td>\n",
       "      <td>65100</td>\n",
       "      <td>75900</td>\n",
       "      <td>63600</td>\n",
       "      <td>73000</td>\n",
       "      <td>755282382000</td>\n",
       "      <td>80700</td>\n",
       "      <td>94900</td>\n",
       "      <td>78000</td>\n",
       "      <td>94900</td>\n",
       "      <td>824123747200</td>\n",
       "      <td>0</td>\n",
       "      <td>0</td>\n",
       "      <td>0</td>\n",
       "      <td>94900</td>\n",
       "      <td>0</td>\n",
       "      <td>111500</td>\n",
       "      <td>123000</td>\n",
       "      <td>95200</td>\n",
       "      <td>123000</td>\n",
       "      <td>1047121755000</td>\n",
       "      <td>0.296101</td>\n",
       "    </tr>\n",
       "    <tr>\n",
       "      <th>266</th>\n",
       "      <td>005930</td>\n",
       "      <td>20180504</td>\n",
       "      <td>51800</td>\n",
       "      <td>52260</td>\n",
       "      <td>51420</td>\n",
       "      <td>51620</td>\n",
       "      <td>12142056400</td>\n",
       "      <td>51000</td>\n",
       "      <td>52080</td>\n",
       "      <td>51000</td>\n",
       "      <td>51900</td>\n",
       "      <td>12060522000</td>\n",
       "      <td>51840</td>\n",
       "      <td>51860</td>\n",
       "      <td>50080</td>\n",
       "      <td>50460</td>\n",
       "      <td>15915386760</td>\n",
       "      <td>49220</td>\n",
       "      <td>50500</td>\n",
       "      <td>49220</td>\n",
       "      <td>50400</td>\n",
       "      <td>16747516800</td>\n",
       "      <td>50420</td>\n",
       "      <td>52160</td>\n",
       "      <td>50400</td>\n",
       "      <td>52140</td>\n",
       "      <td>18818942340</td>\n",
       "      <td>53380</td>\n",
       "      <td>53639</td>\n",
       "      <td>52440</td>\n",
       "      <td>53000</td>\n",
       "      <td>32129448000</td>\n",
       "      <td>0</td>\n",
       "      <td>0</td>\n",
       "      <td>0</td>\n",
       "      <td>53000</td>\n",
       "      <td>0</td>\n",
       "      <td>0</td>\n",
       "      <td>0</td>\n",
       "      <td>0</td>\n",
       "      <td>53000</td>\n",
       "      <td>0</td>\n",
       "      <td>0</td>\n",
       "      <td>0</td>\n",
       "      <td>0</td>\n",
       "      <td>53000</td>\n",
       "      <td>0</td>\n",
       "      <td>53000</td>\n",
       "      <td>53900</td>\n",
       "      <td>51800</td>\n",
       "      <td>51900</td>\n",
       "      <td>2053443792900</td>\n",
       "      <td>-0.020755</td>\n",
       "    </tr>\n",
       "  </tbody>\n",
       "</table>\n",
       "</div>"
      ],
      "text/plain": [
       "       code      date  Open_D-9  High_D-9  Low_D-9  Close_D-9  \\\n",
       "89   019170  20200722     40250     42850    39500      41150   \n",
       "266  005930  20180504     51800     52260    51420      51620   \n",
       "\n",
       "     trading_val_D-9  Open_D-8  High_D-8  Low_D-8  Close_D-8  trading_val_D-8  \\\n",
       "89      331143926000     42100     52900    40800      48650    1062156719750   \n",
       "266      12142056400     51000     52080    51000      51900      12060522000   \n",
       "\n",
       "     Open_D-7  High_D-7  Low_D-7  Close_D-7  trading_val_D-7  Open_D-6  \\\n",
       "89      51300     60600    50100      60300     793799812800     58200   \n",
       "266     51840     51860    50080      50460      15915386760     49220   \n",
       "\n",
       "     High_D-6  Low_D-6  Close_D-6  trading_val_D-6  Open_D-5  High_D-5  \\\n",
       "89      72400    55400      62500     660813687500     67300     70800   \n",
       "266     50500    49220      50400      16747516800     50420     52160   \n",
       "\n",
       "     Low_D-5  Close_D-5  trading_val_D-5  Open_D-4  High_D-4  Low_D-4  \\\n",
       "89     56000      62600     503703951400     61100     65200    59300   \n",
       "266    50400      52140      18818942340     53380     53639    52440   \n",
       "\n",
       "     Close_D-4  trading_val_D-4  Open_D-3  High_D-3  Low_D-3  Close_D-3  \\\n",
       "89       63100     289321198200     65100     75900    63600      73000   \n",
       "266      53000      32129448000         0         0        0      53000   \n",
       "\n",
       "     trading_val_D-3  Open_D-2  High_D-2  Low_D-2  Close_D-2  trading_val_D-2  \\\n",
       "89      755282382000     80700     94900    78000      94900     824123747200   \n",
       "266                0         0         0        0      53000                0   \n",
       "\n",
       "     Open_D-1  High_D-1  Low_D-1  Close_D-1  trading_val_D-1  Open_D-0  \\\n",
       "89          0         0        0      94900                0    111500   \n",
       "266         0         0        0      53000                0     53000   \n",
       "\n",
       "     High_D-0  Low_D-0  Close_D-0  trading_val_D-0    target  \n",
       "89     123000    95200     123000    1047121755000  0.296101  \n",
       "266     53900    51800      51900    2053443792900 -0.020755  "
      ]
     },
     "execution_count": 70,
     "metadata": {},
     "output_type": "execute_result"
    }
   ],
   "source": [
    "df[df['trading_val_D-1'] == df['trading_val_D-1'].min()]"
   ]
  },
  {
   "cell_type": "markdown",
   "metadata": {},
   "source": [
    "# 주식 종목 시각화 해보기\n",
    "- 주가가 0인 종목 시각화 해보기\n",
    "- 주가와 거래대금의 차이가 꽤 많이 나서 따로 시각화를 진행하였다."
   ]
  },
  {
   "cell_type": "markdown",
   "metadata": {},
   "source": [
    "## 삼성전자 주가 시각화\n",
    "- 2018년 2월 1일 ~ 2018년 6월 30일까지 시각화\n",
    "- 종가를 제외한 주가에서 모두 O으로 나타남"
   ]
  },
  {
   "cell_type": "code",
   "execution_count": 55,
   "metadata": {
    "ExecuteTime": {
     "end_time": "2022-12-07T12:38:52.789320Z",
     "start_time": "2022-12-07T12:38:52.671632Z"
    },
    "scrolled": true
   },
   "outputs": [
    {
     "data": {
      "application/vnd.plotly.v1+json": {
       "config": {
        "linkText": "Export to plot.ly",
        "plotlyServerURL": "https://plot.ly",
        "showLink": true
       },
       "data": [
        {
         "line": {
          "color": "rgba(255, 153, 51, 1.0)",
          "dash": "solid",
          "shape": "linear",
          "width": 1.3
         },
         "mode": "lines",
         "name": "Open",
         "text": "",
         "type": "scatter",
         "x": [
          "2018-02-01",
          "2018-02-02",
          "2018-02-05",
          "2018-02-06",
          "2018-02-07",
          "2018-02-08",
          "2018-02-09",
          "2018-02-12",
          "2018-02-13",
          "2018-02-14",
          "2018-02-19",
          "2018-02-20",
          "2018-02-21",
          "2018-02-22",
          "2018-02-23",
          "2018-02-26",
          "2018-02-27",
          "2018-02-28",
          "2018-03-02",
          "2018-03-05",
          "2018-03-06",
          "2018-03-07",
          "2018-03-08",
          "2018-03-09",
          "2018-03-12",
          "2018-03-13",
          "2018-03-14",
          "2018-03-15",
          "2018-03-16",
          "2018-03-19",
          "2018-03-20",
          "2018-03-21",
          "2018-03-22",
          "2018-03-23",
          "2018-03-26",
          "2018-03-27",
          "2018-03-28",
          "2018-03-29",
          "2018-03-30",
          "2018-04-02",
          "2018-04-03",
          "2018-04-04",
          "2018-04-05",
          "2018-04-06",
          "2018-04-09",
          "2018-04-10",
          "2018-04-11",
          "2018-04-12",
          "2018-04-13",
          "2018-04-16",
          "2018-04-17",
          "2018-04-18",
          "2018-04-19",
          "2018-04-20",
          "2018-04-23",
          "2018-04-24",
          "2018-04-25",
          "2018-04-26",
          "2018-04-27",
          "2018-04-30",
          "2018-05-02",
          "2018-05-03",
          "2018-05-04",
          "2018-05-08",
          "2018-05-09",
          "2018-05-10",
          "2018-05-11",
          "2018-05-14",
          "2018-05-15",
          "2018-05-16",
          "2018-05-17",
          "2018-05-18",
          "2018-05-21",
          "2018-05-23",
          "2018-05-24",
          "2018-05-25",
          "2018-05-28",
          "2018-05-29",
          "2018-05-30",
          "2018-05-31",
          "2018-06-01",
          "2018-06-04",
          "2018-06-05",
          "2018-06-07",
          "2018-06-08",
          "2018-06-11",
          "2018-06-12",
          "2018-06-14",
          "2018-06-15",
          "2018-06-18",
          "2018-06-19",
          "2018-06-20",
          "2018-06-21",
          "2018-06-22",
          "2018-06-25",
          "2018-06-26",
          "2018-06-27",
          "2018-06-28",
          "2018-06-29"
         ],
         "y": [
          50620,
          49380,
          46500,
          46600,
          48240,
          46120,
          44440,
          45100,
          46200,
          48080,
          49800,
          48040,
          47280,
          47260,
          46760,
          47280,
          48360,
          47380,
          46580,
          45820,
          45920,
          48200,
          49200,
          49440,
          50560,
          50760,
          51020,
          52000,
          51220,
          50620,
          50700,
          51780,
          51060,
          50340,
          49420,
          50320,
          49100,
          48700,
          49080,
          49000,
          47880,
          48160,
          47400,
          48000,
          48260,
          48540,
          49900,
          49440,
          49600,
          50320,
          50240,
          51000,
          52000,
          51800,
          51000,
          51840,
          49220,
          50420,
          53380,
          0,
          0,
          0,
          53000,
          52600,
          52600,
          51700,
          52000,
          51000,
          50200,
          49200,
          50300,
          49900,
          49650,
          50600,
          52000,
          51000,
          52500,
          52200,
          51300,
          50400,
          50500,
          50800,
          51100,
          51800,
          50200,
          49750,
          49700,
          49000,
          48500,
          47600,
          47200,
          47450,
          47900,
          47000,
          47050,
          45900,
          47450,
          46850,
          46250
         ]
        },
        {
         "line": {
          "color": "rgba(55, 128, 191, 1.0)",
          "dash": "solid",
          "shape": "linear",
          "width": 1.3
         },
         "mode": "lines",
         "name": "High",
         "text": "",
         "type": "scatter",
         "x": [
          "2018-02-01",
          "2018-02-02",
          "2018-02-05",
          "2018-02-06",
          "2018-02-07",
          "2018-02-08",
          "2018-02-09",
          "2018-02-12",
          "2018-02-13",
          "2018-02-14",
          "2018-02-19",
          "2018-02-20",
          "2018-02-21",
          "2018-02-22",
          "2018-02-23",
          "2018-02-26",
          "2018-02-27",
          "2018-02-28",
          "2018-03-02",
          "2018-03-05",
          "2018-03-06",
          "2018-03-07",
          "2018-03-08",
          "2018-03-09",
          "2018-03-12",
          "2018-03-13",
          "2018-03-14",
          "2018-03-15",
          "2018-03-16",
          "2018-03-19",
          "2018-03-20",
          "2018-03-21",
          "2018-03-22",
          "2018-03-23",
          "2018-03-26",
          "2018-03-27",
          "2018-03-28",
          "2018-03-29",
          "2018-03-30",
          "2018-04-02",
          "2018-04-03",
          "2018-04-04",
          "2018-04-05",
          "2018-04-06",
          "2018-04-09",
          "2018-04-10",
          "2018-04-11",
          "2018-04-12",
          "2018-04-13",
          "2018-04-16",
          "2018-04-17",
          "2018-04-18",
          "2018-04-19",
          "2018-04-20",
          "2018-04-23",
          "2018-04-24",
          "2018-04-25",
          "2018-04-26",
          "2018-04-27",
          "2018-04-30",
          "2018-05-02",
          "2018-05-03",
          "2018-05-04",
          "2018-05-08",
          "2018-05-09",
          "2018-05-10",
          "2018-05-11",
          "2018-05-14",
          "2018-05-15",
          "2018-05-16",
          "2018-05-17",
          "2018-05-18",
          "2018-05-21",
          "2018-05-23",
          "2018-05-24",
          "2018-05-25",
          "2018-05-28",
          "2018-05-29",
          "2018-05-30",
          "2018-05-31",
          "2018-06-01",
          "2018-06-04",
          "2018-06-05",
          "2018-06-07",
          "2018-06-08",
          "2018-06-11",
          "2018-06-12",
          "2018-06-14",
          "2018-06-15",
          "2018-06-18",
          "2018-06-19",
          "2018-06-20",
          "2018-06-21",
          "2018-06-22",
          "2018-06-25",
          "2018-06-26",
          "2018-06-27",
          "2018-06-28",
          "2018-06-29"
         ],
         "y": [
          50960,
          49400,
          48320,
          47920,
          48260,
          46620,
          45180,
          46320,
          48060,
          49100,
          49800,
          48160,
          47580,
          47260,
          47800,
          47560,
          48380,
          48100,
          46800,
          46160,
          47100,
          48900,
          49480,
          50540,
          50780,
          51660,
          52000,
          52020,
          51420,
          51340,
          51200,
          51780,
          51780,
          50720,
          50280,
          50460,
          49100,
          49560,
          49900,
          49220,
          48140,
          48260,
          49380,
          48580,
          49440,
          49220,
          49900,
          49440,
          50180,
          50600,
          50540,
          51360,
          52980,
          52260,
          52080,
          51860,
          50500,
          52160,
          53639,
          0,
          0,
          0,
          53900,
          53200,
          52800,
          51700,
          52200,
          51100,
          50400,
          50200,
          50500,
          49900,
          50200,
          52000,
          52000,
          52800,
          53000,
          52500,
          51500,
          50800,
          51700,
          51200,
          51400,
          51800,
          50400,
          50300,
          49800,
          49000,
          48700,
          47650,
          47350,
          47600,
          47900,
          47250,
          47050,
          47300,
          48500,
          47150,
          47150
         ]
        },
        {
         "line": {
          "color": "rgba(50, 171, 96, 1.0)",
          "dash": "solid",
          "shape": "linear",
          "width": 1.3
         },
         "mode": "lines",
         "name": "Low",
         "text": "",
         "type": "scatter",
         "x": [
          "2018-02-01",
          "2018-02-02",
          "2018-02-05",
          "2018-02-06",
          "2018-02-07",
          "2018-02-08",
          "2018-02-09",
          "2018-02-12",
          "2018-02-13",
          "2018-02-14",
          "2018-02-19",
          "2018-02-20",
          "2018-02-21",
          "2018-02-22",
          "2018-02-23",
          "2018-02-26",
          "2018-02-27",
          "2018-02-28",
          "2018-03-02",
          "2018-03-05",
          "2018-03-06",
          "2018-03-07",
          "2018-03-08",
          "2018-03-09",
          "2018-03-12",
          "2018-03-13",
          "2018-03-14",
          "2018-03-15",
          "2018-03-16",
          "2018-03-19",
          "2018-03-20",
          "2018-03-21",
          "2018-03-22",
          "2018-03-23",
          "2018-03-26",
          "2018-03-27",
          "2018-03-28",
          "2018-03-29",
          "2018-03-30",
          "2018-04-02",
          "2018-04-03",
          "2018-04-04",
          "2018-04-05",
          "2018-04-06",
          "2018-04-09",
          "2018-04-10",
          "2018-04-11",
          "2018-04-12",
          "2018-04-13",
          "2018-04-16",
          "2018-04-17",
          "2018-04-18",
          "2018-04-19",
          "2018-04-20",
          "2018-04-23",
          "2018-04-24",
          "2018-04-25",
          "2018-04-26",
          "2018-04-27",
          "2018-04-30",
          "2018-05-02",
          "2018-05-03",
          "2018-05-04",
          "2018-05-08",
          "2018-05-09",
          "2018-05-10",
          "2018-05-11",
          "2018-05-14",
          "2018-05-15",
          "2018-05-16",
          "2018-05-17",
          "2018-05-18",
          "2018-05-21",
          "2018-05-23",
          "2018-05-24",
          "2018-05-25",
          "2018-05-28",
          "2018-05-29",
          "2018-05-30",
          "2018-05-31",
          "2018-06-01",
          "2018-06-04",
          "2018-06-05",
          "2018-06-07",
          "2018-06-08",
          "2018-06-11",
          "2018-06-12",
          "2018-06-14",
          "2018-06-15",
          "2018-06-18",
          "2018-06-19",
          "2018-06-20",
          "2018-06-21",
          "2018-06-22",
          "2018-06-25",
          "2018-06-26",
          "2018-06-27",
          "2018-06-28",
          "2018-06-29"
         ],
         "y": [
          49720,
          47700,
          46000,
          46580,
          45800,
          45980,
          44420,
          45040,
          46200,
          47940,
          47860,
          47220,
          46840,
          46760,
          46760,
          47080,
          47380,
          47000,
          46000,
          45080,
          45820,
          47220,
          48080,
          49240,
          49580,
          50360,
          51000,
          51020,
          50240,
          50440,
          50100,
          51060,
          51040,
          49600,
          49040,
          49080,
          48340,
          48320,
          49080,
          48500,
          47280,
          46920,
          47340,
          47400,
          48200,
          48040,
          48600,
          48880,
          49400,
          49860,
          49820,
          50580,
          51540,
          51420,
          51000,
          50080,
          49220,
          50400,
          52440,
          0,
          0,
          0,
          51800,
          51900,
          50900,
          50600,
          51200,
          49900,
          49100,
          49150,
          49400,
          49350,
          49100,
          50400,
          51100,
          50800,
          52000,
          51300,
          49100,
          49850,
          49950,
          50700,
          50400,
          50500,
          49600,
          49350,
          49250,
          48200,
          47650,
          46200,
          46500,
          46850,
          47050,
          46200,
          46150,
          45900,
          47000,
          46600,
          46200
         ]
        },
        {
         "line": {
          "color": "rgba(128, 0, 128, 1.0)",
          "dash": "solid",
          "shape": "linear",
          "width": 1.3
         },
         "mode": "lines",
         "name": "Close",
         "text": "",
         "type": "scatter",
         "x": [
          "2018-02-01",
          "2018-02-02",
          "2018-02-05",
          "2018-02-06",
          "2018-02-07",
          "2018-02-08",
          "2018-02-09",
          "2018-02-12",
          "2018-02-13",
          "2018-02-14",
          "2018-02-19",
          "2018-02-20",
          "2018-02-21",
          "2018-02-22",
          "2018-02-23",
          "2018-02-26",
          "2018-02-27",
          "2018-02-28",
          "2018-03-02",
          "2018-03-05",
          "2018-03-06",
          "2018-03-07",
          "2018-03-08",
          "2018-03-09",
          "2018-03-12",
          "2018-03-13",
          "2018-03-14",
          "2018-03-15",
          "2018-03-16",
          "2018-03-19",
          "2018-03-20",
          "2018-03-21",
          "2018-03-22",
          "2018-03-23",
          "2018-03-26",
          "2018-03-27",
          "2018-03-28",
          "2018-03-29",
          "2018-03-30",
          "2018-04-02",
          "2018-04-03",
          "2018-04-04",
          "2018-04-05",
          "2018-04-06",
          "2018-04-09",
          "2018-04-10",
          "2018-04-11",
          "2018-04-12",
          "2018-04-13",
          "2018-04-16",
          "2018-04-17",
          "2018-04-18",
          "2018-04-19",
          "2018-04-20",
          "2018-04-23",
          "2018-04-24",
          "2018-04-25",
          "2018-04-26",
          "2018-04-27",
          "2018-04-30",
          "2018-05-02",
          "2018-05-03",
          "2018-05-04",
          "2018-05-08",
          "2018-05-09",
          "2018-05-10",
          "2018-05-11",
          "2018-05-14",
          "2018-05-15",
          "2018-05-16",
          "2018-05-17",
          "2018-05-18",
          "2018-05-21",
          "2018-05-23",
          "2018-05-24",
          "2018-05-25",
          "2018-05-28",
          "2018-05-29",
          "2018-05-30",
          "2018-05-31",
          "2018-06-01",
          "2018-06-04",
          "2018-06-05",
          "2018-06-07",
          "2018-06-08",
          "2018-06-11",
          "2018-06-12",
          "2018-06-14",
          "2018-06-15",
          "2018-06-18",
          "2018-06-19",
          "2018-06-20",
          "2018-06-21",
          "2018-06-22",
          "2018-06-25",
          "2018-06-26",
          "2018-06-27",
          "2018-06-28",
          "2018-06-29"
         ],
         "y": [
          49820,
          47700,
          47920,
          47420,
          45800,
          46000,
          44700,
          45720,
          47540,
          49000,
          48380,
          47400,
          47280,
          46760,
          47220,
          47380,
          47380,
          47060,
          46020,
          45200,
          47020,
          48620,
          49200,
          49740,
          49740,
          51660,
          51760,
          51540,
          51140,
          50740,
          51200,
          51060,
          51780,
          49720,
          50280,
          49980,
          48700,
          49040,
          49220,
          48540,
          48120,
          46920,
          48740,
          48400,
          49200,
          48880,
          48860,
          49000,
          49800,
          50340,
          49980,
          51360,
          52780,
          51620,
          51900,
          50460,
          50400,
          52140,
          53000,
          53000,
          53000,
          53000,
          51900,
          52600,
          50900,
          51600,
          51300,
          50100,
          49200,
          49850,
          49400,
          49500,
          50000,
          51800,
          51400,
          52700,
          52300,
          51300,
          49500,
          50700,
          51300,
          51100,
          51300,
          50600,
          49650,
          49900,
          49400,
          48200,
          47650,
          46600,
          47000,
          47000,
          47050,
          47250,
          46650,
          47000,
          47950,
          46800,
          46650
         ]
        }
       ],
       "layout": {
        "legend": {
         "bgcolor": "#F5F6F9",
         "font": {
          "color": "#4D5663"
         }
        },
        "paper_bgcolor": "#F5F6F9",
        "plot_bgcolor": "#F5F6F9",
        "template": {
         "data": {
          "bar": [
           {
            "error_x": {
             "color": "#2a3f5f"
            },
            "error_y": {
             "color": "#2a3f5f"
            },
            "marker": {
             "line": {
              "color": "#E5ECF6",
              "width": 0.5
             },
             "pattern": {
              "fillmode": "overlay",
              "size": 10,
              "solidity": 0.2
             }
            },
            "type": "bar"
           }
          ],
          "barpolar": [
           {
            "marker": {
             "line": {
              "color": "#E5ECF6",
              "width": 0.5
             },
             "pattern": {
              "fillmode": "overlay",
              "size": 10,
              "solidity": 0.2
             }
            },
            "type": "barpolar"
           }
          ],
          "carpet": [
           {
            "aaxis": {
             "endlinecolor": "#2a3f5f",
             "gridcolor": "white",
             "linecolor": "white",
             "minorgridcolor": "white",
             "startlinecolor": "#2a3f5f"
            },
            "baxis": {
             "endlinecolor": "#2a3f5f",
             "gridcolor": "white",
             "linecolor": "white",
             "minorgridcolor": "white",
             "startlinecolor": "#2a3f5f"
            },
            "type": "carpet"
           }
          ],
          "choropleth": [
           {
            "colorbar": {
             "outlinewidth": 0,
             "ticks": ""
            },
            "type": "choropleth"
           }
          ],
          "contour": [
           {
            "colorbar": {
             "outlinewidth": 0,
             "ticks": ""
            },
            "colorscale": [
             [
              0,
              "#0d0887"
             ],
             [
              0.1111111111111111,
              "#46039f"
             ],
             [
              0.2222222222222222,
              "#7201a8"
             ],
             [
              0.3333333333333333,
              "#9c179e"
             ],
             [
              0.4444444444444444,
              "#bd3786"
             ],
             [
              0.5555555555555556,
              "#d8576b"
             ],
             [
              0.6666666666666666,
              "#ed7953"
             ],
             [
              0.7777777777777778,
              "#fb9f3a"
             ],
             [
              0.8888888888888888,
              "#fdca26"
             ],
             [
              1,
              "#f0f921"
             ]
            ],
            "type": "contour"
           }
          ],
          "contourcarpet": [
           {
            "colorbar": {
             "outlinewidth": 0,
             "ticks": ""
            },
            "type": "contourcarpet"
           }
          ],
          "heatmap": [
           {
            "colorbar": {
             "outlinewidth": 0,
             "ticks": ""
            },
            "colorscale": [
             [
              0,
              "#0d0887"
             ],
             [
              0.1111111111111111,
              "#46039f"
             ],
             [
              0.2222222222222222,
              "#7201a8"
             ],
             [
              0.3333333333333333,
              "#9c179e"
             ],
             [
              0.4444444444444444,
              "#bd3786"
             ],
             [
              0.5555555555555556,
              "#d8576b"
             ],
             [
              0.6666666666666666,
              "#ed7953"
             ],
             [
              0.7777777777777778,
              "#fb9f3a"
             ],
             [
              0.8888888888888888,
              "#fdca26"
             ],
             [
              1,
              "#f0f921"
             ]
            ],
            "type": "heatmap"
           }
          ],
          "heatmapgl": [
           {
            "colorbar": {
             "outlinewidth": 0,
             "ticks": ""
            },
            "colorscale": [
             [
              0,
              "#0d0887"
             ],
             [
              0.1111111111111111,
              "#46039f"
             ],
             [
              0.2222222222222222,
              "#7201a8"
             ],
             [
              0.3333333333333333,
              "#9c179e"
             ],
             [
              0.4444444444444444,
              "#bd3786"
             ],
             [
              0.5555555555555556,
              "#d8576b"
             ],
             [
              0.6666666666666666,
              "#ed7953"
             ],
             [
              0.7777777777777778,
              "#fb9f3a"
             ],
             [
              0.8888888888888888,
              "#fdca26"
             ],
             [
              1,
              "#f0f921"
             ]
            ],
            "type": "heatmapgl"
           }
          ],
          "histogram": [
           {
            "marker": {
             "pattern": {
              "fillmode": "overlay",
              "size": 10,
              "solidity": 0.2
             }
            },
            "type": "histogram"
           }
          ],
          "histogram2d": [
           {
            "colorbar": {
             "outlinewidth": 0,
             "ticks": ""
            },
            "colorscale": [
             [
              0,
              "#0d0887"
             ],
             [
              0.1111111111111111,
              "#46039f"
             ],
             [
              0.2222222222222222,
              "#7201a8"
             ],
             [
              0.3333333333333333,
              "#9c179e"
             ],
             [
              0.4444444444444444,
              "#bd3786"
             ],
             [
              0.5555555555555556,
              "#d8576b"
             ],
             [
              0.6666666666666666,
              "#ed7953"
             ],
             [
              0.7777777777777778,
              "#fb9f3a"
             ],
             [
              0.8888888888888888,
              "#fdca26"
             ],
             [
              1,
              "#f0f921"
             ]
            ],
            "type": "histogram2d"
           }
          ],
          "histogram2dcontour": [
           {
            "colorbar": {
             "outlinewidth": 0,
             "ticks": ""
            },
            "colorscale": [
             [
              0,
              "#0d0887"
             ],
             [
              0.1111111111111111,
              "#46039f"
             ],
             [
              0.2222222222222222,
              "#7201a8"
             ],
             [
              0.3333333333333333,
              "#9c179e"
             ],
             [
              0.4444444444444444,
              "#bd3786"
             ],
             [
              0.5555555555555556,
              "#d8576b"
             ],
             [
              0.6666666666666666,
              "#ed7953"
             ],
             [
              0.7777777777777778,
              "#fb9f3a"
             ],
             [
              0.8888888888888888,
              "#fdca26"
             ],
             [
              1,
              "#f0f921"
             ]
            ],
            "type": "histogram2dcontour"
           }
          ],
          "mesh3d": [
           {
            "colorbar": {
             "outlinewidth": 0,
             "ticks": ""
            },
            "type": "mesh3d"
           }
          ],
          "parcoords": [
           {
            "line": {
             "colorbar": {
              "outlinewidth": 0,
              "ticks": ""
             }
            },
            "type": "parcoords"
           }
          ],
          "pie": [
           {
            "automargin": true,
            "type": "pie"
           }
          ],
          "scatter": [
           {
            "fillpattern": {
             "fillmode": "overlay",
             "size": 10,
             "solidity": 0.2
            },
            "type": "scatter"
           }
          ],
          "scatter3d": [
           {
            "line": {
             "colorbar": {
              "outlinewidth": 0,
              "ticks": ""
             }
            },
            "marker": {
             "colorbar": {
              "outlinewidth": 0,
              "ticks": ""
             }
            },
            "type": "scatter3d"
           }
          ],
          "scattercarpet": [
           {
            "marker": {
             "colorbar": {
              "outlinewidth": 0,
              "ticks": ""
             }
            },
            "type": "scattercarpet"
           }
          ],
          "scattergeo": [
           {
            "marker": {
             "colorbar": {
              "outlinewidth": 0,
              "ticks": ""
             }
            },
            "type": "scattergeo"
           }
          ],
          "scattergl": [
           {
            "marker": {
             "colorbar": {
              "outlinewidth": 0,
              "ticks": ""
             }
            },
            "type": "scattergl"
           }
          ],
          "scattermapbox": [
           {
            "marker": {
             "colorbar": {
              "outlinewidth": 0,
              "ticks": ""
             }
            },
            "type": "scattermapbox"
           }
          ],
          "scatterpolar": [
           {
            "marker": {
             "colorbar": {
              "outlinewidth": 0,
              "ticks": ""
             }
            },
            "type": "scatterpolar"
           }
          ],
          "scatterpolargl": [
           {
            "marker": {
             "colorbar": {
              "outlinewidth": 0,
              "ticks": ""
             }
            },
            "type": "scatterpolargl"
           }
          ],
          "scatterternary": [
           {
            "marker": {
             "colorbar": {
              "outlinewidth": 0,
              "ticks": ""
             }
            },
            "type": "scatterternary"
           }
          ],
          "surface": [
           {
            "colorbar": {
             "outlinewidth": 0,
             "ticks": ""
            },
            "colorscale": [
             [
              0,
              "#0d0887"
             ],
             [
              0.1111111111111111,
              "#46039f"
             ],
             [
              0.2222222222222222,
              "#7201a8"
             ],
             [
              0.3333333333333333,
              "#9c179e"
             ],
             [
              0.4444444444444444,
              "#bd3786"
             ],
             [
              0.5555555555555556,
              "#d8576b"
             ],
             [
              0.6666666666666666,
              "#ed7953"
             ],
             [
              0.7777777777777778,
              "#fb9f3a"
             ],
             [
              0.8888888888888888,
              "#fdca26"
             ],
             [
              1,
              "#f0f921"
             ]
            ],
            "type": "surface"
           }
          ],
          "table": [
           {
            "cells": {
             "fill": {
              "color": "#EBF0F8"
             },
             "line": {
              "color": "white"
             }
            },
            "header": {
             "fill": {
              "color": "#C8D4E3"
             },
             "line": {
              "color": "white"
             }
            },
            "type": "table"
           }
          ]
         },
         "layout": {
          "annotationdefaults": {
           "arrowcolor": "#2a3f5f",
           "arrowhead": 0,
           "arrowwidth": 1
          },
          "autotypenumbers": "strict",
          "coloraxis": {
           "colorbar": {
            "outlinewidth": 0,
            "ticks": ""
           }
          },
          "colorscale": {
           "diverging": [
            [
             0,
             "#8e0152"
            ],
            [
             0.1,
             "#c51b7d"
            ],
            [
             0.2,
             "#de77ae"
            ],
            [
             0.3,
             "#f1b6da"
            ],
            [
             0.4,
             "#fde0ef"
            ],
            [
             0.5,
             "#f7f7f7"
            ],
            [
             0.6,
             "#e6f5d0"
            ],
            [
             0.7,
             "#b8e186"
            ],
            [
             0.8,
             "#7fbc41"
            ],
            [
             0.9,
             "#4d9221"
            ],
            [
             1,
             "#276419"
            ]
           ],
           "sequential": [
            [
             0,
             "#0d0887"
            ],
            [
             0.1111111111111111,
             "#46039f"
            ],
            [
             0.2222222222222222,
             "#7201a8"
            ],
            [
             0.3333333333333333,
             "#9c179e"
            ],
            [
             0.4444444444444444,
             "#bd3786"
            ],
            [
             0.5555555555555556,
             "#d8576b"
            ],
            [
             0.6666666666666666,
             "#ed7953"
            ],
            [
             0.7777777777777778,
             "#fb9f3a"
            ],
            [
             0.8888888888888888,
             "#fdca26"
            ],
            [
             1,
             "#f0f921"
            ]
           ],
           "sequentialminus": [
            [
             0,
             "#0d0887"
            ],
            [
             0.1111111111111111,
             "#46039f"
            ],
            [
             0.2222222222222222,
             "#7201a8"
            ],
            [
             0.3333333333333333,
             "#9c179e"
            ],
            [
             0.4444444444444444,
             "#bd3786"
            ],
            [
             0.5555555555555556,
             "#d8576b"
            ],
            [
             0.6666666666666666,
             "#ed7953"
            ],
            [
             0.7777777777777778,
             "#fb9f3a"
            ],
            [
             0.8888888888888888,
             "#fdca26"
            ],
            [
             1,
             "#f0f921"
            ]
           ]
          },
          "colorway": [
           "#636efa",
           "#EF553B",
           "#00cc96",
           "#ab63fa",
           "#FFA15A",
           "#19d3f3",
           "#FF6692",
           "#B6E880",
           "#FF97FF",
           "#FECB52"
          ],
          "font": {
           "color": "#2a3f5f"
          },
          "geo": {
           "bgcolor": "white",
           "lakecolor": "white",
           "landcolor": "#E5ECF6",
           "showlakes": true,
           "showland": true,
           "subunitcolor": "white"
          },
          "hoverlabel": {
           "align": "left"
          },
          "hovermode": "closest",
          "mapbox": {
           "style": "light"
          },
          "paper_bgcolor": "white",
          "plot_bgcolor": "#E5ECF6",
          "polar": {
           "angularaxis": {
            "gridcolor": "white",
            "linecolor": "white",
            "ticks": ""
           },
           "bgcolor": "#E5ECF6",
           "radialaxis": {
            "gridcolor": "white",
            "linecolor": "white",
            "ticks": ""
           }
          },
          "scene": {
           "xaxis": {
            "backgroundcolor": "#E5ECF6",
            "gridcolor": "white",
            "gridwidth": 2,
            "linecolor": "white",
            "showbackground": true,
            "ticks": "",
            "zerolinecolor": "white"
           },
           "yaxis": {
            "backgroundcolor": "#E5ECF6",
            "gridcolor": "white",
            "gridwidth": 2,
            "linecolor": "white",
            "showbackground": true,
            "ticks": "",
            "zerolinecolor": "white"
           },
           "zaxis": {
            "backgroundcolor": "#E5ECF6",
            "gridcolor": "white",
            "gridwidth": 2,
            "linecolor": "white",
            "showbackground": true,
            "ticks": "",
            "zerolinecolor": "white"
           }
          },
          "shapedefaults": {
           "line": {
            "color": "#2a3f5f"
           }
          },
          "ternary": {
           "aaxis": {
            "gridcolor": "white",
            "linecolor": "white",
            "ticks": ""
           },
           "baxis": {
            "gridcolor": "white",
            "linecolor": "white",
            "ticks": ""
           },
           "bgcolor": "#E5ECF6",
           "caxis": {
            "gridcolor": "white",
            "linecolor": "white",
            "ticks": ""
           }
          },
          "title": {
           "x": 0.05
          },
          "xaxis": {
           "automargin": true,
           "gridcolor": "white",
           "linecolor": "white",
           "ticks": "",
           "title": {
            "standoff": 15
           },
           "zerolinecolor": "white",
           "zerolinewidth": 2
          },
          "yaxis": {
           "automargin": true,
           "gridcolor": "white",
           "linecolor": "white",
           "ticks": "",
           "title": {
            "standoff": 15
           },
           "zerolinecolor": "white",
           "zerolinewidth": 2
          }
         }
        },
        "title": {
         "font": {
          "color": "#4D5663"
         }
        },
        "xaxis": {
         "gridcolor": "#E1E5ED",
         "showgrid": true,
         "tickfont": {
          "color": "#4D5663"
         },
         "title": {
          "font": {
           "color": "#4D5663"
          },
          "text": ""
         },
         "zerolinecolor": "#E1E5ED"
        },
        "yaxis": {
         "gridcolor": "#E1E5ED",
         "showgrid": true,
         "tickfont": {
          "color": "#4D5663"
         },
         "title": {
          "font": {
           "color": "#4D5663"
          },
          "text": ""
         },
         "zerolinecolor": "#E1E5ED"
        }
       }
      },
      "text/html": [
       "<div>                            <div id=\"ccef55a7-b85d-432c-8e27-2377c1d4854a\" class=\"plotly-graph-div\" style=\"height:525px; width:100%;\"></div>            <script type=\"text/javascript\">                require([\"plotly\"], function(Plotly) {                    window.PLOTLYENV=window.PLOTLYENV || {};\n",
       "                    window.PLOTLYENV.BASE_URL='https://plot.ly';                                    if (document.getElementById(\"ccef55a7-b85d-432c-8e27-2377c1d4854a\")) {                    Plotly.newPlot(                        \"ccef55a7-b85d-432c-8e27-2377c1d4854a\",                        [{\"line\":{\"color\":\"rgba(255, 153, 51, 1.0)\",\"dash\":\"solid\",\"shape\":\"linear\",\"width\":1.3},\"mode\":\"lines\",\"name\":\"Open\",\"text\":\"\",\"x\":[\"2018-02-01\",\"2018-02-02\",\"2018-02-05\",\"2018-02-06\",\"2018-02-07\",\"2018-02-08\",\"2018-02-09\",\"2018-02-12\",\"2018-02-13\",\"2018-02-14\",\"2018-02-19\",\"2018-02-20\",\"2018-02-21\",\"2018-02-22\",\"2018-02-23\",\"2018-02-26\",\"2018-02-27\",\"2018-02-28\",\"2018-03-02\",\"2018-03-05\",\"2018-03-06\",\"2018-03-07\",\"2018-03-08\",\"2018-03-09\",\"2018-03-12\",\"2018-03-13\",\"2018-03-14\",\"2018-03-15\",\"2018-03-16\",\"2018-03-19\",\"2018-03-20\",\"2018-03-21\",\"2018-03-22\",\"2018-03-23\",\"2018-03-26\",\"2018-03-27\",\"2018-03-28\",\"2018-03-29\",\"2018-03-30\",\"2018-04-02\",\"2018-04-03\",\"2018-04-04\",\"2018-04-05\",\"2018-04-06\",\"2018-04-09\",\"2018-04-10\",\"2018-04-11\",\"2018-04-12\",\"2018-04-13\",\"2018-04-16\",\"2018-04-17\",\"2018-04-18\",\"2018-04-19\",\"2018-04-20\",\"2018-04-23\",\"2018-04-24\",\"2018-04-25\",\"2018-04-26\",\"2018-04-27\",\"2018-04-30\",\"2018-05-02\",\"2018-05-03\",\"2018-05-04\",\"2018-05-08\",\"2018-05-09\",\"2018-05-10\",\"2018-05-11\",\"2018-05-14\",\"2018-05-15\",\"2018-05-16\",\"2018-05-17\",\"2018-05-18\",\"2018-05-21\",\"2018-05-23\",\"2018-05-24\",\"2018-05-25\",\"2018-05-28\",\"2018-05-29\",\"2018-05-30\",\"2018-05-31\",\"2018-06-01\",\"2018-06-04\",\"2018-06-05\",\"2018-06-07\",\"2018-06-08\",\"2018-06-11\",\"2018-06-12\",\"2018-06-14\",\"2018-06-15\",\"2018-06-18\",\"2018-06-19\",\"2018-06-20\",\"2018-06-21\",\"2018-06-22\",\"2018-06-25\",\"2018-06-26\",\"2018-06-27\",\"2018-06-28\",\"2018-06-29\"],\"y\":[50620,49380,46500,46600,48240,46120,44440,45100,46200,48080,49800,48040,47280,47260,46760,47280,48360,47380,46580,45820,45920,48200,49200,49440,50560,50760,51020,52000,51220,50620,50700,51780,51060,50340,49420,50320,49100,48700,49080,49000,47880,48160,47400,48000,48260,48540,49900,49440,49600,50320,50240,51000,52000,51800,51000,51840,49220,50420,53380,0,0,0,53000,52600,52600,51700,52000,51000,50200,49200,50300,49900,49650,50600,52000,51000,52500,52200,51300,50400,50500,50800,51100,51800,50200,49750,49700,49000,48500,47600,47200,47450,47900,47000,47050,45900,47450,46850,46250],\"type\":\"scatter\"},{\"line\":{\"color\":\"rgba(55, 128, 191, 1.0)\",\"dash\":\"solid\",\"shape\":\"linear\",\"width\":1.3},\"mode\":\"lines\",\"name\":\"High\",\"text\":\"\",\"x\":[\"2018-02-01\",\"2018-02-02\",\"2018-02-05\",\"2018-02-06\",\"2018-02-07\",\"2018-02-08\",\"2018-02-09\",\"2018-02-12\",\"2018-02-13\",\"2018-02-14\",\"2018-02-19\",\"2018-02-20\",\"2018-02-21\",\"2018-02-22\",\"2018-02-23\",\"2018-02-26\",\"2018-02-27\",\"2018-02-28\",\"2018-03-02\",\"2018-03-05\",\"2018-03-06\",\"2018-03-07\",\"2018-03-08\",\"2018-03-09\",\"2018-03-12\",\"2018-03-13\",\"2018-03-14\",\"2018-03-15\",\"2018-03-16\",\"2018-03-19\",\"2018-03-20\",\"2018-03-21\",\"2018-03-22\",\"2018-03-23\",\"2018-03-26\",\"2018-03-27\",\"2018-03-28\",\"2018-03-29\",\"2018-03-30\",\"2018-04-02\",\"2018-04-03\",\"2018-04-04\",\"2018-04-05\",\"2018-04-06\",\"2018-04-09\",\"2018-04-10\",\"2018-04-11\",\"2018-04-12\",\"2018-04-13\",\"2018-04-16\",\"2018-04-17\",\"2018-04-18\",\"2018-04-19\",\"2018-04-20\",\"2018-04-23\",\"2018-04-24\",\"2018-04-25\",\"2018-04-26\",\"2018-04-27\",\"2018-04-30\",\"2018-05-02\",\"2018-05-03\",\"2018-05-04\",\"2018-05-08\",\"2018-05-09\",\"2018-05-10\",\"2018-05-11\",\"2018-05-14\",\"2018-05-15\",\"2018-05-16\",\"2018-05-17\",\"2018-05-18\",\"2018-05-21\",\"2018-05-23\",\"2018-05-24\",\"2018-05-25\",\"2018-05-28\",\"2018-05-29\",\"2018-05-30\",\"2018-05-31\",\"2018-06-01\",\"2018-06-04\",\"2018-06-05\",\"2018-06-07\",\"2018-06-08\",\"2018-06-11\",\"2018-06-12\",\"2018-06-14\",\"2018-06-15\",\"2018-06-18\",\"2018-06-19\",\"2018-06-20\",\"2018-06-21\",\"2018-06-22\",\"2018-06-25\",\"2018-06-26\",\"2018-06-27\",\"2018-06-28\",\"2018-06-29\"],\"y\":[50960,49400,48320,47920,48260,46620,45180,46320,48060,49100,49800,48160,47580,47260,47800,47560,48380,48100,46800,46160,47100,48900,49480,50540,50780,51660,52000,52020,51420,51340,51200,51780,51780,50720,50280,50460,49100,49560,49900,49220,48140,48260,49380,48580,49440,49220,49900,49440,50180,50600,50540,51360,52980,52260,52080,51860,50500,52160,53639,0,0,0,53900,53200,52800,51700,52200,51100,50400,50200,50500,49900,50200,52000,52000,52800,53000,52500,51500,50800,51700,51200,51400,51800,50400,50300,49800,49000,48700,47650,47350,47600,47900,47250,47050,47300,48500,47150,47150],\"type\":\"scatter\"},{\"line\":{\"color\":\"rgba(50, 171, 96, 1.0)\",\"dash\":\"solid\",\"shape\":\"linear\",\"width\":1.3},\"mode\":\"lines\",\"name\":\"Low\",\"text\":\"\",\"x\":[\"2018-02-01\",\"2018-02-02\",\"2018-02-05\",\"2018-02-06\",\"2018-02-07\",\"2018-02-08\",\"2018-02-09\",\"2018-02-12\",\"2018-02-13\",\"2018-02-14\",\"2018-02-19\",\"2018-02-20\",\"2018-02-21\",\"2018-02-22\",\"2018-02-23\",\"2018-02-26\",\"2018-02-27\",\"2018-02-28\",\"2018-03-02\",\"2018-03-05\",\"2018-03-06\",\"2018-03-07\",\"2018-03-08\",\"2018-03-09\",\"2018-03-12\",\"2018-03-13\",\"2018-03-14\",\"2018-03-15\",\"2018-03-16\",\"2018-03-19\",\"2018-03-20\",\"2018-03-21\",\"2018-03-22\",\"2018-03-23\",\"2018-03-26\",\"2018-03-27\",\"2018-03-28\",\"2018-03-29\",\"2018-03-30\",\"2018-04-02\",\"2018-04-03\",\"2018-04-04\",\"2018-04-05\",\"2018-04-06\",\"2018-04-09\",\"2018-04-10\",\"2018-04-11\",\"2018-04-12\",\"2018-04-13\",\"2018-04-16\",\"2018-04-17\",\"2018-04-18\",\"2018-04-19\",\"2018-04-20\",\"2018-04-23\",\"2018-04-24\",\"2018-04-25\",\"2018-04-26\",\"2018-04-27\",\"2018-04-30\",\"2018-05-02\",\"2018-05-03\",\"2018-05-04\",\"2018-05-08\",\"2018-05-09\",\"2018-05-10\",\"2018-05-11\",\"2018-05-14\",\"2018-05-15\",\"2018-05-16\",\"2018-05-17\",\"2018-05-18\",\"2018-05-21\",\"2018-05-23\",\"2018-05-24\",\"2018-05-25\",\"2018-05-28\",\"2018-05-29\",\"2018-05-30\",\"2018-05-31\",\"2018-06-01\",\"2018-06-04\",\"2018-06-05\",\"2018-06-07\",\"2018-06-08\",\"2018-06-11\",\"2018-06-12\",\"2018-06-14\",\"2018-06-15\",\"2018-06-18\",\"2018-06-19\",\"2018-06-20\",\"2018-06-21\",\"2018-06-22\",\"2018-06-25\",\"2018-06-26\",\"2018-06-27\",\"2018-06-28\",\"2018-06-29\"],\"y\":[49720,47700,46000,46580,45800,45980,44420,45040,46200,47940,47860,47220,46840,46760,46760,47080,47380,47000,46000,45080,45820,47220,48080,49240,49580,50360,51000,51020,50240,50440,50100,51060,51040,49600,49040,49080,48340,48320,49080,48500,47280,46920,47340,47400,48200,48040,48600,48880,49400,49860,49820,50580,51540,51420,51000,50080,49220,50400,52440,0,0,0,51800,51900,50900,50600,51200,49900,49100,49150,49400,49350,49100,50400,51100,50800,52000,51300,49100,49850,49950,50700,50400,50500,49600,49350,49250,48200,47650,46200,46500,46850,47050,46200,46150,45900,47000,46600,46200],\"type\":\"scatter\"},{\"line\":{\"color\":\"rgba(128, 0, 128, 1.0)\",\"dash\":\"solid\",\"shape\":\"linear\",\"width\":1.3},\"mode\":\"lines\",\"name\":\"Close\",\"text\":\"\",\"x\":[\"2018-02-01\",\"2018-02-02\",\"2018-02-05\",\"2018-02-06\",\"2018-02-07\",\"2018-02-08\",\"2018-02-09\",\"2018-02-12\",\"2018-02-13\",\"2018-02-14\",\"2018-02-19\",\"2018-02-20\",\"2018-02-21\",\"2018-02-22\",\"2018-02-23\",\"2018-02-26\",\"2018-02-27\",\"2018-02-28\",\"2018-03-02\",\"2018-03-05\",\"2018-03-06\",\"2018-03-07\",\"2018-03-08\",\"2018-03-09\",\"2018-03-12\",\"2018-03-13\",\"2018-03-14\",\"2018-03-15\",\"2018-03-16\",\"2018-03-19\",\"2018-03-20\",\"2018-03-21\",\"2018-03-22\",\"2018-03-23\",\"2018-03-26\",\"2018-03-27\",\"2018-03-28\",\"2018-03-29\",\"2018-03-30\",\"2018-04-02\",\"2018-04-03\",\"2018-04-04\",\"2018-04-05\",\"2018-04-06\",\"2018-04-09\",\"2018-04-10\",\"2018-04-11\",\"2018-04-12\",\"2018-04-13\",\"2018-04-16\",\"2018-04-17\",\"2018-04-18\",\"2018-04-19\",\"2018-04-20\",\"2018-04-23\",\"2018-04-24\",\"2018-04-25\",\"2018-04-26\",\"2018-04-27\",\"2018-04-30\",\"2018-05-02\",\"2018-05-03\",\"2018-05-04\",\"2018-05-08\",\"2018-05-09\",\"2018-05-10\",\"2018-05-11\",\"2018-05-14\",\"2018-05-15\",\"2018-05-16\",\"2018-05-17\",\"2018-05-18\",\"2018-05-21\",\"2018-05-23\",\"2018-05-24\",\"2018-05-25\",\"2018-05-28\",\"2018-05-29\",\"2018-05-30\",\"2018-05-31\",\"2018-06-01\",\"2018-06-04\",\"2018-06-05\",\"2018-06-07\",\"2018-06-08\",\"2018-06-11\",\"2018-06-12\",\"2018-06-14\",\"2018-06-15\",\"2018-06-18\",\"2018-06-19\",\"2018-06-20\",\"2018-06-21\",\"2018-06-22\",\"2018-06-25\",\"2018-06-26\",\"2018-06-27\",\"2018-06-28\",\"2018-06-29\"],\"y\":[49820,47700,47920,47420,45800,46000,44700,45720,47540,49000,48380,47400,47280,46760,47220,47380,47380,47060,46020,45200,47020,48620,49200,49740,49740,51660,51760,51540,51140,50740,51200,51060,51780,49720,50280,49980,48700,49040,49220,48540,48120,46920,48740,48400,49200,48880,48860,49000,49800,50340,49980,51360,52780,51620,51900,50460,50400,52140,53000,53000,53000,53000,51900,52600,50900,51600,51300,50100,49200,49850,49400,49500,50000,51800,51400,52700,52300,51300,49500,50700,51300,51100,51300,50600,49650,49900,49400,48200,47650,46600,47000,47000,47050,47250,46650,47000,47950,46800,46650],\"type\":\"scatter\"}],                        {\"legend\":{\"bgcolor\":\"#F5F6F9\",\"font\":{\"color\":\"#4D5663\"}},\"paper_bgcolor\":\"#F5F6F9\",\"plot_bgcolor\":\"#F5F6F9\",\"template\":{\"data\":{\"barpolar\":[{\"marker\":{\"line\":{\"color\":\"#E5ECF6\",\"width\":0.5},\"pattern\":{\"fillmode\":\"overlay\",\"size\":10,\"solidity\":0.2}},\"type\":\"barpolar\"}],\"bar\":[{\"error_x\":{\"color\":\"#2a3f5f\"},\"error_y\":{\"color\":\"#2a3f5f\"},\"marker\":{\"line\":{\"color\":\"#E5ECF6\",\"width\":0.5},\"pattern\":{\"fillmode\":\"overlay\",\"size\":10,\"solidity\":0.2}},\"type\":\"bar\"}],\"carpet\":[{\"aaxis\":{\"endlinecolor\":\"#2a3f5f\",\"gridcolor\":\"white\",\"linecolor\":\"white\",\"minorgridcolor\":\"white\",\"startlinecolor\":\"#2a3f5f\"},\"baxis\":{\"endlinecolor\":\"#2a3f5f\",\"gridcolor\":\"white\",\"linecolor\":\"white\",\"minorgridcolor\":\"white\",\"startlinecolor\":\"#2a3f5f\"},\"type\":\"carpet\"}],\"choropleth\":[{\"colorbar\":{\"outlinewidth\":0,\"ticks\":\"\"},\"type\":\"choropleth\"}],\"contourcarpet\":[{\"colorbar\":{\"outlinewidth\":0,\"ticks\":\"\"},\"type\":\"contourcarpet\"}],\"contour\":[{\"colorbar\":{\"outlinewidth\":0,\"ticks\":\"\"},\"colorscale\":[[0.0,\"#0d0887\"],[0.1111111111111111,\"#46039f\"],[0.2222222222222222,\"#7201a8\"],[0.3333333333333333,\"#9c179e\"],[0.4444444444444444,\"#bd3786\"],[0.5555555555555556,\"#d8576b\"],[0.6666666666666666,\"#ed7953\"],[0.7777777777777778,\"#fb9f3a\"],[0.8888888888888888,\"#fdca26\"],[1.0,\"#f0f921\"]],\"type\":\"contour\"}],\"heatmapgl\":[{\"colorbar\":{\"outlinewidth\":0,\"ticks\":\"\"},\"colorscale\":[[0.0,\"#0d0887\"],[0.1111111111111111,\"#46039f\"],[0.2222222222222222,\"#7201a8\"],[0.3333333333333333,\"#9c179e\"],[0.4444444444444444,\"#bd3786\"],[0.5555555555555556,\"#d8576b\"],[0.6666666666666666,\"#ed7953\"],[0.7777777777777778,\"#fb9f3a\"],[0.8888888888888888,\"#fdca26\"],[1.0,\"#f0f921\"]],\"type\":\"heatmapgl\"}],\"heatmap\":[{\"colorbar\":{\"outlinewidth\":0,\"ticks\":\"\"},\"colorscale\":[[0.0,\"#0d0887\"],[0.1111111111111111,\"#46039f\"],[0.2222222222222222,\"#7201a8\"],[0.3333333333333333,\"#9c179e\"],[0.4444444444444444,\"#bd3786\"],[0.5555555555555556,\"#d8576b\"],[0.6666666666666666,\"#ed7953\"],[0.7777777777777778,\"#fb9f3a\"],[0.8888888888888888,\"#fdca26\"],[1.0,\"#f0f921\"]],\"type\":\"heatmap\"}],\"histogram2dcontour\":[{\"colorbar\":{\"outlinewidth\":0,\"ticks\":\"\"},\"colorscale\":[[0.0,\"#0d0887\"],[0.1111111111111111,\"#46039f\"],[0.2222222222222222,\"#7201a8\"],[0.3333333333333333,\"#9c179e\"],[0.4444444444444444,\"#bd3786\"],[0.5555555555555556,\"#d8576b\"],[0.6666666666666666,\"#ed7953\"],[0.7777777777777778,\"#fb9f3a\"],[0.8888888888888888,\"#fdca26\"],[1.0,\"#f0f921\"]],\"type\":\"histogram2dcontour\"}],\"histogram2d\":[{\"colorbar\":{\"outlinewidth\":0,\"ticks\":\"\"},\"colorscale\":[[0.0,\"#0d0887\"],[0.1111111111111111,\"#46039f\"],[0.2222222222222222,\"#7201a8\"],[0.3333333333333333,\"#9c179e\"],[0.4444444444444444,\"#bd3786\"],[0.5555555555555556,\"#d8576b\"],[0.6666666666666666,\"#ed7953\"],[0.7777777777777778,\"#fb9f3a\"],[0.8888888888888888,\"#fdca26\"],[1.0,\"#f0f921\"]],\"type\":\"histogram2d\"}],\"histogram\":[{\"marker\":{\"pattern\":{\"fillmode\":\"overlay\",\"size\":10,\"solidity\":0.2}},\"type\":\"histogram\"}],\"mesh3d\":[{\"colorbar\":{\"outlinewidth\":0,\"ticks\":\"\"},\"type\":\"mesh3d\"}],\"parcoords\":[{\"line\":{\"colorbar\":{\"outlinewidth\":0,\"ticks\":\"\"}},\"type\":\"parcoords\"}],\"pie\":[{\"automargin\":true,\"type\":\"pie\"}],\"scatter3d\":[{\"line\":{\"colorbar\":{\"outlinewidth\":0,\"ticks\":\"\"}},\"marker\":{\"colorbar\":{\"outlinewidth\":0,\"ticks\":\"\"}},\"type\":\"scatter3d\"}],\"scattercarpet\":[{\"marker\":{\"colorbar\":{\"outlinewidth\":0,\"ticks\":\"\"}},\"type\":\"scattercarpet\"}],\"scattergeo\":[{\"marker\":{\"colorbar\":{\"outlinewidth\":0,\"ticks\":\"\"}},\"type\":\"scattergeo\"}],\"scattergl\":[{\"marker\":{\"colorbar\":{\"outlinewidth\":0,\"ticks\":\"\"}},\"type\":\"scattergl\"}],\"scattermapbox\":[{\"marker\":{\"colorbar\":{\"outlinewidth\":0,\"ticks\":\"\"}},\"type\":\"scattermapbox\"}],\"scatterpolargl\":[{\"marker\":{\"colorbar\":{\"outlinewidth\":0,\"ticks\":\"\"}},\"type\":\"scatterpolargl\"}],\"scatterpolar\":[{\"marker\":{\"colorbar\":{\"outlinewidth\":0,\"ticks\":\"\"}},\"type\":\"scatterpolar\"}],\"scatter\":[{\"fillpattern\":{\"fillmode\":\"overlay\",\"size\":10,\"solidity\":0.2},\"type\":\"scatter\"}],\"scatterternary\":[{\"marker\":{\"colorbar\":{\"outlinewidth\":0,\"ticks\":\"\"}},\"type\":\"scatterternary\"}],\"surface\":[{\"colorbar\":{\"outlinewidth\":0,\"ticks\":\"\"},\"colorscale\":[[0.0,\"#0d0887\"],[0.1111111111111111,\"#46039f\"],[0.2222222222222222,\"#7201a8\"],[0.3333333333333333,\"#9c179e\"],[0.4444444444444444,\"#bd3786\"],[0.5555555555555556,\"#d8576b\"],[0.6666666666666666,\"#ed7953\"],[0.7777777777777778,\"#fb9f3a\"],[0.8888888888888888,\"#fdca26\"],[1.0,\"#f0f921\"]],\"type\":\"surface\"}],\"table\":[{\"cells\":{\"fill\":{\"color\":\"#EBF0F8\"},\"line\":{\"color\":\"white\"}},\"header\":{\"fill\":{\"color\":\"#C8D4E3\"},\"line\":{\"color\":\"white\"}},\"type\":\"table\"}]},\"layout\":{\"annotationdefaults\":{\"arrowcolor\":\"#2a3f5f\",\"arrowhead\":0,\"arrowwidth\":1},\"autotypenumbers\":\"strict\",\"coloraxis\":{\"colorbar\":{\"outlinewidth\":0,\"ticks\":\"\"}},\"colorscale\":{\"diverging\":[[0,\"#8e0152\"],[0.1,\"#c51b7d\"],[0.2,\"#de77ae\"],[0.3,\"#f1b6da\"],[0.4,\"#fde0ef\"],[0.5,\"#f7f7f7\"],[0.6,\"#e6f5d0\"],[0.7,\"#b8e186\"],[0.8,\"#7fbc41\"],[0.9,\"#4d9221\"],[1,\"#276419\"]],\"sequential\":[[0.0,\"#0d0887\"],[0.1111111111111111,\"#46039f\"],[0.2222222222222222,\"#7201a8\"],[0.3333333333333333,\"#9c179e\"],[0.4444444444444444,\"#bd3786\"],[0.5555555555555556,\"#d8576b\"],[0.6666666666666666,\"#ed7953\"],[0.7777777777777778,\"#fb9f3a\"],[0.8888888888888888,\"#fdca26\"],[1.0,\"#f0f921\"]],\"sequentialminus\":[[0.0,\"#0d0887\"],[0.1111111111111111,\"#46039f\"],[0.2222222222222222,\"#7201a8\"],[0.3333333333333333,\"#9c179e\"],[0.4444444444444444,\"#bd3786\"],[0.5555555555555556,\"#d8576b\"],[0.6666666666666666,\"#ed7953\"],[0.7777777777777778,\"#fb9f3a\"],[0.8888888888888888,\"#fdca26\"],[1.0,\"#f0f921\"]]},\"colorway\":[\"#636efa\",\"#EF553B\",\"#00cc96\",\"#ab63fa\",\"#FFA15A\",\"#19d3f3\",\"#FF6692\",\"#B6E880\",\"#FF97FF\",\"#FECB52\"],\"font\":{\"color\":\"#2a3f5f\"},\"geo\":{\"bgcolor\":\"white\",\"lakecolor\":\"white\",\"landcolor\":\"#E5ECF6\",\"showlakes\":true,\"showland\":true,\"subunitcolor\":\"white\"},\"hoverlabel\":{\"align\":\"left\"},\"hovermode\":\"closest\",\"mapbox\":{\"style\":\"light\"},\"paper_bgcolor\":\"white\",\"plot_bgcolor\":\"#E5ECF6\",\"polar\":{\"angularaxis\":{\"gridcolor\":\"white\",\"linecolor\":\"white\",\"ticks\":\"\"},\"bgcolor\":\"#E5ECF6\",\"radialaxis\":{\"gridcolor\":\"white\",\"linecolor\":\"white\",\"ticks\":\"\"}},\"scene\":{\"xaxis\":{\"backgroundcolor\":\"#E5ECF6\",\"gridcolor\":\"white\",\"gridwidth\":2,\"linecolor\":\"white\",\"showbackground\":true,\"ticks\":\"\",\"zerolinecolor\":\"white\"},\"yaxis\":{\"backgroundcolor\":\"#E5ECF6\",\"gridcolor\":\"white\",\"gridwidth\":2,\"linecolor\":\"white\",\"showbackground\":true,\"ticks\":\"\",\"zerolinecolor\":\"white\"},\"zaxis\":{\"backgroundcolor\":\"#E5ECF6\",\"gridcolor\":\"white\",\"gridwidth\":2,\"linecolor\":\"white\",\"showbackground\":true,\"ticks\":\"\",\"zerolinecolor\":\"white\"}},\"shapedefaults\":{\"line\":{\"color\":\"#2a3f5f\"}},\"ternary\":{\"aaxis\":{\"gridcolor\":\"white\",\"linecolor\":\"white\",\"ticks\":\"\"},\"baxis\":{\"gridcolor\":\"white\",\"linecolor\":\"white\",\"ticks\":\"\"},\"bgcolor\":\"#E5ECF6\",\"caxis\":{\"gridcolor\":\"white\",\"linecolor\":\"white\",\"ticks\":\"\"}},\"title\":{\"x\":0.05},\"xaxis\":{\"automargin\":true,\"gridcolor\":\"white\",\"linecolor\":\"white\",\"ticks\":\"\",\"title\":{\"standoff\":15},\"zerolinecolor\":\"white\",\"zerolinewidth\":2},\"yaxis\":{\"automargin\":true,\"gridcolor\":\"white\",\"linecolor\":\"white\",\"ticks\":\"\",\"title\":{\"standoff\":15},\"zerolinecolor\":\"white\",\"zerolinewidth\":2}}},\"title\":{\"font\":{\"color\":\"#4D5663\"}},\"xaxis\":{\"gridcolor\":\"#E1E5ED\",\"showgrid\":true,\"tickfont\":{\"color\":\"#4D5663\"},\"title\":{\"font\":{\"color\":\"#4D5663\"},\"text\":\"\"},\"zerolinecolor\":\"#E1E5ED\"},\"yaxis\":{\"gridcolor\":\"#E1E5ED\",\"showgrid\":true,\"tickfont\":{\"color\":\"#4D5663\"},\"title\":{\"font\":{\"color\":\"#4D5663\"},\"text\":\"\"},\"zerolinecolor\":\"#E1E5ED\"}},                        {\"showLink\": true, \"linkText\": \"Export to plot.ly\", \"plotlyServerURL\": \"https://plot.ly\", \"responsive\": true}                    ).then(function(){\n",
       "                            \n",
       "var gd = document.getElementById('ccef55a7-b85d-432c-8e27-2377c1d4854a');\n",
       "var x = new MutationObserver(function (mutations, observer) {{\n",
       "        var display = window.getComputedStyle(gd).display;\n",
       "        if (!display || display === 'none') {{\n",
       "            console.log([gd, 'removed!']);\n",
       "            Plotly.purge(gd);\n",
       "            observer.disconnect();\n",
       "        }}\n",
       "}});\n",
       "\n",
       "// Listen for the removal of the full notebook cells\n",
       "var notebookContainer = gd.closest('#notebook-container');\n",
       "if (notebookContainer) {{\n",
       "    x.observe(notebookContainer, {childList: true});\n",
       "}}\n",
       "\n",
       "// Listen for the clearing of the current output cell\n",
       "var outputEl = gd.closest('.output');\n",
       "if (outputEl) {{\n",
       "    x.observe(outputEl, {childList: true});\n",
       "}}\n",
       "\n",
       "                        })                };                });            </script>        </div>"
      ]
     },
     "metadata": {},
     "output_type": "display_data"
    }
   ],
   "source": [
    "# 거래대금 제외 데이터\n",
    "df_samsung[df_samsung.columns[:4]].iplot(kind = 'line')"
   ]
  },
  {
   "cell_type": "code",
   "execution_count": 57,
   "metadata": {
    "ExecuteTime": {
     "end_time": "2022-12-07T12:39:23.028672Z",
     "start_time": "2022-12-07T12:39:22.923956Z"
    }
   },
   "outputs": [
    {
     "data": {
      "application/vnd.plotly.v1+json": {
       "config": {
        "linkText": "Export to plot.ly",
        "plotlyServerURL": "https://plot.ly",
        "showLink": true
       },
       "data": [
        {
         "line": {
          "color": "rgba(255, 153, 51, 1.0)",
          "dash": "solid",
          "shape": "linear",
          "width": 1.3
         },
         "mode": "lines",
         "name": "Volume",
         "text": "",
         "type": "scatter",
         "x": [
          "2018-02-01",
          "2018-02-02",
          "2018-02-05",
          "2018-02-06",
          "2018-02-07",
          "2018-02-08",
          "2018-02-09",
          "2018-02-12",
          "2018-02-13",
          "2018-02-14",
          "2018-02-19",
          "2018-02-20",
          "2018-02-21",
          "2018-02-22",
          "2018-02-23",
          "2018-02-26",
          "2018-02-27",
          "2018-02-28",
          "2018-03-02",
          "2018-03-05",
          "2018-03-06",
          "2018-03-07",
          "2018-03-08",
          "2018-03-09",
          "2018-03-12",
          "2018-03-13",
          "2018-03-14",
          "2018-03-15",
          "2018-03-16",
          "2018-03-19",
          "2018-03-20",
          "2018-03-21",
          "2018-03-22",
          "2018-03-23",
          "2018-03-26",
          "2018-03-27",
          "2018-03-28",
          "2018-03-29",
          "2018-03-30",
          "2018-04-02",
          "2018-04-03",
          "2018-04-04",
          "2018-04-05",
          "2018-04-06",
          "2018-04-09",
          "2018-04-10",
          "2018-04-11",
          "2018-04-12",
          "2018-04-13",
          "2018-04-16",
          "2018-04-17",
          "2018-04-18",
          "2018-04-19",
          "2018-04-20",
          "2018-04-23",
          "2018-04-24",
          "2018-04-25",
          "2018-04-26",
          "2018-04-27",
          "2018-04-30",
          "2018-05-02",
          "2018-05-03",
          "2018-05-04",
          "2018-05-08",
          "2018-05-09",
          "2018-05-10",
          "2018-05-11",
          "2018-05-14",
          "2018-05-15",
          "2018-05-16",
          "2018-05-17",
          "2018-05-18",
          "2018-05-21",
          "2018-05-23",
          "2018-05-24",
          "2018-05-25",
          "2018-05-28",
          "2018-05-29",
          "2018-05-30",
          "2018-05-31",
          "2018-06-01",
          "2018-06-04",
          "2018-06-05",
          "2018-06-07",
          "2018-06-08",
          "2018-06-11",
          "2018-06-12",
          "2018-06-14",
          "2018-06-15",
          "2018-06-18",
          "2018-06-19",
          "2018-06-20",
          "2018-06-21",
          "2018-06-22",
          "2018-06-25",
          "2018-06-26",
          "2018-06-27",
          "2018-06-28",
          "2018-06-29"
         ],
         "y": [
          552189,
          585207,
          567158,
          388129,
          468961,
          465021,
          349300,
          315099,
          378465,
          378118,
          307069,
          202452,
          257604,
          177399,
          248466,
          191213,
          196611,
          303247,
          265310,
          282019,
          308467,
          428541,
          389273,
          286088,
          173779,
          401974,
          254265,
          177649,
          243698,
          164377,
          163865,
          178104,
          169082,
          297099,
          201155,
          237480,
          303189,
          201340,
          155542,
          142313,
          255365,
          247684,
          264912,
          250654,
          199008,
          219687,
          201022,
          249325,
          205566,
          157549,
          155440,
          269252,
          343811,
          235220,
          232380,
          315406,
          332292,
          360931,
          606216,
          0,
          0,
          0,
          39565391,
          23104720,
          16128305,
          13905263,
          10314997,
          14909272,
          18709146,
          15918683,
          10365440,
          6706570,
          9020998,
          17095490,
          8289275,
          15207266,
          9787820,
          8480437,
          20498098,
          63491109,
          13038499,
          9767171,
          9144100,
          13590016,
          16951706,
          10571312,
          12110569,
          20971729,
          17080892,
          16661870,
          15217971,
          12959316,
          10015541,
          10298006,
          10587711,
          11223166,
          15274752,
          12784800,
          14099635
         ]
        }
       ],
       "layout": {
        "legend": {
         "bgcolor": "#F5F6F9",
         "font": {
          "color": "#4D5663"
         }
        },
        "paper_bgcolor": "#F5F6F9",
        "plot_bgcolor": "#F5F6F9",
        "template": {
         "data": {
          "bar": [
           {
            "error_x": {
             "color": "#2a3f5f"
            },
            "error_y": {
             "color": "#2a3f5f"
            },
            "marker": {
             "line": {
              "color": "#E5ECF6",
              "width": 0.5
             },
             "pattern": {
              "fillmode": "overlay",
              "size": 10,
              "solidity": 0.2
             }
            },
            "type": "bar"
           }
          ],
          "barpolar": [
           {
            "marker": {
             "line": {
              "color": "#E5ECF6",
              "width": 0.5
             },
             "pattern": {
              "fillmode": "overlay",
              "size": 10,
              "solidity": 0.2
             }
            },
            "type": "barpolar"
           }
          ],
          "carpet": [
           {
            "aaxis": {
             "endlinecolor": "#2a3f5f",
             "gridcolor": "white",
             "linecolor": "white",
             "minorgridcolor": "white",
             "startlinecolor": "#2a3f5f"
            },
            "baxis": {
             "endlinecolor": "#2a3f5f",
             "gridcolor": "white",
             "linecolor": "white",
             "minorgridcolor": "white",
             "startlinecolor": "#2a3f5f"
            },
            "type": "carpet"
           }
          ],
          "choropleth": [
           {
            "colorbar": {
             "outlinewidth": 0,
             "ticks": ""
            },
            "type": "choropleth"
           }
          ],
          "contour": [
           {
            "colorbar": {
             "outlinewidth": 0,
             "ticks": ""
            },
            "colorscale": [
             [
              0,
              "#0d0887"
             ],
             [
              0.1111111111111111,
              "#46039f"
             ],
             [
              0.2222222222222222,
              "#7201a8"
             ],
             [
              0.3333333333333333,
              "#9c179e"
             ],
             [
              0.4444444444444444,
              "#bd3786"
             ],
             [
              0.5555555555555556,
              "#d8576b"
             ],
             [
              0.6666666666666666,
              "#ed7953"
             ],
             [
              0.7777777777777778,
              "#fb9f3a"
             ],
             [
              0.8888888888888888,
              "#fdca26"
             ],
             [
              1,
              "#f0f921"
             ]
            ],
            "type": "contour"
           }
          ],
          "contourcarpet": [
           {
            "colorbar": {
             "outlinewidth": 0,
             "ticks": ""
            },
            "type": "contourcarpet"
           }
          ],
          "heatmap": [
           {
            "colorbar": {
             "outlinewidth": 0,
             "ticks": ""
            },
            "colorscale": [
             [
              0,
              "#0d0887"
             ],
             [
              0.1111111111111111,
              "#46039f"
             ],
             [
              0.2222222222222222,
              "#7201a8"
             ],
             [
              0.3333333333333333,
              "#9c179e"
             ],
             [
              0.4444444444444444,
              "#bd3786"
             ],
             [
              0.5555555555555556,
              "#d8576b"
             ],
             [
              0.6666666666666666,
              "#ed7953"
             ],
             [
              0.7777777777777778,
              "#fb9f3a"
             ],
             [
              0.8888888888888888,
              "#fdca26"
             ],
             [
              1,
              "#f0f921"
             ]
            ],
            "type": "heatmap"
           }
          ],
          "heatmapgl": [
           {
            "colorbar": {
             "outlinewidth": 0,
             "ticks": ""
            },
            "colorscale": [
             [
              0,
              "#0d0887"
             ],
             [
              0.1111111111111111,
              "#46039f"
             ],
             [
              0.2222222222222222,
              "#7201a8"
             ],
             [
              0.3333333333333333,
              "#9c179e"
             ],
             [
              0.4444444444444444,
              "#bd3786"
             ],
             [
              0.5555555555555556,
              "#d8576b"
             ],
             [
              0.6666666666666666,
              "#ed7953"
             ],
             [
              0.7777777777777778,
              "#fb9f3a"
             ],
             [
              0.8888888888888888,
              "#fdca26"
             ],
             [
              1,
              "#f0f921"
             ]
            ],
            "type": "heatmapgl"
           }
          ],
          "histogram": [
           {
            "marker": {
             "pattern": {
              "fillmode": "overlay",
              "size": 10,
              "solidity": 0.2
             }
            },
            "type": "histogram"
           }
          ],
          "histogram2d": [
           {
            "colorbar": {
             "outlinewidth": 0,
             "ticks": ""
            },
            "colorscale": [
             [
              0,
              "#0d0887"
             ],
             [
              0.1111111111111111,
              "#46039f"
             ],
             [
              0.2222222222222222,
              "#7201a8"
             ],
             [
              0.3333333333333333,
              "#9c179e"
             ],
             [
              0.4444444444444444,
              "#bd3786"
             ],
             [
              0.5555555555555556,
              "#d8576b"
             ],
             [
              0.6666666666666666,
              "#ed7953"
             ],
             [
              0.7777777777777778,
              "#fb9f3a"
             ],
             [
              0.8888888888888888,
              "#fdca26"
             ],
             [
              1,
              "#f0f921"
             ]
            ],
            "type": "histogram2d"
           }
          ],
          "histogram2dcontour": [
           {
            "colorbar": {
             "outlinewidth": 0,
             "ticks": ""
            },
            "colorscale": [
             [
              0,
              "#0d0887"
             ],
             [
              0.1111111111111111,
              "#46039f"
             ],
             [
              0.2222222222222222,
              "#7201a8"
             ],
             [
              0.3333333333333333,
              "#9c179e"
             ],
             [
              0.4444444444444444,
              "#bd3786"
             ],
             [
              0.5555555555555556,
              "#d8576b"
             ],
             [
              0.6666666666666666,
              "#ed7953"
             ],
             [
              0.7777777777777778,
              "#fb9f3a"
             ],
             [
              0.8888888888888888,
              "#fdca26"
             ],
             [
              1,
              "#f0f921"
             ]
            ],
            "type": "histogram2dcontour"
           }
          ],
          "mesh3d": [
           {
            "colorbar": {
             "outlinewidth": 0,
             "ticks": ""
            },
            "type": "mesh3d"
           }
          ],
          "parcoords": [
           {
            "line": {
             "colorbar": {
              "outlinewidth": 0,
              "ticks": ""
             }
            },
            "type": "parcoords"
           }
          ],
          "pie": [
           {
            "automargin": true,
            "type": "pie"
           }
          ],
          "scatter": [
           {
            "fillpattern": {
             "fillmode": "overlay",
             "size": 10,
             "solidity": 0.2
            },
            "type": "scatter"
           }
          ],
          "scatter3d": [
           {
            "line": {
             "colorbar": {
              "outlinewidth": 0,
              "ticks": ""
             }
            },
            "marker": {
             "colorbar": {
              "outlinewidth": 0,
              "ticks": ""
             }
            },
            "type": "scatter3d"
           }
          ],
          "scattercarpet": [
           {
            "marker": {
             "colorbar": {
              "outlinewidth": 0,
              "ticks": ""
             }
            },
            "type": "scattercarpet"
           }
          ],
          "scattergeo": [
           {
            "marker": {
             "colorbar": {
              "outlinewidth": 0,
              "ticks": ""
             }
            },
            "type": "scattergeo"
           }
          ],
          "scattergl": [
           {
            "marker": {
             "colorbar": {
              "outlinewidth": 0,
              "ticks": ""
             }
            },
            "type": "scattergl"
           }
          ],
          "scattermapbox": [
           {
            "marker": {
             "colorbar": {
              "outlinewidth": 0,
              "ticks": ""
             }
            },
            "type": "scattermapbox"
           }
          ],
          "scatterpolar": [
           {
            "marker": {
             "colorbar": {
              "outlinewidth": 0,
              "ticks": ""
             }
            },
            "type": "scatterpolar"
           }
          ],
          "scatterpolargl": [
           {
            "marker": {
             "colorbar": {
              "outlinewidth": 0,
              "ticks": ""
             }
            },
            "type": "scatterpolargl"
           }
          ],
          "scatterternary": [
           {
            "marker": {
             "colorbar": {
              "outlinewidth": 0,
              "ticks": ""
             }
            },
            "type": "scatterternary"
           }
          ],
          "surface": [
           {
            "colorbar": {
             "outlinewidth": 0,
             "ticks": ""
            },
            "colorscale": [
             [
              0,
              "#0d0887"
             ],
             [
              0.1111111111111111,
              "#46039f"
             ],
             [
              0.2222222222222222,
              "#7201a8"
             ],
             [
              0.3333333333333333,
              "#9c179e"
             ],
             [
              0.4444444444444444,
              "#bd3786"
             ],
             [
              0.5555555555555556,
              "#d8576b"
             ],
             [
              0.6666666666666666,
              "#ed7953"
             ],
             [
              0.7777777777777778,
              "#fb9f3a"
             ],
             [
              0.8888888888888888,
              "#fdca26"
             ],
             [
              1,
              "#f0f921"
             ]
            ],
            "type": "surface"
           }
          ],
          "table": [
           {
            "cells": {
             "fill": {
              "color": "#EBF0F8"
             },
             "line": {
              "color": "white"
             }
            },
            "header": {
             "fill": {
              "color": "#C8D4E3"
             },
             "line": {
              "color": "white"
             }
            },
            "type": "table"
           }
          ]
         },
         "layout": {
          "annotationdefaults": {
           "arrowcolor": "#2a3f5f",
           "arrowhead": 0,
           "arrowwidth": 1
          },
          "autotypenumbers": "strict",
          "coloraxis": {
           "colorbar": {
            "outlinewidth": 0,
            "ticks": ""
           }
          },
          "colorscale": {
           "diverging": [
            [
             0,
             "#8e0152"
            ],
            [
             0.1,
             "#c51b7d"
            ],
            [
             0.2,
             "#de77ae"
            ],
            [
             0.3,
             "#f1b6da"
            ],
            [
             0.4,
             "#fde0ef"
            ],
            [
             0.5,
             "#f7f7f7"
            ],
            [
             0.6,
             "#e6f5d0"
            ],
            [
             0.7,
             "#b8e186"
            ],
            [
             0.8,
             "#7fbc41"
            ],
            [
             0.9,
             "#4d9221"
            ],
            [
             1,
             "#276419"
            ]
           ],
           "sequential": [
            [
             0,
             "#0d0887"
            ],
            [
             0.1111111111111111,
             "#46039f"
            ],
            [
             0.2222222222222222,
             "#7201a8"
            ],
            [
             0.3333333333333333,
             "#9c179e"
            ],
            [
             0.4444444444444444,
             "#bd3786"
            ],
            [
             0.5555555555555556,
             "#d8576b"
            ],
            [
             0.6666666666666666,
             "#ed7953"
            ],
            [
             0.7777777777777778,
             "#fb9f3a"
            ],
            [
             0.8888888888888888,
             "#fdca26"
            ],
            [
             1,
             "#f0f921"
            ]
           ],
           "sequentialminus": [
            [
             0,
             "#0d0887"
            ],
            [
             0.1111111111111111,
             "#46039f"
            ],
            [
             0.2222222222222222,
             "#7201a8"
            ],
            [
             0.3333333333333333,
             "#9c179e"
            ],
            [
             0.4444444444444444,
             "#bd3786"
            ],
            [
             0.5555555555555556,
             "#d8576b"
            ],
            [
             0.6666666666666666,
             "#ed7953"
            ],
            [
             0.7777777777777778,
             "#fb9f3a"
            ],
            [
             0.8888888888888888,
             "#fdca26"
            ],
            [
             1,
             "#f0f921"
            ]
           ]
          },
          "colorway": [
           "#636efa",
           "#EF553B",
           "#00cc96",
           "#ab63fa",
           "#FFA15A",
           "#19d3f3",
           "#FF6692",
           "#B6E880",
           "#FF97FF",
           "#FECB52"
          ],
          "font": {
           "color": "#2a3f5f"
          },
          "geo": {
           "bgcolor": "white",
           "lakecolor": "white",
           "landcolor": "#E5ECF6",
           "showlakes": true,
           "showland": true,
           "subunitcolor": "white"
          },
          "hoverlabel": {
           "align": "left"
          },
          "hovermode": "closest",
          "mapbox": {
           "style": "light"
          },
          "paper_bgcolor": "white",
          "plot_bgcolor": "#E5ECF6",
          "polar": {
           "angularaxis": {
            "gridcolor": "white",
            "linecolor": "white",
            "ticks": ""
           },
           "bgcolor": "#E5ECF6",
           "radialaxis": {
            "gridcolor": "white",
            "linecolor": "white",
            "ticks": ""
           }
          },
          "scene": {
           "xaxis": {
            "backgroundcolor": "#E5ECF6",
            "gridcolor": "white",
            "gridwidth": 2,
            "linecolor": "white",
            "showbackground": true,
            "ticks": "",
            "zerolinecolor": "white"
           },
           "yaxis": {
            "backgroundcolor": "#E5ECF6",
            "gridcolor": "white",
            "gridwidth": 2,
            "linecolor": "white",
            "showbackground": true,
            "ticks": "",
            "zerolinecolor": "white"
           },
           "zaxis": {
            "backgroundcolor": "#E5ECF6",
            "gridcolor": "white",
            "gridwidth": 2,
            "linecolor": "white",
            "showbackground": true,
            "ticks": "",
            "zerolinecolor": "white"
           }
          },
          "shapedefaults": {
           "line": {
            "color": "#2a3f5f"
           }
          },
          "ternary": {
           "aaxis": {
            "gridcolor": "white",
            "linecolor": "white",
            "ticks": ""
           },
           "baxis": {
            "gridcolor": "white",
            "linecolor": "white",
            "ticks": ""
           },
           "bgcolor": "#E5ECF6",
           "caxis": {
            "gridcolor": "white",
            "linecolor": "white",
            "ticks": ""
           }
          },
          "title": {
           "x": 0.05
          },
          "xaxis": {
           "automargin": true,
           "gridcolor": "white",
           "linecolor": "white",
           "ticks": "",
           "title": {
            "standoff": 15
           },
           "zerolinecolor": "white",
           "zerolinewidth": 2
          },
          "yaxis": {
           "automargin": true,
           "gridcolor": "white",
           "linecolor": "white",
           "ticks": "",
           "title": {
            "standoff": 15
           },
           "zerolinecolor": "white",
           "zerolinewidth": 2
          }
         }
        },
        "title": {
         "font": {
          "color": "#4D5663"
         }
        },
        "xaxis": {
         "gridcolor": "#E1E5ED",
         "showgrid": true,
         "tickfont": {
          "color": "#4D5663"
         },
         "title": {
          "font": {
           "color": "#4D5663"
          },
          "text": ""
         },
         "zerolinecolor": "#E1E5ED"
        },
        "yaxis": {
         "gridcolor": "#E1E5ED",
         "showgrid": true,
         "tickfont": {
          "color": "#4D5663"
         },
         "title": {
          "font": {
           "color": "#4D5663"
          },
          "text": ""
         },
         "zerolinecolor": "#E1E5ED"
        }
       }
      },
      "text/html": [
       "<div>                            <div id=\"a7e76c93-ffcd-4b20-8920-88bb68b361f2\" class=\"plotly-graph-div\" style=\"height:525px; width:100%;\"></div>            <script type=\"text/javascript\">                require([\"plotly\"], function(Plotly) {                    window.PLOTLYENV=window.PLOTLYENV || {};\n",
       "                    window.PLOTLYENV.BASE_URL='https://plot.ly';                                    if (document.getElementById(\"a7e76c93-ffcd-4b20-8920-88bb68b361f2\")) {                    Plotly.newPlot(                        \"a7e76c93-ffcd-4b20-8920-88bb68b361f2\",                        [{\"line\":{\"color\":\"rgba(255, 153, 51, 1.0)\",\"dash\":\"solid\",\"shape\":\"linear\",\"width\":1.3},\"mode\":\"lines\",\"name\":\"Volume\",\"text\":\"\",\"x\":[\"2018-02-01\",\"2018-02-02\",\"2018-02-05\",\"2018-02-06\",\"2018-02-07\",\"2018-02-08\",\"2018-02-09\",\"2018-02-12\",\"2018-02-13\",\"2018-02-14\",\"2018-02-19\",\"2018-02-20\",\"2018-02-21\",\"2018-02-22\",\"2018-02-23\",\"2018-02-26\",\"2018-02-27\",\"2018-02-28\",\"2018-03-02\",\"2018-03-05\",\"2018-03-06\",\"2018-03-07\",\"2018-03-08\",\"2018-03-09\",\"2018-03-12\",\"2018-03-13\",\"2018-03-14\",\"2018-03-15\",\"2018-03-16\",\"2018-03-19\",\"2018-03-20\",\"2018-03-21\",\"2018-03-22\",\"2018-03-23\",\"2018-03-26\",\"2018-03-27\",\"2018-03-28\",\"2018-03-29\",\"2018-03-30\",\"2018-04-02\",\"2018-04-03\",\"2018-04-04\",\"2018-04-05\",\"2018-04-06\",\"2018-04-09\",\"2018-04-10\",\"2018-04-11\",\"2018-04-12\",\"2018-04-13\",\"2018-04-16\",\"2018-04-17\",\"2018-04-18\",\"2018-04-19\",\"2018-04-20\",\"2018-04-23\",\"2018-04-24\",\"2018-04-25\",\"2018-04-26\",\"2018-04-27\",\"2018-04-30\",\"2018-05-02\",\"2018-05-03\",\"2018-05-04\",\"2018-05-08\",\"2018-05-09\",\"2018-05-10\",\"2018-05-11\",\"2018-05-14\",\"2018-05-15\",\"2018-05-16\",\"2018-05-17\",\"2018-05-18\",\"2018-05-21\",\"2018-05-23\",\"2018-05-24\",\"2018-05-25\",\"2018-05-28\",\"2018-05-29\",\"2018-05-30\",\"2018-05-31\",\"2018-06-01\",\"2018-06-04\",\"2018-06-05\",\"2018-06-07\",\"2018-06-08\",\"2018-06-11\",\"2018-06-12\",\"2018-06-14\",\"2018-06-15\",\"2018-06-18\",\"2018-06-19\",\"2018-06-20\",\"2018-06-21\",\"2018-06-22\",\"2018-06-25\",\"2018-06-26\",\"2018-06-27\",\"2018-06-28\",\"2018-06-29\"],\"y\":[552189,585207,567158,388129,468961,465021,349300,315099,378465,378118,307069,202452,257604,177399,248466,191213,196611,303247,265310,282019,308467,428541,389273,286088,173779,401974,254265,177649,243698,164377,163865,178104,169082,297099,201155,237480,303189,201340,155542,142313,255365,247684,264912,250654,199008,219687,201022,249325,205566,157549,155440,269252,343811,235220,232380,315406,332292,360931,606216,0,0,0,39565391,23104720,16128305,13905263,10314997,14909272,18709146,15918683,10365440,6706570,9020998,17095490,8289275,15207266,9787820,8480437,20498098,63491109,13038499,9767171,9144100,13590016,16951706,10571312,12110569,20971729,17080892,16661870,15217971,12959316,10015541,10298006,10587711,11223166,15274752,12784800,14099635],\"type\":\"scatter\"}],                        {\"legend\":{\"bgcolor\":\"#F5F6F9\",\"font\":{\"color\":\"#4D5663\"}},\"paper_bgcolor\":\"#F5F6F9\",\"plot_bgcolor\":\"#F5F6F9\",\"template\":{\"data\":{\"barpolar\":[{\"marker\":{\"line\":{\"color\":\"#E5ECF6\",\"width\":0.5},\"pattern\":{\"fillmode\":\"overlay\",\"size\":10,\"solidity\":0.2}},\"type\":\"barpolar\"}],\"bar\":[{\"error_x\":{\"color\":\"#2a3f5f\"},\"error_y\":{\"color\":\"#2a3f5f\"},\"marker\":{\"line\":{\"color\":\"#E5ECF6\",\"width\":0.5},\"pattern\":{\"fillmode\":\"overlay\",\"size\":10,\"solidity\":0.2}},\"type\":\"bar\"}],\"carpet\":[{\"aaxis\":{\"endlinecolor\":\"#2a3f5f\",\"gridcolor\":\"white\",\"linecolor\":\"white\",\"minorgridcolor\":\"white\",\"startlinecolor\":\"#2a3f5f\"},\"baxis\":{\"endlinecolor\":\"#2a3f5f\",\"gridcolor\":\"white\",\"linecolor\":\"white\",\"minorgridcolor\":\"white\",\"startlinecolor\":\"#2a3f5f\"},\"type\":\"carpet\"}],\"choropleth\":[{\"colorbar\":{\"outlinewidth\":0,\"ticks\":\"\"},\"type\":\"choropleth\"}],\"contourcarpet\":[{\"colorbar\":{\"outlinewidth\":0,\"ticks\":\"\"},\"type\":\"contourcarpet\"}],\"contour\":[{\"colorbar\":{\"outlinewidth\":0,\"ticks\":\"\"},\"colorscale\":[[0.0,\"#0d0887\"],[0.1111111111111111,\"#46039f\"],[0.2222222222222222,\"#7201a8\"],[0.3333333333333333,\"#9c179e\"],[0.4444444444444444,\"#bd3786\"],[0.5555555555555556,\"#d8576b\"],[0.6666666666666666,\"#ed7953\"],[0.7777777777777778,\"#fb9f3a\"],[0.8888888888888888,\"#fdca26\"],[1.0,\"#f0f921\"]],\"type\":\"contour\"}],\"heatmapgl\":[{\"colorbar\":{\"outlinewidth\":0,\"ticks\":\"\"},\"colorscale\":[[0.0,\"#0d0887\"],[0.1111111111111111,\"#46039f\"],[0.2222222222222222,\"#7201a8\"],[0.3333333333333333,\"#9c179e\"],[0.4444444444444444,\"#bd3786\"],[0.5555555555555556,\"#d8576b\"],[0.6666666666666666,\"#ed7953\"],[0.7777777777777778,\"#fb9f3a\"],[0.8888888888888888,\"#fdca26\"],[1.0,\"#f0f921\"]],\"type\":\"heatmapgl\"}],\"heatmap\":[{\"colorbar\":{\"outlinewidth\":0,\"ticks\":\"\"},\"colorscale\":[[0.0,\"#0d0887\"],[0.1111111111111111,\"#46039f\"],[0.2222222222222222,\"#7201a8\"],[0.3333333333333333,\"#9c179e\"],[0.4444444444444444,\"#bd3786\"],[0.5555555555555556,\"#d8576b\"],[0.6666666666666666,\"#ed7953\"],[0.7777777777777778,\"#fb9f3a\"],[0.8888888888888888,\"#fdca26\"],[1.0,\"#f0f921\"]],\"type\":\"heatmap\"}],\"histogram2dcontour\":[{\"colorbar\":{\"outlinewidth\":0,\"ticks\":\"\"},\"colorscale\":[[0.0,\"#0d0887\"],[0.1111111111111111,\"#46039f\"],[0.2222222222222222,\"#7201a8\"],[0.3333333333333333,\"#9c179e\"],[0.4444444444444444,\"#bd3786\"],[0.5555555555555556,\"#d8576b\"],[0.6666666666666666,\"#ed7953\"],[0.7777777777777778,\"#fb9f3a\"],[0.8888888888888888,\"#fdca26\"],[1.0,\"#f0f921\"]],\"type\":\"histogram2dcontour\"}],\"histogram2d\":[{\"colorbar\":{\"outlinewidth\":0,\"ticks\":\"\"},\"colorscale\":[[0.0,\"#0d0887\"],[0.1111111111111111,\"#46039f\"],[0.2222222222222222,\"#7201a8\"],[0.3333333333333333,\"#9c179e\"],[0.4444444444444444,\"#bd3786\"],[0.5555555555555556,\"#d8576b\"],[0.6666666666666666,\"#ed7953\"],[0.7777777777777778,\"#fb9f3a\"],[0.8888888888888888,\"#fdca26\"],[1.0,\"#f0f921\"]],\"type\":\"histogram2d\"}],\"histogram\":[{\"marker\":{\"pattern\":{\"fillmode\":\"overlay\",\"size\":10,\"solidity\":0.2}},\"type\":\"histogram\"}],\"mesh3d\":[{\"colorbar\":{\"outlinewidth\":0,\"ticks\":\"\"},\"type\":\"mesh3d\"}],\"parcoords\":[{\"line\":{\"colorbar\":{\"outlinewidth\":0,\"ticks\":\"\"}},\"type\":\"parcoords\"}],\"pie\":[{\"automargin\":true,\"type\":\"pie\"}],\"scatter3d\":[{\"line\":{\"colorbar\":{\"outlinewidth\":0,\"ticks\":\"\"}},\"marker\":{\"colorbar\":{\"outlinewidth\":0,\"ticks\":\"\"}},\"type\":\"scatter3d\"}],\"scattercarpet\":[{\"marker\":{\"colorbar\":{\"outlinewidth\":0,\"ticks\":\"\"}},\"type\":\"scattercarpet\"}],\"scattergeo\":[{\"marker\":{\"colorbar\":{\"outlinewidth\":0,\"ticks\":\"\"}},\"type\":\"scattergeo\"}],\"scattergl\":[{\"marker\":{\"colorbar\":{\"outlinewidth\":0,\"ticks\":\"\"}},\"type\":\"scattergl\"}],\"scattermapbox\":[{\"marker\":{\"colorbar\":{\"outlinewidth\":0,\"ticks\":\"\"}},\"type\":\"scattermapbox\"}],\"scatterpolargl\":[{\"marker\":{\"colorbar\":{\"outlinewidth\":0,\"ticks\":\"\"}},\"type\":\"scatterpolargl\"}],\"scatterpolar\":[{\"marker\":{\"colorbar\":{\"outlinewidth\":0,\"ticks\":\"\"}},\"type\":\"scatterpolar\"}],\"scatter\":[{\"fillpattern\":{\"fillmode\":\"overlay\",\"size\":10,\"solidity\":0.2},\"type\":\"scatter\"}],\"scatterternary\":[{\"marker\":{\"colorbar\":{\"outlinewidth\":0,\"ticks\":\"\"}},\"type\":\"scatterternary\"}],\"surface\":[{\"colorbar\":{\"outlinewidth\":0,\"ticks\":\"\"},\"colorscale\":[[0.0,\"#0d0887\"],[0.1111111111111111,\"#46039f\"],[0.2222222222222222,\"#7201a8\"],[0.3333333333333333,\"#9c179e\"],[0.4444444444444444,\"#bd3786\"],[0.5555555555555556,\"#d8576b\"],[0.6666666666666666,\"#ed7953\"],[0.7777777777777778,\"#fb9f3a\"],[0.8888888888888888,\"#fdca26\"],[1.0,\"#f0f921\"]],\"type\":\"surface\"}],\"table\":[{\"cells\":{\"fill\":{\"color\":\"#EBF0F8\"},\"line\":{\"color\":\"white\"}},\"header\":{\"fill\":{\"color\":\"#C8D4E3\"},\"line\":{\"color\":\"white\"}},\"type\":\"table\"}]},\"layout\":{\"annotationdefaults\":{\"arrowcolor\":\"#2a3f5f\",\"arrowhead\":0,\"arrowwidth\":1},\"autotypenumbers\":\"strict\",\"coloraxis\":{\"colorbar\":{\"outlinewidth\":0,\"ticks\":\"\"}},\"colorscale\":{\"diverging\":[[0,\"#8e0152\"],[0.1,\"#c51b7d\"],[0.2,\"#de77ae\"],[0.3,\"#f1b6da\"],[0.4,\"#fde0ef\"],[0.5,\"#f7f7f7\"],[0.6,\"#e6f5d0\"],[0.7,\"#b8e186\"],[0.8,\"#7fbc41\"],[0.9,\"#4d9221\"],[1,\"#276419\"]],\"sequential\":[[0.0,\"#0d0887\"],[0.1111111111111111,\"#46039f\"],[0.2222222222222222,\"#7201a8\"],[0.3333333333333333,\"#9c179e\"],[0.4444444444444444,\"#bd3786\"],[0.5555555555555556,\"#d8576b\"],[0.6666666666666666,\"#ed7953\"],[0.7777777777777778,\"#fb9f3a\"],[0.8888888888888888,\"#fdca26\"],[1.0,\"#f0f921\"]],\"sequentialminus\":[[0.0,\"#0d0887\"],[0.1111111111111111,\"#46039f\"],[0.2222222222222222,\"#7201a8\"],[0.3333333333333333,\"#9c179e\"],[0.4444444444444444,\"#bd3786\"],[0.5555555555555556,\"#d8576b\"],[0.6666666666666666,\"#ed7953\"],[0.7777777777777778,\"#fb9f3a\"],[0.8888888888888888,\"#fdca26\"],[1.0,\"#f0f921\"]]},\"colorway\":[\"#636efa\",\"#EF553B\",\"#00cc96\",\"#ab63fa\",\"#FFA15A\",\"#19d3f3\",\"#FF6692\",\"#B6E880\",\"#FF97FF\",\"#FECB52\"],\"font\":{\"color\":\"#2a3f5f\"},\"geo\":{\"bgcolor\":\"white\",\"lakecolor\":\"white\",\"landcolor\":\"#E5ECF6\",\"showlakes\":true,\"showland\":true,\"subunitcolor\":\"white\"},\"hoverlabel\":{\"align\":\"left\"},\"hovermode\":\"closest\",\"mapbox\":{\"style\":\"light\"},\"paper_bgcolor\":\"white\",\"plot_bgcolor\":\"#E5ECF6\",\"polar\":{\"angularaxis\":{\"gridcolor\":\"white\",\"linecolor\":\"white\",\"ticks\":\"\"},\"bgcolor\":\"#E5ECF6\",\"radialaxis\":{\"gridcolor\":\"white\",\"linecolor\":\"white\",\"ticks\":\"\"}},\"scene\":{\"xaxis\":{\"backgroundcolor\":\"#E5ECF6\",\"gridcolor\":\"white\",\"gridwidth\":2,\"linecolor\":\"white\",\"showbackground\":true,\"ticks\":\"\",\"zerolinecolor\":\"white\"},\"yaxis\":{\"backgroundcolor\":\"#E5ECF6\",\"gridcolor\":\"white\",\"gridwidth\":2,\"linecolor\":\"white\",\"showbackground\":true,\"ticks\":\"\",\"zerolinecolor\":\"white\"},\"zaxis\":{\"backgroundcolor\":\"#E5ECF6\",\"gridcolor\":\"white\",\"gridwidth\":2,\"linecolor\":\"white\",\"showbackground\":true,\"ticks\":\"\",\"zerolinecolor\":\"white\"}},\"shapedefaults\":{\"line\":{\"color\":\"#2a3f5f\"}},\"ternary\":{\"aaxis\":{\"gridcolor\":\"white\",\"linecolor\":\"white\",\"ticks\":\"\"},\"baxis\":{\"gridcolor\":\"white\",\"linecolor\":\"white\",\"ticks\":\"\"},\"bgcolor\":\"#E5ECF6\",\"caxis\":{\"gridcolor\":\"white\",\"linecolor\":\"white\",\"ticks\":\"\"}},\"title\":{\"x\":0.05},\"xaxis\":{\"automargin\":true,\"gridcolor\":\"white\",\"linecolor\":\"white\",\"ticks\":\"\",\"title\":{\"standoff\":15},\"zerolinecolor\":\"white\",\"zerolinewidth\":2},\"yaxis\":{\"automargin\":true,\"gridcolor\":\"white\",\"linecolor\":\"white\",\"ticks\":\"\",\"title\":{\"standoff\":15},\"zerolinecolor\":\"white\",\"zerolinewidth\":2}}},\"title\":{\"font\":{\"color\":\"#4D5663\"}},\"xaxis\":{\"gridcolor\":\"#E1E5ED\",\"showgrid\":true,\"tickfont\":{\"color\":\"#4D5663\"},\"title\":{\"font\":{\"color\":\"#4D5663\"},\"text\":\"\"},\"zerolinecolor\":\"#E1E5ED\"},\"yaxis\":{\"gridcolor\":\"#E1E5ED\",\"showgrid\":true,\"tickfont\":{\"color\":\"#4D5663\"},\"title\":{\"font\":{\"color\":\"#4D5663\"},\"text\":\"\"},\"zerolinecolor\":\"#E1E5ED\"}},                        {\"showLink\": true, \"linkText\": \"Export to plot.ly\", \"plotlyServerURL\": \"https://plot.ly\", \"responsive\": true}                    ).then(function(){\n",
       "                            \n",
       "var gd = document.getElementById('a7e76c93-ffcd-4b20-8920-88bb68b361f2');\n",
       "var x = new MutationObserver(function (mutations, observer) {{\n",
       "        var display = window.getComputedStyle(gd).display;\n",
       "        if (!display || display === 'none') {{\n",
       "            console.log([gd, 'removed!']);\n",
       "            Plotly.purge(gd);\n",
       "            observer.disconnect();\n",
       "        }}\n",
       "}});\n",
       "\n",
       "// Listen for the removal of the full notebook cells\n",
       "var notebookContainer = gd.closest('#notebook-container');\n",
       "if (notebookContainer) {{\n",
       "    x.observe(notebookContainer, {childList: true});\n",
       "}}\n",
       "\n",
       "// Listen for the clearing of the current output cell\n",
       "var outputEl = gd.closest('.output');\n",
       "if (outputEl) {{\n",
       "    x.observe(outputEl, {childList: true});\n",
       "}}\n",
       "\n",
       "                        })                };                });            </script>        </div>"
      ]
     },
     "metadata": {},
     "output_type": "display_data"
    }
   ],
   "source": [
    "df_samsung['Volume'].iplot(kind = 'line')"
   ]
  },
  {
   "cell_type": "markdown",
   "metadata": {},
   "source": [
    "삼성전자는 기존의 1주를 50주로 쪼개는 액면분할을 실시하여 4.30 ~ 5.2일까지 거래정지기간으로 나타났다.<br>"
   ]
  },
  {
   "cell_type": "markdown",
   "metadata": {},
   "source": [
    "## 신풍제약 주가 시각화"
   ]
  },
  {
   "cell_type": "code",
   "execution_count": 59,
   "metadata": {
    "ExecuteTime": {
     "end_time": "2022-12-07T12:39:50.632554Z",
     "start_time": "2022-12-07T12:39:50.434087Z"
    },
    "scrolled": true
   },
   "outputs": [
    {
     "data": {
      "text/html": [
       "<div>\n",
       "<style scoped>\n",
       "    .dataframe tbody tr th:only-of-type {\n",
       "        vertical-align: middle;\n",
       "    }\n",
       "\n",
       "    .dataframe tbody tr th {\n",
       "        vertical-align: top;\n",
       "    }\n",
       "\n",
       "    .dataframe thead th {\n",
       "        text-align: right;\n",
       "    }\n",
       "</style>\n",
       "<table border=\"1\" class=\"dataframe\">\n",
       "  <thead>\n",
       "    <tr style=\"text-align: right;\">\n",
       "      <th></th>\n",
       "      <th>Open</th>\n",
       "      <th>High</th>\n",
       "      <th>Low</th>\n",
       "      <th>Close</th>\n",
       "      <th>Volume</th>\n",
       "      <th>Change</th>\n",
       "    </tr>\n",
       "    <tr>\n",
       "      <th>Date</th>\n",
       "      <th></th>\n",
       "      <th></th>\n",
       "      <th></th>\n",
       "      <th></th>\n",
       "      <th></th>\n",
       "      <th></th>\n",
       "    </tr>\n",
       "  </thead>\n",
       "  <tbody>\n",
       "    <tr>\n",
       "      <th>2020-07-01</th>\n",
       "      <td>30400</td>\n",
       "      <td>31150</td>\n",
       "      <td>29150</td>\n",
       "      <td>29250</td>\n",
       "      <td>2957350</td>\n",
       "      <td>-0.031457</td>\n",
       "    </tr>\n",
       "    <tr>\n",
       "      <th>2020-07-02</th>\n",
       "      <td>29300</td>\n",
       "      <td>29850</td>\n",
       "      <td>28900</td>\n",
       "      <td>29300</td>\n",
       "      <td>1429912</td>\n",
       "      <td>0.001709</td>\n",
       "    </tr>\n",
       "    <tr>\n",
       "      <th>2020-07-03</th>\n",
       "      <td>29300</td>\n",
       "      <td>31300</td>\n",
       "      <td>28900</td>\n",
       "      <td>29550</td>\n",
       "      <td>3505959</td>\n",
       "      <td>0.008532</td>\n",
       "    </tr>\n",
       "    <tr>\n",
       "      <th>2020-07-06</th>\n",
       "      <td>30100</td>\n",
       "      <td>32000</td>\n",
       "      <td>29750</td>\n",
       "      <td>31050</td>\n",
       "      <td>5148966</td>\n",
       "      <td>0.050761</td>\n",
       "    </tr>\n",
       "    <tr>\n",
       "      <th>2020-07-07</th>\n",
       "      <td>31400</td>\n",
       "      <td>39700</td>\n",
       "      <td>31050</td>\n",
       "      <td>37950</td>\n",
       "      <td>28716072</td>\n",
       "      <td>0.222222</td>\n",
       "    </tr>\n",
       "    <tr>\n",
       "      <th>2020-07-08</th>\n",
       "      <td>39000</td>\n",
       "      <td>44600</td>\n",
       "      <td>38500</td>\n",
       "      <td>39400</td>\n",
       "      <td>15686852</td>\n",
       "      <td>0.038208</td>\n",
       "    </tr>\n",
       "    <tr>\n",
       "      <th>2020-07-09</th>\n",
       "      <td>40250</td>\n",
       "      <td>42850</td>\n",
       "      <td>39500</td>\n",
       "      <td>41150</td>\n",
       "      <td>8047240</td>\n",
       "      <td>0.044416</td>\n",
       "    </tr>\n",
       "    <tr>\n",
       "      <th>2020-07-10</th>\n",
       "      <td>42100</td>\n",
       "      <td>52900</td>\n",
       "      <td>40800</td>\n",
       "      <td>48650</td>\n",
       "      <td>21832615</td>\n",
       "      <td>0.182260</td>\n",
       "    </tr>\n",
       "    <tr>\n",
       "      <th>2020-07-13</th>\n",
       "      <td>51300</td>\n",
       "      <td>60600</td>\n",
       "      <td>50100</td>\n",
       "      <td>60300</td>\n",
       "      <td>13164176</td>\n",
       "      <td>0.239466</td>\n",
       "    </tr>\n",
       "    <tr>\n",
       "      <th>2020-07-14</th>\n",
       "      <td>58200</td>\n",
       "      <td>72400</td>\n",
       "      <td>55400</td>\n",
       "      <td>62500</td>\n",
       "      <td>10573019</td>\n",
       "      <td>0.036484</td>\n",
       "    </tr>\n",
       "  </tbody>\n",
       "</table>\n",
       "</div>"
      ],
      "text/plain": [
       "             Open   High    Low  Close    Volume    Change\n",
       "Date                                                      \n",
       "2020-07-01  30400  31150  29150  29250   2957350 -0.031457\n",
       "2020-07-02  29300  29850  28900  29300   1429912  0.001709\n",
       "2020-07-03  29300  31300  28900  29550   3505959  0.008532\n",
       "2020-07-06  30100  32000  29750  31050   5148966  0.050761\n",
       "2020-07-07  31400  39700  31050  37950  28716072  0.222222\n",
       "2020-07-08  39000  44600  38500  39400  15686852  0.038208\n",
       "2020-07-09  40250  42850  39500  41150   8047240  0.044416\n",
       "2020-07-10  42100  52900  40800  48650  21832615  0.182260\n",
       "2020-07-13  51300  60600  50100  60300  13164176  0.239466\n",
       "2020-07-14  58200  72400  55400  62500  10573019  0.036484"
      ]
     },
     "execution_count": 59,
     "metadata": {},
     "output_type": "execute_result"
    }
   ],
   "source": [
    "import FinanceDataReader as fdr\n",
    "\n",
    "# 신풍제약\n",
    "df_sinpung = fdr.DataReader('019170', start = '2020-07-01', end = '2020-11-30')\n",
    "df_sinpung.head(10)"
   ]
  },
  {
   "cell_type": "code",
   "execution_count": 61,
   "metadata": {
    "ExecuteTime": {
     "end_time": "2022-12-07T12:40:18.597092Z",
     "start_time": "2022-12-07T12:40:18.489380Z"
    }
   },
   "outputs": [
    {
     "data": {
      "application/vnd.plotly.v1+json": {
       "config": {
        "linkText": "Export to plot.ly",
        "plotlyServerURL": "https://plot.ly",
        "showLink": true
       },
       "data": [
        {
         "line": {
          "color": "rgba(255, 153, 51, 1.0)",
          "dash": "solid",
          "shape": "linear",
          "width": 1.3
         },
         "mode": "lines",
         "name": "Open",
         "text": "",
         "type": "scatter",
         "x": [
          "2020-07-01",
          "2020-07-02",
          "2020-07-03",
          "2020-07-06",
          "2020-07-07",
          "2020-07-08",
          "2020-07-09",
          "2020-07-10",
          "2020-07-13",
          "2020-07-14",
          "2020-07-15",
          "2020-07-16",
          "2020-07-17",
          "2020-07-20",
          "2020-07-21",
          "2020-07-22",
          "2020-07-23",
          "2020-07-24",
          "2020-07-27",
          "2020-07-28",
          "2020-07-29",
          "2020-07-30",
          "2020-07-31",
          "2020-08-03",
          "2020-08-04",
          "2020-08-05",
          "2020-08-06",
          "2020-08-07",
          "2020-08-10",
          "2020-08-11",
          "2020-08-12",
          "2020-08-13",
          "2020-08-14",
          "2020-08-18",
          "2020-08-19",
          "2020-08-20",
          "2020-08-21",
          "2020-08-24",
          "2020-08-25",
          "2020-08-26",
          "2020-08-27",
          "2020-08-28",
          "2020-08-31",
          "2020-09-01",
          "2020-09-02",
          "2020-09-03",
          "2020-09-04",
          "2020-09-07",
          "2020-09-08",
          "2020-09-09",
          "2020-09-10",
          "2020-09-11",
          "2020-09-14",
          "2020-09-15",
          "2020-09-16",
          "2020-09-17",
          "2020-09-18",
          "2020-09-21",
          "2020-09-22",
          "2020-09-23",
          "2020-09-24",
          "2020-09-25",
          "2020-09-28",
          "2020-09-29",
          "2020-10-05",
          "2020-10-06",
          "2020-10-07",
          "2020-10-08",
          "2020-10-12",
          "2020-10-13",
          "2020-10-14",
          "2020-10-15",
          "2020-10-16",
          "2020-10-19",
          "2020-10-20",
          "2020-10-21",
          "2020-10-22",
          "2020-10-23",
          "2020-10-26",
          "2020-10-27",
          "2020-10-28",
          "2020-10-29",
          "2020-10-30",
          "2020-11-02",
          "2020-11-03",
          "2020-11-04",
          "2020-11-05",
          "2020-11-06",
          "2020-11-09",
          "2020-11-10",
          "2020-11-11",
          "2020-11-12",
          "2020-11-13",
          "2020-11-16",
          "2020-11-17",
          "2020-11-18",
          "2020-11-19",
          "2020-11-20",
          "2020-11-23",
          "2020-11-24",
          "2020-11-25",
          "2020-11-26",
          "2020-11-27",
          "2020-11-30"
         ],
         "y": [
          30400,
          29300,
          29300,
          30100,
          31400,
          39000,
          40250,
          42100,
          51300,
          58200,
          67300,
          61100,
          65100,
          80700,
          0,
          111500,
          0,
          139000,
          100000,
          76500,
          72400,
          80300,
          87400,
          69900,
          77000,
          75900,
          78800,
          77000,
          76200,
          77000,
          75900,
          75300,
          75000,
          78500,
          85300,
          84000,
          91400,
          94400,
          101000,
          118000,
          117500,
          109500,
          113000,
          143000,
          152000,
          153500,
          150500,
          149500,
          148500,
          135000,
          143500,
          143000,
          155500,
          149000,
          147500,
          156500,
          153000,
          209000,
          167000,
          168500,
          158500,
          155000,
          140000,
          137000,
          130500,
          127500,
          134000,
          138000,
          140500,
          133500,
          122500,
          127000,
          123500,
          121500,
          127000,
          127500,
          135000,
          141000,
          142500,
          137500,
          127500,
          128000,
          129500,
          127000,
          127500,
          138000,
          135500,
          135500,
          134500,
          132500,
          129500,
          122500,
          103000,
          125000,
          123500,
          128000,
          118000,
          124500,
          123000,
          119500,
          121000,
          122500,
          129500,
          129500
         ]
        },
        {
         "line": {
          "color": "rgba(55, 128, 191, 1.0)",
          "dash": "solid",
          "shape": "linear",
          "width": 1.3
         },
         "mode": "lines",
         "name": "High",
         "text": "",
         "type": "scatter",
         "x": [
          "2020-07-01",
          "2020-07-02",
          "2020-07-03",
          "2020-07-06",
          "2020-07-07",
          "2020-07-08",
          "2020-07-09",
          "2020-07-10",
          "2020-07-13",
          "2020-07-14",
          "2020-07-15",
          "2020-07-16",
          "2020-07-17",
          "2020-07-20",
          "2020-07-21",
          "2020-07-22",
          "2020-07-23",
          "2020-07-24",
          "2020-07-27",
          "2020-07-28",
          "2020-07-29",
          "2020-07-30",
          "2020-07-31",
          "2020-08-03",
          "2020-08-04",
          "2020-08-05",
          "2020-08-06",
          "2020-08-07",
          "2020-08-10",
          "2020-08-11",
          "2020-08-12",
          "2020-08-13",
          "2020-08-14",
          "2020-08-18",
          "2020-08-19",
          "2020-08-20",
          "2020-08-21",
          "2020-08-24",
          "2020-08-25",
          "2020-08-26",
          "2020-08-27",
          "2020-08-28",
          "2020-08-31",
          "2020-09-01",
          "2020-09-02",
          "2020-09-03",
          "2020-09-04",
          "2020-09-07",
          "2020-09-08",
          "2020-09-09",
          "2020-09-10",
          "2020-09-11",
          "2020-09-14",
          "2020-09-15",
          "2020-09-16",
          "2020-09-17",
          "2020-09-18",
          "2020-09-21",
          "2020-09-22",
          "2020-09-23",
          "2020-09-24",
          "2020-09-25",
          "2020-09-28",
          "2020-09-29",
          "2020-10-05",
          "2020-10-06",
          "2020-10-07",
          "2020-10-08",
          "2020-10-12",
          "2020-10-13",
          "2020-10-14",
          "2020-10-15",
          "2020-10-16",
          "2020-10-19",
          "2020-10-20",
          "2020-10-21",
          "2020-10-22",
          "2020-10-23",
          "2020-10-26",
          "2020-10-27",
          "2020-10-28",
          "2020-10-29",
          "2020-10-30",
          "2020-11-02",
          "2020-11-03",
          "2020-11-04",
          "2020-11-05",
          "2020-11-06",
          "2020-11-09",
          "2020-11-10",
          "2020-11-11",
          "2020-11-12",
          "2020-11-13",
          "2020-11-16",
          "2020-11-17",
          "2020-11-18",
          "2020-11-19",
          "2020-11-20",
          "2020-11-23",
          "2020-11-24",
          "2020-11-25",
          "2020-11-26",
          "2020-11-27",
          "2020-11-30"
         ],
         "y": [
          31150,
          29850,
          31300,
          32000,
          39700,
          44600,
          42850,
          52900,
          60600,
          72400,
          70800,
          65200,
          75900,
          94900,
          0,
          123000,
          0,
          159500,
          103000,
          78900,
          79000,
          89300,
          93800,
          74500,
          77600,
          82000,
          81200,
          77000,
          78000,
          77600,
          76200,
          80100,
          78400,
          89100,
          86200,
          96900,
          92800,
          102000,
          122000,
          127000,
          119000,
          115000,
          136500,
          154500,
          163000,
          162000,
          156000,
          155500,
          148500,
          148000,
          147500,
          158000,
          155500,
          150500,
          155500,
          160000,
          198000,
          214000,
          191000,
          182000,
          169500,
          159000,
          151000,
          138000,
          134500,
          137000,
          144000,
          140500,
          140500,
          133500,
          131500,
          128000,
          127500,
          135500,
          130500,
          138500,
          140000,
          145000,
          143500,
          142000,
          131500,
          133000,
          131000,
          128500,
          138500,
          138500,
          137000,
          136500,
          138000,
          133000,
          130500,
          123000,
          135000,
          141500,
          133000,
          129000,
          131000,
          128000,
          123500,
          123500,
          124000,
          134500,
          130000,
          132500
         ]
        },
        {
         "line": {
          "color": "rgba(50, 171, 96, 1.0)",
          "dash": "solid",
          "shape": "linear",
          "width": 1.3
         },
         "mode": "lines",
         "name": "Low",
         "text": "",
         "type": "scatter",
         "x": [
          "2020-07-01",
          "2020-07-02",
          "2020-07-03",
          "2020-07-06",
          "2020-07-07",
          "2020-07-08",
          "2020-07-09",
          "2020-07-10",
          "2020-07-13",
          "2020-07-14",
          "2020-07-15",
          "2020-07-16",
          "2020-07-17",
          "2020-07-20",
          "2020-07-21",
          "2020-07-22",
          "2020-07-23",
          "2020-07-24",
          "2020-07-27",
          "2020-07-28",
          "2020-07-29",
          "2020-07-30",
          "2020-07-31",
          "2020-08-03",
          "2020-08-04",
          "2020-08-05",
          "2020-08-06",
          "2020-08-07",
          "2020-08-10",
          "2020-08-11",
          "2020-08-12",
          "2020-08-13",
          "2020-08-14",
          "2020-08-18",
          "2020-08-19",
          "2020-08-20",
          "2020-08-21",
          "2020-08-24",
          "2020-08-25",
          "2020-08-26",
          "2020-08-27",
          "2020-08-28",
          "2020-08-31",
          "2020-09-01",
          "2020-09-02",
          "2020-09-03",
          "2020-09-04",
          "2020-09-07",
          "2020-09-08",
          "2020-09-09",
          "2020-09-10",
          "2020-09-11",
          "2020-09-14",
          "2020-09-15",
          "2020-09-16",
          "2020-09-17",
          "2020-09-18",
          "2020-09-21",
          "2020-09-22",
          "2020-09-23",
          "2020-09-24",
          "2020-09-25",
          "2020-09-28",
          "2020-09-29",
          "2020-10-05",
          "2020-10-06",
          "2020-10-07",
          "2020-10-08",
          "2020-10-12",
          "2020-10-13",
          "2020-10-14",
          "2020-10-15",
          "2020-10-16",
          "2020-10-19",
          "2020-10-20",
          "2020-10-21",
          "2020-10-22",
          "2020-10-23",
          "2020-10-26",
          "2020-10-27",
          "2020-10-28",
          "2020-10-29",
          "2020-10-30",
          "2020-11-02",
          "2020-11-03",
          "2020-11-04",
          "2020-11-05",
          "2020-11-06",
          "2020-11-09",
          "2020-11-10",
          "2020-11-11",
          "2020-11-12",
          "2020-11-13",
          "2020-11-16",
          "2020-11-17",
          "2020-11-18",
          "2020-11-19",
          "2020-11-20",
          "2020-11-23",
          "2020-11-24",
          "2020-11-25",
          "2020-11-26",
          "2020-11-27",
          "2020-11-30"
         ],
         "y": [
          29150,
          28900,
          28900,
          29750,
          31050,
          38500,
          39500,
          40800,
          50100,
          55400,
          56000,
          59300,
          63600,
          78000,
          0,
          95200,
          0,
          105000,
          73500,
          55000,
          68700,
          76500,
          69000,
          68900,
          68500,
          73000,
          71000,
          73300,
          74100,
          75300,
          68400,
          73800,
          70700,
          76200,
          81700,
          82500,
          86000,
          91900,
          99000,
          106500,
          109000,
          105500,
          112000,
          137500,
          149000,
          151000,
          140500,
          144000,
          138000,
          130000,
          139500,
          142500,
          145500,
          146000,
          147000,
          150000,
          152000,
          181000,
          136000,
          161500,
          150000,
          131000,
          117000,
          123500,
          122500,
          125000,
          132500,
          135500,
          132000,
          122500,
          122500,
          116500,
          119000,
          119000,
          122000,
          126000,
          133000,
          138000,
          136000,
          124000,
          125000,
          127000,
          125500,
          123000,
          127000,
          128000,
          133500,
          132000,
          132500,
          127000,
          121000,
          102000,
          96200,
          122000,
          121500,
          120500,
          117000,
          122500,
          119000,
          113000,
          118500,
          122000,
          126500,
          127000
         ]
        },
        {
         "line": {
          "color": "rgba(128, 0, 128, 1.0)",
          "dash": "solid",
          "shape": "linear",
          "width": 1.3
         },
         "mode": "lines",
         "name": "Close",
         "text": "",
         "type": "scatter",
         "x": [
          "2020-07-01",
          "2020-07-02",
          "2020-07-03",
          "2020-07-06",
          "2020-07-07",
          "2020-07-08",
          "2020-07-09",
          "2020-07-10",
          "2020-07-13",
          "2020-07-14",
          "2020-07-15",
          "2020-07-16",
          "2020-07-17",
          "2020-07-20",
          "2020-07-21",
          "2020-07-22",
          "2020-07-23",
          "2020-07-24",
          "2020-07-27",
          "2020-07-28",
          "2020-07-29",
          "2020-07-30",
          "2020-07-31",
          "2020-08-03",
          "2020-08-04",
          "2020-08-05",
          "2020-08-06",
          "2020-08-07",
          "2020-08-10",
          "2020-08-11",
          "2020-08-12",
          "2020-08-13",
          "2020-08-14",
          "2020-08-18",
          "2020-08-19",
          "2020-08-20",
          "2020-08-21",
          "2020-08-24",
          "2020-08-25",
          "2020-08-26",
          "2020-08-27",
          "2020-08-28",
          "2020-08-31",
          "2020-09-01",
          "2020-09-02",
          "2020-09-03",
          "2020-09-04",
          "2020-09-07",
          "2020-09-08",
          "2020-09-09",
          "2020-09-10",
          "2020-09-11",
          "2020-09-14",
          "2020-09-15",
          "2020-09-16",
          "2020-09-17",
          "2020-09-18",
          "2020-09-21",
          "2020-09-22",
          "2020-09-23",
          "2020-09-24",
          "2020-09-25",
          "2020-09-28",
          "2020-09-29",
          "2020-10-05",
          "2020-10-06",
          "2020-10-07",
          "2020-10-08",
          "2020-10-12",
          "2020-10-13",
          "2020-10-14",
          "2020-10-15",
          "2020-10-16",
          "2020-10-19",
          "2020-10-20",
          "2020-10-21",
          "2020-10-22",
          "2020-10-23",
          "2020-10-26",
          "2020-10-27",
          "2020-10-28",
          "2020-10-29",
          "2020-10-30",
          "2020-11-02",
          "2020-11-03",
          "2020-11-04",
          "2020-11-05",
          "2020-11-06",
          "2020-11-09",
          "2020-11-10",
          "2020-11-11",
          "2020-11-12",
          "2020-11-13",
          "2020-11-16",
          "2020-11-17",
          "2020-11-18",
          "2020-11-19",
          "2020-11-20",
          "2020-11-23",
          "2020-11-24",
          "2020-11-25",
          "2020-11-26",
          "2020-11-27",
          "2020-11-30"
         ],
         "y": [
          29250,
          29300,
          29550,
          31050,
          37950,
          39400,
          41150,
          48650,
          60300,
          62500,
          62600,
          63100,
          73000,
          94900,
          94900,
          123000,
          123000,
          105000,
          73500,
          71600,
          75000,
          86000,
          69000,
          73500,
          75000,
          78700,
          77400,
          76100,
          75600,
          76900,
          71800,
          75100,
          75100,
          83500,
          83500,
          93200,
          91000,
          100500,
          114000,
          113000,
          111500,
          111000,
          136500,
          147000,
          158000,
          156500,
          146000,
          148500,
          140000,
          139500,
          141000,
          153500,
          146500,
          146500,
          154000,
          152500,
          198000,
          193500,
          166000,
          165000,
          150000,
          136000,
          133500,
          126500,
          127000,
          134000,
          135500,
          140000,
          133500,
          122500,
          126000,
          125000,
          119000,
          128500,
          125500,
          135500,
          136500,
          139000,
          136500,
          127000,
          131000,
          130000,
          125500,
          126000,
          134500,
          134500,
          135000,
          133000,
          134000,
          128500,
          123500,
          105000,
          126000,
          130500,
          126000,
          120500,
          123000,
          123000,
          119500,
          120500,
          119000,
          128500,
          128500,
          132000
         ]
        }
       ],
       "layout": {
        "legend": {
         "bgcolor": "#F5F6F9",
         "font": {
          "color": "#4D5663"
         }
        },
        "paper_bgcolor": "#F5F6F9",
        "plot_bgcolor": "#F5F6F9",
        "template": {
         "data": {
          "bar": [
           {
            "error_x": {
             "color": "#2a3f5f"
            },
            "error_y": {
             "color": "#2a3f5f"
            },
            "marker": {
             "line": {
              "color": "#E5ECF6",
              "width": 0.5
             },
             "pattern": {
              "fillmode": "overlay",
              "size": 10,
              "solidity": 0.2
             }
            },
            "type": "bar"
           }
          ],
          "barpolar": [
           {
            "marker": {
             "line": {
              "color": "#E5ECF6",
              "width": 0.5
             },
             "pattern": {
              "fillmode": "overlay",
              "size": 10,
              "solidity": 0.2
             }
            },
            "type": "barpolar"
           }
          ],
          "carpet": [
           {
            "aaxis": {
             "endlinecolor": "#2a3f5f",
             "gridcolor": "white",
             "linecolor": "white",
             "minorgridcolor": "white",
             "startlinecolor": "#2a3f5f"
            },
            "baxis": {
             "endlinecolor": "#2a3f5f",
             "gridcolor": "white",
             "linecolor": "white",
             "minorgridcolor": "white",
             "startlinecolor": "#2a3f5f"
            },
            "type": "carpet"
           }
          ],
          "choropleth": [
           {
            "colorbar": {
             "outlinewidth": 0,
             "ticks": ""
            },
            "type": "choropleth"
           }
          ],
          "contour": [
           {
            "colorbar": {
             "outlinewidth": 0,
             "ticks": ""
            },
            "colorscale": [
             [
              0,
              "#0d0887"
             ],
             [
              0.1111111111111111,
              "#46039f"
             ],
             [
              0.2222222222222222,
              "#7201a8"
             ],
             [
              0.3333333333333333,
              "#9c179e"
             ],
             [
              0.4444444444444444,
              "#bd3786"
             ],
             [
              0.5555555555555556,
              "#d8576b"
             ],
             [
              0.6666666666666666,
              "#ed7953"
             ],
             [
              0.7777777777777778,
              "#fb9f3a"
             ],
             [
              0.8888888888888888,
              "#fdca26"
             ],
             [
              1,
              "#f0f921"
             ]
            ],
            "type": "contour"
           }
          ],
          "contourcarpet": [
           {
            "colorbar": {
             "outlinewidth": 0,
             "ticks": ""
            },
            "type": "contourcarpet"
           }
          ],
          "heatmap": [
           {
            "colorbar": {
             "outlinewidth": 0,
             "ticks": ""
            },
            "colorscale": [
             [
              0,
              "#0d0887"
             ],
             [
              0.1111111111111111,
              "#46039f"
             ],
             [
              0.2222222222222222,
              "#7201a8"
             ],
             [
              0.3333333333333333,
              "#9c179e"
             ],
             [
              0.4444444444444444,
              "#bd3786"
             ],
             [
              0.5555555555555556,
              "#d8576b"
             ],
             [
              0.6666666666666666,
              "#ed7953"
             ],
             [
              0.7777777777777778,
              "#fb9f3a"
             ],
             [
              0.8888888888888888,
              "#fdca26"
             ],
             [
              1,
              "#f0f921"
             ]
            ],
            "type": "heatmap"
           }
          ],
          "heatmapgl": [
           {
            "colorbar": {
             "outlinewidth": 0,
             "ticks": ""
            },
            "colorscale": [
             [
              0,
              "#0d0887"
             ],
             [
              0.1111111111111111,
              "#46039f"
             ],
             [
              0.2222222222222222,
              "#7201a8"
             ],
             [
              0.3333333333333333,
              "#9c179e"
             ],
             [
              0.4444444444444444,
              "#bd3786"
             ],
             [
              0.5555555555555556,
              "#d8576b"
             ],
             [
              0.6666666666666666,
              "#ed7953"
             ],
             [
              0.7777777777777778,
              "#fb9f3a"
             ],
             [
              0.8888888888888888,
              "#fdca26"
             ],
             [
              1,
              "#f0f921"
             ]
            ],
            "type": "heatmapgl"
           }
          ],
          "histogram": [
           {
            "marker": {
             "pattern": {
              "fillmode": "overlay",
              "size": 10,
              "solidity": 0.2
             }
            },
            "type": "histogram"
           }
          ],
          "histogram2d": [
           {
            "colorbar": {
             "outlinewidth": 0,
             "ticks": ""
            },
            "colorscale": [
             [
              0,
              "#0d0887"
             ],
             [
              0.1111111111111111,
              "#46039f"
             ],
             [
              0.2222222222222222,
              "#7201a8"
             ],
             [
              0.3333333333333333,
              "#9c179e"
             ],
             [
              0.4444444444444444,
              "#bd3786"
             ],
             [
              0.5555555555555556,
              "#d8576b"
             ],
             [
              0.6666666666666666,
              "#ed7953"
             ],
             [
              0.7777777777777778,
              "#fb9f3a"
             ],
             [
              0.8888888888888888,
              "#fdca26"
             ],
             [
              1,
              "#f0f921"
             ]
            ],
            "type": "histogram2d"
           }
          ],
          "histogram2dcontour": [
           {
            "colorbar": {
             "outlinewidth": 0,
             "ticks": ""
            },
            "colorscale": [
             [
              0,
              "#0d0887"
             ],
             [
              0.1111111111111111,
              "#46039f"
             ],
             [
              0.2222222222222222,
              "#7201a8"
             ],
             [
              0.3333333333333333,
              "#9c179e"
             ],
             [
              0.4444444444444444,
              "#bd3786"
             ],
             [
              0.5555555555555556,
              "#d8576b"
             ],
             [
              0.6666666666666666,
              "#ed7953"
             ],
             [
              0.7777777777777778,
              "#fb9f3a"
             ],
             [
              0.8888888888888888,
              "#fdca26"
             ],
             [
              1,
              "#f0f921"
             ]
            ],
            "type": "histogram2dcontour"
           }
          ],
          "mesh3d": [
           {
            "colorbar": {
             "outlinewidth": 0,
             "ticks": ""
            },
            "type": "mesh3d"
           }
          ],
          "parcoords": [
           {
            "line": {
             "colorbar": {
              "outlinewidth": 0,
              "ticks": ""
             }
            },
            "type": "parcoords"
           }
          ],
          "pie": [
           {
            "automargin": true,
            "type": "pie"
           }
          ],
          "scatter": [
           {
            "fillpattern": {
             "fillmode": "overlay",
             "size": 10,
             "solidity": 0.2
            },
            "type": "scatter"
           }
          ],
          "scatter3d": [
           {
            "line": {
             "colorbar": {
              "outlinewidth": 0,
              "ticks": ""
             }
            },
            "marker": {
             "colorbar": {
              "outlinewidth": 0,
              "ticks": ""
             }
            },
            "type": "scatter3d"
           }
          ],
          "scattercarpet": [
           {
            "marker": {
             "colorbar": {
              "outlinewidth": 0,
              "ticks": ""
             }
            },
            "type": "scattercarpet"
           }
          ],
          "scattergeo": [
           {
            "marker": {
             "colorbar": {
              "outlinewidth": 0,
              "ticks": ""
             }
            },
            "type": "scattergeo"
           }
          ],
          "scattergl": [
           {
            "marker": {
             "colorbar": {
              "outlinewidth": 0,
              "ticks": ""
             }
            },
            "type": "scattergl"
           }
          ],
          "scattermapbox": [
           {
            "marker": {
             "colorbar": {
              "outlinewidth": 0,
              "ticks": ""
             }
            },
            "type": "scattermapbox"
           }
          ],
          "scatterpolar": [
           {
            "marker": {
             "colorbar": {
              "outlinewidth": 0,
              "ticks": ""
             }
            },
            "type": "scatterpolar"
           }
          ],
          "scatterpolargl": [
           {
            "marker": {
             "colorbar": {
              "outlinewidth": 0,
              "ticks": ""
             }
            },
            "type": "scatterpolargl"
           }
          ],
          "scatterternary": [
           {
            "marker": {
             "colorbar": {
              "outlinewidth": 0,
              "ticks": ""
             }
            },
            "type": "scatterternary"
           }
          ],
          "surface": [
           {
            "colorbar": {
             "outlinewidth": 0,
             "ticks": ""
            },
            "colorscale": [
             [
              0,
              "#0d0887"
             ],
             [
              0.1111111111111111,
              "#46039f"
             ],
             [
              0.2222222222222222,
              "#7201a8"
             ],
             [
              0.3333333333333333,
              "#9c179e"
             ],
             [
              0.4444444444444444,
              "#bd3786"
             ],
             [
              0.5555555555555556,
              "#d8576b"
             ],
             [
              0.6666666666666666,
              "#ed7953"
             ],
             [
              0.7777777777777778,
              "#fb9f3a"
             ],
             [
              0.8888888888888888,
              "#fdca26"
             ],
             [
              1,
              "#f0f921"
             ]
            ],
            "type": "surface"
           }
          ],
          "table": [
           {
            "cells": {
             "fill": {
              "color": "#EBF0F8"
             },
             "line": {
              "color": "white"
             }
            },
            "header": {
             "fill": {
              "color": "#C8D4E3"
             },
             "line": {
              "color": "white"
             }
            },
            "type": "table"
           }
          ]
         },
         "layout": {
          "annotationdefaults": {
           "arrowcolor": "#2a3f5f",
           "arrowhead": 0,
           "arrowwidth": 1
          },
          "autotypenumbers": "strict",
          "coloraxis": {
           "colorbar": {
            "outlinewidth": 0,
            "ticks": ""
           }
          },
          "colorscale": {
           "diverging": [
            [
             0,
             "#8e0152"
            ],
            [
             0.1,
             "#c51b7d"
            ],
            [
             0.2,
             "#de77ae"
            ],
            [
             0.3,
             "#f1b6da"
            ],
            [
             0.4,
             "#fde0ef"
            ],
            [
             0.5,
             "#f7f7f7"
            ],
            [
             0.6,
             "#e6f5d0"
            ],
            [
             0.7,
             "#b8e186"
            ],
            [
             0.8,
             "#7fbc41"
            ],
            [
             0.9,
             "#4d9221"
            ],
            [
             1,
             "#276419"
            ]
           ],
           "sequential": [
            [
             0,
             "#0d0887"
            ],
            [
             0.1111111111111111,
             "#46039f"
            ],
            [
             0.2222222222222222,
             "#7201a8"
            ],
            [
             0.3333333333333333,
             "#9c179e"
            ],
            [
             0.4444444444444444,
             "#bd3786"
            ],
            [
             0.5555555555555556,
             "#d8576b"
            ],
            [
             0.6666666666666666,
             "#ed7953"
            ],
            [
             0.7777777777777778,
             "#fb9f3a"
            ],
            [
             0.8888888888888888,
             "#fdca26"
            ],
            [
             1,
             "#f0f921"
            ]
           ],
           "sequentialminus": [
            [
             0,
             "#0d0887"
            ],
            [
             0.1111111111111111,
             "#46039f"
            ],
            [
             0.2222222222222222,
             "#7201a8"
            ],
            [
             0.3333333333333333,
             "#9c179e"
            ],
            [
             0.4444444444444444,
             "#bd3786"
            ],
            [
             0.5555555555555556,
             "#d8576b"
            ],
            [
             0.6666666666666666,
             "#ed7953"
            ],
            [
             0.7777777777777778,
             "#fb9f3a"
            ],
            [
             0.8888888888888888,
             "#fdca26"
            ],
            [
             1,
             "#f0f921"
            ]
           ]
          },
          "colorway": [
           "#636efa",
           "#EF553B",
           "#00cc96",
           "#ab63fa",
           "#FFA15A",
           "#19d3f3",
           "#FF6692",
           "#B6E880",
           "#FF97FF",
           "#FECB52"
          ],
          "font": {
           "color": "#2a3f5f"
          },
          "geo": {
           "bgcolor": "white",
           "lakecolor": "white",
           "landcolor": "#E5ECF6",
           "showlakes": true,
           "showland": true,
           "subunitcolor": "white"
          },
          "hoverlabel": {
           "align": "left"
          },
          "hovermode": "closest",
          "mapbox": {
           "style": "light"
          },
          "paper_bgcolor": "white",
          "plot_bgcolor": "#E5ECF6",
          "polar": {
           "angularaxis": {
            "gridcolor": "white",
            "linecolor": "white",
            "ticks": ""
           },
           "bgcolor": "#E5ECF6",
           "radialaxis": {
            "gridcolor": "white",
            "linecolor": "white",
            "ticks": ""
           }
          },
          "scene": {
           "xaxis": {
            "backgroundcolor": "#E5ECF6",
            "gridcolor": "white",
            "gridwidth": 2,
            "linecolor": "white",
            "showbackground": true,
            "ticks": "",
            "zerolinecolor": "white"
           },
           "yaxis": {
            "backgroundcolor": "#E5ECF6",
            "gridcolor": "white",
            "gridwidth": 2,
            "linecolor": "white",
            "showbackground": true,
            "ticks": "",
            "zerolinecolor": "white"
           },
           "zaxis": {
            "backgroundcolor": "#E5ECF6",
            "gridcolor": "white",
            "gridwidth": 2,
            "linecolor": "white",
            "showbackground": true,
            "ticks": "",
            "zerolinecolor": "white"
           }
          },
          "shapedefaults": {
           "line": {
            "color": "#2a3f5f"
           }
          },
          "ternary": {
           "aaxis": {
            "gridcolor": "white",
            "linecolor": "white",
            "ticks": ""
           },
           "baxis": {
            "gridcolor": "white",
            "linecolor": "white",
            "ticks": ""
           },
           "bgcolor": "#E5ECF6",
           "caxis": {
            "gridcolor": "white",
            "linecolor": "white",
            "ticks": ""
           }
          },
          "title": {
           "x": 0.05
          },
          "xaxis": {
           "automargin": true,
           "gridcolor": "white",
           "linecolor": "white",
           "ticks": "",
           "title": {
            "standoff": 15
           },
           "zerolinecolor": "white",
           "zerolinewidth": 2
          },
          "yaxis": {
           "automargin": true,
           "gridcolor": "white",
           "linecolor": "white",
           "ticks": "",
           "title": {
            "standoff": 15
           },
           "zerolinecolor": "white",
           "zerolinewidth": 2
          }
         }
        },
        "title": {
         "font": {
          "color": "#4D5663"
         }
        },
        "xaxis": {
         "gridcolor": "#E1E5ED",
         "showgrid": true,
         "tickfont": {
          "color": "#4D5663"
         },
         "title": {
          "font": {
           "color": "#4D5663"
          },
          "text": ""
         },
         "zerolinecolor": "#E1E5ED"
        },
        "yaxis": {
         "gridcolor": "#E1E5ED",
         "showgrid": true,
         "tickfont": {
          "color": "#4D5663"
         },
         "title": {
          "font": {
           "color": "#4D5663"
          },
          "text": ""
         },
         "zerolinecolor": "#E1E5ED"
        }
       }
      },
      "text/html": [
       "<div>                            <div id=\"ba79533c-ffa3-4d3d-a812-8b73abf81132\" class=\"plotly-graph-div\" style=\"height:525px; width:100%;\"></div>            <script type=\"text/javascript\">                require([\"plotly\"], function(Plotly) {                    window.PLOTLYENV=window.PLOTLYENV || {};\n",
       "                    window.PLOTLYENV.BASE_URL='https://plot.ly';                                    if (document.getElementById(\"ba79533c-ffa3-4d3d-a812-8b73abf81132\")) {                    Plotly.newPlot(                        \"ba79533c-ffa3-4d3d-a812-8b73abf81132\",                        [{\"line\":{\"color\":\"rgba(255, 153, 51, 1.0)\",\"dash\":\"solid\",\"shape\":\"linear\",\"width\":1.3},\"mode\":\"lines\",\"name\":\"Open\",\"text\":\"\",\"x\":[\"2020-07-01\",\"2020-07-02\",\"2020-07-03\",\"2020-07-06\",\"2020-07-07\",\"2020-07-08\",\"2020-07-09\",\"2020-07-10\",\"2020-07-13\",\"2020-07-14\",\"2020-07-15\",\"2020-07-16\",\"2020-07-17\",\"2020-07-20\",\"2020-07-21\",\"2020-07-22\",\"2020-07-23\",\"2020-07-24\",\"2020-07-27\",\"2020-07-28\",\"2020-07-29\",\"2020-07-30\",\"2020-07-31\",\"2020-08-03\",\"2020-08-04\",\"2020-08-05\",\"2020-08-06\",\"2020-08-07\",\"2020-08-10\",\"2020-08-11\",\"2020-08-12\",\"2020-08-13\",\"2020-08-14\",\"2020-08-18\",\"2020-08-19\",\"2020-08-20\",\"2020-08-21\",\"2020-08-24\",\"2020-08-25\",\"2020-08-26\",\"2020-08-27\",\"2020-08-28\",\"2020-08-31\",\"2020-09-01\",\"2020-09-02\",\"2020-09-03\",\"2020-09-04\",\"2020-09-07\",\"2020-09-08\",\"2020-09-09\",\"2020-09-10\",\"2020-09-11\",\"2020-09-14\",\"2020-09-15\",\"2020-09-16\",\"2020-09-17\",\"2020-09-18\",\"2020-09-21\",\"2020-09-22\",\"2020-09-23\",\"2020-09-24\",\"2020-09-25\",\"2020-09-28\",\"2020-09-29\",\"2020-10-05\",\"2020-10-06\",\"2020-10-07\",\"2020-10-08\",\"2020-10-12\",\"2020-10-13\",\"2020-10-14\",\"2020-10-15\",\"2020-10-16\",\"2020-10-19\",\"2020-10-20\",\"2020-10-21\",\"2020-10-22\",\"2020-10-23\",\"2020-10-26\",\"2020-10-27\",\"2020-10-28\",\"2020-10-29\",\"2020-10-30\",\"2020-11-02\",\"2020-11-03\",\"2020-11-04\",\"2020-11-05\",\"2020-11-06\",\"2020-11-09\",\"2020-11-10\",\"2020-11-11\",\"2020-11-12\",\"2020-11-13\",\"2020-11-16\",\"2020-11-17\",\"2020-11-18\",\"2020-11-19\",\"2020-11-20\",\"2020-11-23\",\"2020-11-24\",\"2020-11-25\",\"2020-11-26\",\"2020-11-27\",\"2020-11-30\"],\"y\":[30400,29300,29300,30100,31400,39000,40250,42100,51300,58200,67300,61100,65100,80700,0,111500,0,139000,100000,76500,72400,80300,87400,69900,77000,75900,78800,77000,76200,77000,75900,75300,75000,78500,85300,84000,91400,94400,101000,118000,117500,109500,113000,143000,152000,153500,150500,149500,148500,135000,143500,143000,155500,149000,147500,156500,153000,209000,167000,168500,158500,155000,140000,137000,130500,127500,134000,138000,140500,133500,122500,127000,123500,121500,127000,127500,135000,141000,142500,137500,127500,128000,129500,127000,127500,138000,135500,135500,134500,132500,129500,122500,103000,125000,123500,128000,118000,124500,123000,119500,121000,122500,129500,129500],\"type\":\"scatter\"},{\"line\":{\"color\":\"rgba(55, 128, 191, 1.0)\",\"dash\":\"solid\",\"shape\":\"linear\",\"width\":1.3},\"mode\":\"lines\",\"name\":\"High\",\"text\":\"\",\"x\":[\"2020-07-01\",\"2020-07-02\",\"2020-07-03\",\"2020-07-06\",\"2020-07-07\",\"2020-07-08\",\"2020-07-09\",\"2020-07-10\",\"2020-07-13\",\"2020-07-14\",\"2020-07-15\",\"2020-07-16\",\"2020-07-17\",\"2020-07-20\",\"2020-07-21\",\"2020-07-22\",\"2020-07-23\",\"2020-07-24\",\"2020-07-27\",\"2020-07-28\",\"2020-07-29\",\"2020-07-30\",\"2020-07-31\",\"2020-08-03\",\"2020-08-04\",\"2020-08-05\",\"2020-08-06\",\"2020-08-07\",\"2020-08-10\",\"2020-08-11\",\"2020-08-12\",\"2020-08-13\",\"2020-08-14\",\"2020-08-18\",\"2020-08-19\",\"2020-08-20\",\"2020-08-21\",\"2020-08-24\",\"2020-08-25\",\"2020-08-26\",\"2020-08-27\",\"2020-08-28\",\"2020-08-31\",\"2020-09-01\",\"2020-09-02\",\"2020-09-03\",\"2020-09-04\",\"2020-09-07\",\"2020-09-08\",\"2020-09-09\",\"2020-09-10\",\"2020-09-11\",\"2020-09-14\",\"2020-09-15\",\"2020-09-16\",\"2020-09-17\",\"2020-09-18\",\"2020-09-21\",\"2020-09-22\",\"2020-09-23\",\"2020-09-24\",\"2020-09-25\",\"2020-09-28\",\"2020-09-29\",\"2020-10-05\",\"2020-10-06\",\"2020-10-07\",\"2020-10-08\",\"2020-10-12\",\"2020-10-13\",\"2020-10-14\",\"2020-10-15\",\"2020-10-16\",\"2020-10-19\",\"2020-10-20\",\"2020-10-21\",\"2020-10-22\",\"2020-10-23\",\"2020-10-26\",\"2020-10-27\",\"2020-10-28\",\"2020-10-29\",\"2020-10-30\",\"2020-11-02\",\"2020-11-03\",\"2020-11-04\",\"2020-11-05\",\"2020-11-06\",\"2020-11-09\",\"2020-11-10\",\"2020-11-11\",\"2020-11-12\",\"2020-11-13\",\"2020-11-16\",\"2020-11-17\",\"2020-11-18\",\"2020-11-19\",\"2020-11-20\",\"2020-11-23\",\"2020-11-24\",\"2020-11-25\",\"2020-11-26\",\"2020-11-27\",\"2020-11-30\"],\"y\":[31150,29850,31300,32000,39700,44600,42850,52900,60600,72400,70800,65200,75900,94900,0,123000,0,159500,103000,78900,79000,89300,93800,74500,77600,82000,81200,77000,78000,77600,76200,80100,78400,89100,86200,96900,92800,102000,122000,127000,119000,115000,136500,154500,163000,162000,156000,155500,148500,148000,147500,158000,155500,150500,155500,160000,198000,214000,191000,182000,169500,159000,151000,138000,134500,137000,144000,140500,140500,133500,131500,128000,127500,135500,130500,138500,140000,145000,143500,142000,131500,133000,131000,128500,138500,138500,137000,136500,138000,133000,130500,123000,135000,141500,133000,129000,131000,128000,123500,123500,124000,134500,130000,132500],\"type\":\"scatter\"},{\"line\":{\"color\":\"rgba(50, 171, 96, 1.0)\",\"dash\":\"solid\",\"shape\":\"linear\",\"width\":1.3},\"mode\":\"lines\",\"name\":\"Low\",\"text\":\"\",\"x\":[\"2020-07-01\",\"2020-07-02\",\"2020-07-03\",\"2020-07-06\",\"2020-07-07\",\"2020-07-08\",\"2020-07-09\",\"2020-07-10\",\"2020-07-13\",\"2020-07-14\",\"2020-07-15\",\"2020-07-16\",\"2020-07-17\",\"2020-07-20\",\"2020-07-21\",\"2020-07-22\",\"2020-07-23\",\"2020-07-24\",\"2020-07-27\",\"2020-07-28\",\"2020-07-29\",\"2020-07-30\",\"2020-07-31\",\"2020-08-03\",\"2020-08-04\",\"2020-08-05\",\"2020-08-06\",\"2020-08-07\",\"2020-08-10\",\"2020-08-11\",\"2020-08-12\",\"2020-08-13\",\"2020-08-14\",\"2020-08-18\",\"2020-08-19\",\"2020-08-20\",\"2020-08-21\",\"2020-08-24\",\"2020-08-25\",\"2020-08-26\",\"2020-08-27\",\"2020-08-28\",\"2020-08-31\",\"2020-09-01\",\"2020-09-02\",\"2020-09-03\",\"2020-09-04\",\"2020-09-07\",\"2020-09-08\",\"2020-09-09\",\"2020-09-10\",\"2020-09-11\",\"2020-09-14\",\"2020-09-15\",\"2020-09-16\",\"2020-09-17\",\"2020-09-18\",\"2020-09-21\",\"2020-09-22\",\"2020-09-23\",\"2020-09-24\",\"2020-09-25\",\"2020-09-28\",\"2020-09-29\",\"2020-10-05\",\"2020-10-06\",\"2020-10-07\",\"2020-10-08\",\"2020-10-12\",\"2020-10-13\",\"2020-10-14\",\"2020-10-15\",\"2020-10-16\",\"2020-10-19\",\"2020-10-20\",\"2020-10-21\",\"2020-10-22\",\"2020-10-23\",\"2020-10-26\",\"2020-10-27\",\"2020-10-28\",\"2020-10-29\",\"2020-10-30\",\"2020-11-02\",\"2020-11-03\",\"2020-11-04\",\"2020-11-05\",\"2020-11-06\",\"2020-11-09\",\"2020-11-10\",\"2020-11-11\",\"2020-11-12\",\"2020-11-13\",\"2020-11-16\",\"2020-11-17\",\"2020-11-18\",\"2020-11-19\",\"2020-11-20\",\"2020-11-23\",\"2020-11-24\",\"2020-11-25\",\"2020-11-26\",\"2020-11-27\",\"2020-11-30\"],\"y\":[29150,28900,28900,29750,31050,38500,39500,40800,50100,55400,56000,59300,63600,78000,0,95200,0,105000,73500,55000,68700,76500,69000,68900,68500,73000,71000,73300,74100,75300,68400,73800,70700,76200,81700,82500,86000,91900,99000,106500,109000,105500,112000,137500,149000,151000,140500,144000,138000,130000,139500,142500,145500,146000,147000,150000,152000,181000,136000,161500,150000,131000,117000,123500,122500,125000,132500,135500,132000,122500,122500,116500,119000,119000,122000,126000,133000,138000,136000,124000,125000,127000,125500,123000,127000,128000,133500,132000,132500,127000,121000,102000,96200,122000,121500,120500,117000,122500,119000,113000,118500,122000,126500,127000],\"type\":\"scatter\"},{\"line\":{\"color\":\"rgba(128, 0, 128, 1.0)\",\"dash\":\"solid\",\"shape\":\"linear\",\"width\":1.3},\"mode\":\"lines\",\"name\":\"Close\",\"text\":\"\",\"x\":[\"2020-07-01\",\"2020-07-02\",\"2020-07-03\",\"2020-07-06\",\"2020-07-07\",\"2020-07-08\",\"2020-07-09\",\"2020-07-10\",\"2020-07-13\",\"2020-07-14\",\"2020-07-15\",\"2020-07-16\",\"2020-07-17\",\"2020-07-20\",\"2020-07-21\",\"2020-07-22\",\"2020-07-23\",\"2020-07-24\",\"2020-07-27\",\"2020-07-28\",\"2020-07-29\",\"2020-07-30\",\"2020-07-31\",\"2020-08-03\",\"2020-08-04\",\"2020-08-05\",\"2020-08-06\",\"2020-08-07\",\"2020-08-10\",\"2020-08-11\",\"2020-08-12\",\"2020-08-13\",\"2020-08-14\",\"2020-08-18\",\"2020-08-19\",\"2020-08-20\",\"2020-08-21\",\"2020-08-24\",\"2020-08-25\",\"2020-08-26\",\"2020-08-27\",\"2020-08-28\",\"2020-08-31\",\"2020-09-01\",\"2020-09-02\",\"2020-09-03\",\"2020-09-04\",\"2020-09-07\",\"2020-09-08\",\"2020-09-09\",\"2020-09-10\",\"2020-09-11\",\"2020-09-14\",\"2020-09-15\",\"2020-09-16\",\"2020-09-17\",\"2020-09-18\",\"2020-09-21\",\"2020-09-22\",\"2020-09-23\",\"2020-09-24\",\"2020-09-25\",\"2020-09-28\",\"2020-09-29\",\"2020-10-05\",\"2020-10-06\",\"2020-10-07\",\"2020-10-08\",\"2020-10-12\",\"2020-10-13\",\"2020-10-14\",\"2020-10-15\",\"2020-10-16\",\"2020-10-19\",\"2020-10-20\",\"2020-10-21\",\"2020-10-22\",\"2020-10-23\",\"2020-10-26\",\"2020-10-27\",\"2020-10-28\",\"2020-10-29\",\"2020-10-30\",\"2020-11-02\",\"2020-11-03\",\"2020-11-04\",\"2020-11-05\",\"2020-11-06\",\"2020-11-09\",\"2020-11-10\",\"2020-11-11\",\"2020-11-12\",\"2020-11-13\",\"2020-11-16\",\"2020-11-17\",\"2020-11-18\",\"2020-11-19\",\"2020-11-20\",\"2020-11-23\",\"2020-11-24\",\"2020-11-25\",\"2020-11-26\",\"2020-11-27\",\"2020-11-30\"],\"y\":[29250,29300,29550,31050,37950,39400,41150,48650,60300,62500,62600,63100,73000,94900,94900,123000,123000,105000,73500,71600,75000,86000,69000,73500,75000,78700,77400,76100,75600,76900,71800,75100,75100,83500,83500,93200,91000,100500,114000,113000,111500,111000,136500,147000,158000,156500,146000,148500,140000,139500,141000,153500,146500,146500,154000,152500,198000,193500,166000,165000,150000,136000,133500,126500,127000,134000,135500,140000,133500,122500,126000,125000,119000,128500,125500,135500,136500,139000,136500,127000,131000,130000,125500,126000,134500,134500,135000,133000,134000,128500,123500,105000,126000,130500,126000,120500,123000,123000,119500,120500,119000,128500,128500,132000],\"type\":\"scatter\"}],                        {\"legend\":{\"bgcolor\":\"#F5F6F9\",\"font\":{\"color\":\"#4D5663\"}},\"paper_bgcolor\":\"#F5F6F9\",\"plot_bgcolor\":\"#F5F6F9\",\"template\":{\"data\":{\"barpolar\":[{\"marker\":{\"line\":{\"color\":\"#E5ECF6\",\"width\":0.5},\"pattern\":{\"fillmode\":\"overlay\",\"size\":10,\"solidity\":0.2}},\"type\":\"barpolar\"}],\"bar\":[{\"error_x\":{\"color\":\"#2a3f5f\"},\"error_y\":{\"color\":\"#2a3f5f\"},\"marker\":{\"line\":{\"color\":\"#E5ECF6\",\"width\":0.5},\"pattern\":{\"fillmode\":\"overlay\",\"size\":10,\"solidity\":0.2}},\"type\":\"bar\"}],\"carpet\":[{\"aaxis\":{\"endlinecolor\":\"#2a3f5f\",\"gridcolor\":\"white\",\"linecolor\":\"white\",\"minorgridcolor\":\"white\",\"startlinecolor\":\"#2a3f5f\"},\"baxis\":{\"endlinecolor\":\"#2a3f5f\",\"gridcolor\":\"white\",\"linecolor\":\"white\",\"minorgridcolor\":\"white\",\"startlinecolor\":\"#2a3f5f\"},\"type\":\"carpet\"}],\"choropleth\":[{\"colorbar\":{\"outlinewidth\":0,\"ticks\":\"\"},\"type\":\"choropleth\"}],\"contourcarpet\":[{\"colorbar\":{\"outlinewidth\":0,\"ticks\":\"\"},\"type\":\"contourcarpet\"}],\"contour\":[{\"colorbar\":{\"outlinewidth\":0,\"ticks\":\"\"},\"colorscale\":[[0.0,\"#0d0887\"],[0.1111111111111111,\"#46039f\"],[0.2222222222222222,\"#7201a8\"],[0.3333333333333333,\"#9c179e\"],[0.4444444444444444,\"#bd3786\"],[0.5555555555555556,\"#d8576b\"],[0.6666666666666666,\"#ed7953\"],[0.7777777777777778,\"#fb9f3a\"],[0.8888888888888888,\"#fdca26\"],[1.0,\"#f0f921\"]],\"type\":\"contour\"}],\"heatmapgl\":[{\"colorbar\":{\"outlinewidth\":0,\"ticks\":\"\"},\"colorscale\":[[0.0,\"#0d0887\"],[0.1111111111111111,\"#46039f\"],[0.2222222222222222,\"#7201a8\"],[0.3333333333333333,\"#9c179e\"],[0.4444444444444444,\"#bd3786\"],[0.5555555555555556,\"#d8576b\"],[0.6666666666666666,\"#ed7953\"],[0.7777777777777778,\"#fb9f3a\"],[0.8888888888888888,\"#fdca26\"],[1.0,\"#f0f921\"]],\"type\":\"heatmapgl\"}],\"heatmap\":[{\"colorbar\":{\"outlinewidth\":0,\"ticks\":\"\"},\"colorscale\":[[0.0,\"#0d0887\"],[0.1111111111111111,\"#46039f\"],[0.2222222222222222,\"#7201a8\"],[0.3333333333333333,\"#9c179e\"],[0.4444444444444444,\"#bd3786\"],[0.5555555555555556,\"#d8576b\"],[0.6666666666666666,\"#ed7953\"],[0.7777777777777778,\"#fb9f3a\"],[0.8888888888888888,\"#fdca26\"],[1.0,\"#f0f921\"]],\"type\":\"heatmap\"}],\"histogram2dcontour\":[{\"colorbar\":{\"outlinewidth\":0,\"ticks\":\"\"},\"colorscale\":[[0.0,\"#0d0887\"],[0.1111111111111111,\"#46039f\"],[0.2222222222222222,\"#7201a8\"],[0.3333333333333333,\"#9c179e\"],[0.4444444444444444,\"#bd3786\"],[0.5555555555555556,\"#d8576b\"],[0.6666666666666666,\"#ed7953\"],[0.7777777777777778,\"#fb9f3a\"],[0.8888888888888888,\"#fdca26\"],[1.0,\"#f0f921\"]],\"type\":\"histogram2dcontour\"}],\"histogram2d\":[{\"colorbar\":{\"outlinewidth\":0,\"ticks\":\"\"},\"colorscale\":[[0.0,\"#0d0887\"],[0.1111111111111111,\"#46039f\"],[0.2222222222222222,\"#7201a8\"],[0.3333333333333333,\"#9c179e\"],[0.4444444444444444,\"#bd3786\"],[0.5555555555555556,\"#d8576b\"],[0.6666666666666666,\"#ed7953\"],[0.7777777777777778,\"#fb9f3a\"],[0.8888888888888888,\"#fdca26\"],[1.0,\"#f0f921\"]],\"type\":\"histogram2d\"}],\"histogram\":[{\"marker\":{\"pattern\":{\"fillmode\":\"overlay\",\"size\":10,\"solidity\":0.2}},\"type\":\"histogram\"}],\"mesh3d\":[{\"colorbar\":{\"outlinewidth\":0,\"ticks\":\"\"},\"type\":\"mesh3d\"}],\"parcoords\":[{\"line\":{\"colorbar\":{\"outlinewidth\":0,\"ticks\":\"\"}},\"type\":\"parcoords\"}],\"pie\":[{\"automargin\":true,\"type\":\"pie\"}],\"scatter3d\":[{\"line\":{\"colorbar\":{\"outlinewidth\":0,\"ticks\":\"\"}},\"marker\":{\"colorbar\":{\"outlinewidth\":0,\"ticks\":\"\"}},\"type\":\"scatter3d\"}],\"scattercarpet\":[{\"marker\":{\"colorbar\":{\"outlinewidth\":0,\"ticks\":\"\"}},\"type\":\"scattercarpet\"}],\"scattergeo\":[{\"marker\":{\"colorbar\":{\"outlinewidth\":0,\"ticks\":\"\"}},\"type\":\"scattergeo\"}],\"scattergl\":[{\"marker\":{\"colorbar\":{\"outlinewidth\":0,\"ticks\":\"\"}},\"type\":\"scattergl\"}],\"scattermapbox\":[{\"marker\":{\"colorbar\":{\"outlinewidth\":0,\"ticks\":\"\"}},\"type\":\"scattermapbox\"}],\"scatterpolargl\":[{\"marker\":{\"colorbar\":{\"outlinewidth\":0,\"ticks\":\"\"}},\"type\":\"scatterpolargl\"}],\"scatterpolar\":[{\"marker\":{\"colorbar\":{\"outlinewidth\":0,\"ticks\":\"\"}},\"type\":\"scatterpolar\"}],\"scatter\":[{\"fillpattern\":{\"fillmode\":\"overlay\",\"size\":10,\"solidity\":0.2},\"type\":\"scatter\"}],\"scatterternary\":[{\"marker\":{\"colorbar\":{\"outlinewidth\":0,\"ticks\":\"\"}},\"type\":\"scatterternary\"}],\"surface\":[{\"colorbar\":{\"outlinewidth\":0,\"ticks\":\"\"},\"colorscale\":[[0.0,\"#0d0887\"],[0.1111111111111111,\"#46039f\"],[0.2222222222222222,\"#7201a8\"],[0.3333333333333333,\"#9c179e\"],[0.4444444444444444,\"#bd3786\"],[0.5555555555555556,\"#d8576b\"],[0.6666666666666666,\"#ed7953\"],[0.7777777777777778,\"#fb9f3a\"],[0.8888888888888888,\"#fdca26\"],[1.0,\"#f0f921\"]],\"type\":\"surface\"}],\"table\":[{\"cells\":{\"fill\":{\"color\":\"#EBF0F8\"},\"line\":{\"color\":\"white\"}},\"header\":{\"fill\":{\"color\":\"#C8D4E3\"},\"line\":{\"color\":\"white\"}},\"type\":\"table\"}]},\"layout\":{\"annotationdefaults\":{\"arrowcolor\":\"#2a3f5f\",\"arrowhead\":0,\"arrowwidth\":1},\"autotypenumbers\":\"strict\",\"coloraxis\":{\"colorbar\":{\"outlinewidth\":0,\"ticks\":\"\"}},\"colorscale\":{\"diverging\":[[0,\"#8e0152\"],[0.1,\"#c51b7d\"],[0.2,\"#de77ae\"],[0.3,\"#f1b6da\"],[0.4,\"#fde0ef\"],[0.5,\"#f7f7f7\"],[0.6,\"#e6f5d0\"],[0.7,\"#b8e186\"],[0.8,\"#7fbc41\"],[0.9,\"#4d9221\"],[1,\"#276419\"]],\"sequential\":[[0.0,\"#0d0887\"],[0.1111111111111111,\"#46039f\"],[0.2222222222222222,\"#7201a8\"],[0.3333333333333333,\"#9c179e\"],[0.4444444444444444,\"#bd3786\"],[0.5555555555555556,\"#d8576b\"],[0.6666666666666666,\"#ed7953\"],[0.7777777777777778,\"#fb9f3a\"],[0.8888888888888888,\"#fdca26\"],[1.0,\"#f0f921\"]],\"sequentialminus\":[[0.0,\"#0d0887\"],[0.1111111111111111,\"#46039f\"],[0.2222222222222222,\"#7201a8\"],[0.3333333333333333,\"#9c179e\"],[0.4444444444444444,\"#bd3786\"],[0.5555555555555556,\"#d8576b\"],[0.6666666666666666,\"#ed7953\"],[0.7777777777777778,\"#fb9f3a\"],[0.8888888888888888,\"#fdca26\"],[1.0,\"#f0f921\"]]},\"colorway\":[\"#636efa\",\"#EF553B\",\"#00cc96\",\"#ab63fa\",\"#FFA15A\",\"#19d3f3\",\"#FF6692\",\"#B6E880\",\"#FF97FF\",\"#FECB52\"],\"font\":{\"color\":\"#2a3f5f\"},\"geo\":{\"bgcolor\":\"white\",\"lakecolor\":\"white\",\"landcolor\":\"#E5ECF6\",\"showlakes\":true,\"showland\":true,\"subunitcolor\":\"white\"},\"hoverlabel\":{\"align\":\"left\"},\"hovermode\":\"closest\",\"mapbox\":{\"style\":\"light\"},\"paper_bgcolor\":\"white\",\"plot_bgcolor\":\"#E5ECF6\",\"polar\":{\"angularaxis\":{\"gridcolor\":\"white\",\"linecolor\":\"white\",\"ticks\":\"\"},\"bgcolor\":\"#E5ECF6\",\"radialaxis\":{\"gridcolor\":\"white\",\"linecolor\":\"white\",\"ticks\":\"\"}},\"scene\":{\"xaxis\":{\"backgroundcolor\":\"#E5ECF6\",\"gridcolor\":\"white\",\"gridwidth\":2,\"linecolor\":\"white\",\"showbackground\":true,\"ticks\":\"\",\"zerolinecolor\":\"white\"},\"yaxis\":{\"backgroundcolor\":\"#E5ECF6\",\"gridcolor\":\"white\",\"gridwidth\":2,\"linecolor\":\"white\",\"showbackground\":true,\"ticks\":\"\",\"zerolinecolor\":\"white\"},\"zaxis\":{\"backgroundcolor\":\"#E5ECF6\",\"gridcolor\":\"white\",\"gridwidth\":2,\"linecolor\":\"white\",\"showbackground\":true,\"ticks\":\"\",\"zerolinecolor\":\"white\"}},\"shapedefaults\":{\"line\":{\"color\":\"#2a3f5f\"}},\"ternary\":{\"aaxis\":{\"gridcolor\":\"white\",\"linecolor\":\"white\",\"ticks\":\"\"},\"baxis\":{\"gridcolor\":\"white\",\"linecolor\":\"white\",\"ticks\":\"\"},\"bgcolor\":\"#E5ECF6\",\"caxis\":{\"gridcolor\":\"white\",\"linecolor\":\"white\",\"ticks\":\"\"}},\"title\":{\"x\":0.05},\"xaxis\":{\"automargin\":true,\"gridcolor\":\"white\",\"linecolor\":\"white\",\"ticks\":\"\",\"title\":{\"standoff\":15},\"zerolinecolor\":\"white\",\"zerolinewidth\":2},\"yaxis\":{\"automargin\":true,\"gridcolor\":\"white\",\"linecolor\":\"white\",\"ticks\":\"\",\"title\":{\"standoff\":15},\"zerolinecolor\":\"white\",\"zerolinewidth\":2}}},\"title\":{\"font\":{\"color\":\"#4D5663\"}},\"xaxis\":{\"gridcolor\":\"#E1E5ED\",\"showgrid\":true,\"tickfont\":{\"color\":\"#4D5663\"},\"title\":{\"font\":{\"color\":\"#4D5663\"},\"text\":\"\"},\"zerolinecolor\":\"#E1E5ED\"},\"yaxis\":{\"gridcolor\":\"#E1E5ED\",\"showgrid\":true,\"tickfont\":{\"color\":\"#4D5663\"},\"title\":{\"font\":{\"color\":\"#4D5663\"},\"text\":\"\"},\"zerolinecolor\":\"#E1E5ED\"}},                        {\"showLink\": true, \"linkText\": \"Export to plot.ly\", \"plotlyServerURL\": \"https://plot.ly\", \"responsive\": true}                    ).then(function(){\n",
       "                            \n",
       "var gd = document.getElementById('ba79533c-ffa3-4d3d-a812-8b73abf81132');\n",
       "var x = new MutationObserver(function (mutations, observer) {{\n",
       "        var display = window.getComputedStyle(gd).display;\n",
       "        if (!display || display === 'none') {{\n",
       "            console.log([gd, 'removed!']);\n",
       "            Plotly.purge(gd);\n",
       "            observer.disconnect();\n",
       "        }}\n",
       "}});\n",
       "\n",
       "// Listen for the removal of the full notebook cells\n",
       "var notebookContainer = gd.closest('#notebook-container');\n",
       "if (notebookContainer) {{\n",
       "    x.observe(notebookContainer, {childList: true});\n",
       "}}\n",
       "\n",
       "// Listen for the clearing of the current output cell\n",
       "var outputEl = gd.closest('.output');\n",
       "if (outputEl) {{\n",
       "    x.observe(outputEl, {childList: true});\n",
       "}}\n",
       "\n",
       "                        })                };                });            </script>        </div>"
      ]
     },
     "metadata": {},
     "output_type": "display_data"
    }
   ],
   "source": [
    "df_sinpung[df_sinpung.columns[:4]].iplot(kind = 'line')"
   ]
  },
  {
   "cell_type": "code",
   "execution_count": 62,
   "metadata": {
    "ExecuteTime": {
     "end_time": "2022-12-07T12:40:21.549335Z",
     "start_time": "2022-12-07T12:40:21.448606Z"
    }
   },
   "outputs": [
    {
     "data": {
      "application/vnd.plotly.v1+json": {
       "config": {
        "linkText": "Export to plot.ly",
        "plotlyServerURL": "https://plot.ly",
        "showLink": true
       },
       "data": [
        {
         "line": {
          "color": "rgba(255, 153, 51, 1.0)",
          "dash": "solid",
          "shape": "linear",
          "width": 1.3
         },
         "mode": "lines",
         "name": "Volume",
         "text": "",
         "type": "scatter",
         "x": [
          "2020-07-01",
          "2020-07-02",
          "2020-07-03",
          "2020-07-06",
          "2020-07-07",
          "2020-07-08",
          "2020-07-09",
          "2020-07-10",
          "2020-07-13",
          "2020-07-14",
          "2020-07-15",
          "2020-07-16",
          "2020-07-17",
          "2020-07-20",
          "2020-07-21",
          "2020-07-22",
          "2020-07-23",
          "2020-07-24",
          "2020-07-27",
          "2020-07-28",
          "2020-07-29",
          "2020-07-30",
          "2020-07-31",
          "2020-08-03",
          "2020-08-04",
          "2020-08-05",
          "2020-08-06",
          "2020-08-07",
          "2020-08-10",
          "2020-08-11",
          "2020-08-12",
          "2020-08-13",
          "2020-08-14",
          "2020-08-18",
          "2020-08-19",
          "2020-08-20",
          "2020-08-21",
          "2020-08-24",
          "2020-08-25",
          "2020-08-26",
          "2020-08-27",
          "2020-08-28",
          "2020-08-31",
          "2020-09-01",
          "2020-09-02",
          "2020-09-03",
          "2020-09-04",
          "2020-09-07",
          "2020-09-08",
          "2020-09-09",
          "2020-09-10",
          "2020-09-11",
          "2020-09-14",
          "2020-09-15",
          "2020-09-16",
          "2020-09-17",
          "2020-09-18",
          "2020-09-21",
          "2020-09-22",
          "2020-09-23",
          "2020-09-24",
          "2020-09-25",
          "2020-09-28",
          "2020-09-29",
          "2020-10-05",
          "2020-10-06",
          "2020-10-07",
          "2020-10-08",
          "2020-10-12",
          "2020-10-13",
          "2020-10-14",
          "2020-10-15",
          "2020-10-16",
          "2020-10-19",
          "2020-10-20",
          "2020-10-21",
          "2020-10-22",
          "2020-10-23",
          "2020-10-26",
          "2020-10-27",
          "2020-10-28",
          "2020-10-29",
          "2020-10-30",
          "2020-11-02",
          "2020-11-03",
          "2020-11-04",
          "2020-11-05",
          "2020-11-06",
          "2020-11-09",
          "2020-11-10",
          "2020-11-11",
          "2020-11-12",
          "2020-11-13",
          "2020-11-16",
          "2020-11-17",
          "2020-11-18",
          "2020-11-19",
          "2020-11-20",
          "2020-11-23",
          "2020-11-24",
          "2020-11-25",
          "2020-11-26",
          "2020-11-27",
          "2020-11-30"
         ],
         "y": [
          2957350,
          1429912,
          3505959,
          5148966,
          28716072,
          15686852,
          8047240,
          21832615,
          13164176,
          10573019,
          8046389,
          4585122,
          10346334,
          8684128,
          0,
          8513185,
          0,
          7202366,
          17014592,
          36371681,
          13369199,
          16135343,
          9550127,
          5853424,
          4529032,
          4779936,
          3403245,
          2582484,
          1869408,
          1760964,
          2147793,
          2849271,
          2635995,
          8167164,
          2279796,
          7406541,
          2826108,
          6447748,
          8298145,
          6839845,
          2753712,
          1932901,
          8923037,
          8457244,
          5227173,
          3060054,
          3207785,
          1990166,
          1896434,
          1971294,
          1168991,
          4196887,
          1454336,
          797504,
          1613973,
          1274638,
          11151883,
          5504786,
          13709460,
          5349571,
          3130738,
          3873628,
          8123549,
          3151057,
          3157659,
          2832451,
          3006442,
          1333877,
          1235415,
          2159439,
          1857945,
          1648363,
          1106753,
          3029185,
          1100126,
          3452509,
          1226408,
          1847507,
          840553,
          2104948,
          1019478,
          880817,
          663468,
          532258,
          1452688,
          1204282,
          577934,
          549155,
          589650,
          979177,
          1306219,
          3541236,
          10987113,
          4448368,
          2178006,
          1246035,
          2598945,
          786924,
          863132,
          1597675,
          1040250,
          3357638,
          798815,
          1409700
         ]
        }
       ],
       "layout": {
        "legend": {
         "bgcolor": "#F5F6F9",
         "font": {
          "color": "#4D5663"
         }
        },
        "paper_bgcolor": "#F5F6F9",
        "plot_bgcolor": "#F5F6F9",
        "template": {
         "data": {
          "bar": [
           {
            "error_x": {
             "color": "#2a3f5f"
            },
            "error_y": {
             "color": "#2a3f5f"
            },
            "marker": {
             "line": {
              "color": "#E5ECF6",
              "width": 0.5
             },
             "pattern": {
              "fillmode": "overlay",
              "size": 10,
              "solidity": 0.2
             }
            },
            "type": "bar"
           }
          ],
          "barpolar": [
           {
            "marker": {
             "line": {
              "color": "#E5ECF6",
              "width": 0.5
             },
             "pattern": {
              "fillmode": "overlay",
              "size": 10,
              "solidity": 0.2
             }
            },
            "type": "barpolar"
           }
          ],
          "carpet": [
           {
            "aaxis": {
             "endlinecolor": "#2a3f5f",
             "gridcolor": "white",
             "linecolor": "white",
             "minorgridcolor": "white",
             "startlinecolor": "#2a3f5f"
            },
            "baxis": {
             "endlinecolor": "#2a3f5f",
             "gridcolor": "white",
             "linecolor": "white",
             "minorgridcolor": "white",
             "startlinecolor": "#2a3f5f"
            },
            "type": "carpet"
           }
          ],
          "choropleth": [
           {
            "colorbar": {
             "outlinewidth": 0,
             "ticks": ""
            },
            "type": "choropleth"
           }
          ],
          "contour": [
           {
            "colorbar": {
             "outlinewidth": 0,
             "ticks": ""
            },
            "colorscale": [
             [
              0,
              "#0d0887"
             ],
             [
              0.1111111111111111,
              "#46039f"
             ],
             [
              0.2222222222222222,
              "#7201a8"
             ],
             [
              0.3333333333333333,
              "#9c179e"
             ],
             [
              0.4444444444444444,
              "#bd3786"
             ],
             [
              0.5555555555555556,
              "#d8576b"
             ],
             [
              0.6666666666666666,
              "#ed7953"
             ],
             [
              0.7777777777777778,
              "#fb9f3a"
             ],
             [
              0.8888888888888888,
              "#fdca26"
             ],
             [
              1,
              "#f0f921"
             ]
            ],
            "type": "contour"
           }
          ],
          "contourcarpet": [
           {
            "colorbar": {
             "outlinewidth": 0,
             "ticks": ""
            },
            "type": "contourcarpet"
           }
          ],
          "heatmap": [
           {
            "colorbar": {
             "outlinewidth": 0,
             "ticks": ""
            },
            "colorscale": [
             [
              0,
              "#0d0887"
             ],
             [
              0.1111111111111111,
              "#46039f"
             ],
             [
              0.2222222222222222,
              "#7201a8"
             ],
             [
              0.3333333333333333,
              "#9c179e"
             ],
             [
              0.4444444444444444,
              "#bd3786"
             ],
             [
              0.5555555555555556,
              "#d8576b"
             ],
             [
              0.6666666666666666,
              "#ed7953"
             ],
             [
              0.7777777777777778,
              "#fb9f3a"
             ],
             [
              0.8888888888888888,
              "#fdca26"
             ],
             [
              1,
              "#f0f921"
             ]
            ],
            "type": "heatmap"
           }
          ],
          "heatmapgl": [
           {
            "colorbar": {
             "outlinewidth": 0,
             "ticks": ""
            },
            "colorscale": [
             [
              0,
              "#0d0887"
             ],
             [
              0.1111111111111111,
              "#46039f"
             ],
             [
              0.2222222222222222,
              "#7201a8"
             ],
             [
              0.3333333333333333,
              "#9c179e"
             ],
             [
              0.4444444444444444,
              "#bd3786"
             ],
             [
              0.5555555555555556,
              "#d8576b"
             ],
             [
              0.6666666666666666,
              "#ed7953"
             ],
             [
              0.7777777777777778,
              "#fb9f3a"
             ],
             [
              0.8888888888888888,
              "#fdca26"
             ],
             [
              1,
              "#f0f921"
             ]
            ],
            "type": "heatmapgl"
           }
          ],
          "histogram": [
           {
            "marker": {
             "pattern": {
              "fillmode": "overlay",
              "size": 10,
              "solidity": 0.2
             }
            },
            "type": "histogram"
           }
          ],
          "histogram2d": [
           {
            "colorbar": {
             "outlinewidth": 0,
             "ticks": ""
            },
            "colorscale": [
             [
              0,
              "#0d0887"
             ],
             [
              0.1111111111111111,
              "#46039f"
             ],
             [
              0.2222222222222222,
              "#7201a8"
             ],
             [
              0.3333333333333333,
              "#9c179e"
             ],
             [
              0.4444444444444444,
              "#bd3786"
             ],
             [
              0.5555555555555556,
              "#d8576b"
             ],
             [
              0.6666666666666666,
              "#ed7953"
             ],
             [
              0.7777777777777778,
              "#fb9f3a"
             ],
             [
              0.8888888888888888,
              "#fdca26"
             ],
             [
              1,
              "#f0f921"
             ]
            ],
            "type": "histogram2d"
           }
          ],
          "histogram2dcontour": [
           {
            "colorbar": {
             "outlinewidth": 0,
             "ticks": ""
            },
            "colorscale": [
             [
              0,
              "#0d0887"
             ],
             [
              0.1111111111111111,
              "#46039f"
             ],
             [
              0.2222222222222222,
              "#7201a8"
             ],
             [
              0.3333333333333333,
              "#9c179e"
             ],
             [
              0.4444444444444444,
              "#bd3786"
             ],
             [
              0.5555555555555556,
              "#d8576b"
             ],
             [
              0.6666666666666666,
              "#ed7953"
             ],
             [
              0.7777777777777778,
              "#fb9f3a"
             ],
             [
              0.8888888888888888,
              "#fdca26"
             ],
             [
              1,
              "#f0f921"
             ]
            ],
            "type": "histogram2dcontour"
           }
          ],
          "mesh3d": [
           {
            "colorbar": {
             "outlinewidth": 0,
             "ticks": ""
            },
            "type": "mesh3d"
           }
          ],
          "parcoords": [
           {
            "line": {
             "colorbar": {
              "outlinewidth": 0,
              "ticks": ""
             }
            },
            "type": "parcoords"
           }
          ],
          "pie": [
           {
            "automargin": true,
            "type": "pie"
           }
          ],
          "scatter": [
           {
            "fillpattern": {
             "fillmode": "overlay",
             "size": 10,
             "solidity": 0.2
            },
            "type": "scatter"
           }
          ],
          "scatter3d": [
           {
            "line": {
             "colorbar": {
              "outlinewidth": 0,
              "ticks": ""
             }
            },
            "marker": {
             "colorbar": {
              "outlinewidth": 0,
              "ticks": ""
             }
            },
            "type": "scatter3d"
           }
          ],
          "scattercarpet": [
           {
            "marker": {
             "colorbar": {
              "outlinewidth": 0,
              "ticks": ""
             }
            },
            "type": "scattercarpet"
           }
          ],
          "scattergeo": [
           {
            "marker": {
             "colorbar": {
              "outlinewidth": 0,
              "ticks": ""
             }
            },
            "type": "scattergeo"
           }
          ],
          "scattergl": [
           {
            "marker": {
             "colorbar": {
              "outlinewidth": 0,
              "ticks": ""
             }
            },
            "type": "scattergl"
           }
          ],
          "scattermapbox": [
           {
            "marker": {
             "colorbar": {
              "outlinewidth": 0,
              "ticks": ""
             }
            },
            "type": "scattermapbox"
           }
          ],
          "scatterpolar": [
           {
            "marker": {
             "colorbar": {
              "outlinewidth": 0,
              "ticks": ""
             }
            },
            "type": "scatterpolar"
           }
          ],
          "scatterpolargl": [
           {
            "marker": {
             "colorbar": {
              "outlinewidth": 0,
              "ticks": ""
             }
            },
            "type": "scatterpolargl"
           }
          ],
          "scatterternary": [
           {
            "marker": {
             "colorbar": {
              "outlinewidth": 0,
              "ticks": ""
             }
            },
            "type": "scatterternary"
           }
          ],
          "surface": [
           {
            "colorbar": {
             "outlinewidth": 0,
             "ticks": ""
            },
            "colorscale": [
             [
              0,
              "#0d0887"
             ],
             [
              0.1111111111111111,
              "#46039f"
             ],
             [
              0.2222222222222222,
              "#7201a8"
             ],
             [
              0.3333333333333333,
              "#9c179e"
             ],
             [
              0.4444444444444444,
              "#bd3786"
             ],
             [
              0.5555555555555556,
              "#d8576b"
             ],
             [
              0.6666666666666666,
              "#ed7953"
             ],
             [
              0.7777777777777778,
              "#fb9f3a"
             ],
             [
              0.8888888888888888,
              "#fdca26"
             ],
             [
              1,
              "#f0f921"
             ]
            ],
            "type": "surface"
           }
          ],
          "table": [
           {
            "cells": {
             "fill": {
              "color": "#EBF0F8"
             },
             "line": {
              "color": "white"
             }
            },
            "header": {
             "fill": {
              "color": "#C8D4E3"
             },
             "line": {
              "color": "white"
             }
            },
            "type": "table"
           }
          ]
         },
         "layout": {
          "annotationdefaults": {
           "arrowcolor": "#2a3f5f",
           "arrowhead": 0,
           "arrowwidth": 1
          },
          "autotypenumbers": "strict",
          "coloraxis": {
           "colorbar": {
            "outlinewidth": 0,
            "ticks": ""
           }
          },
          "colorscale": {
           "diverging": [
            [
             0,
             "#8e0152"
            ],
            [
             0.1,
             "#c51b7d"
            ],
            [
             0.2,
             "#de77ae"
            ],
            [
             0.3,
             "#f1b6da"
            ],
            [
             0.4,
             "#fde0ef"
            ],
            [
             0.5,
             "#f7f7f7"
            ],
            [
             0.6,
             "#e6f5d0"
            ],
            [
             0.7,
             "#b8e186"
            ],
            [
             0.8,
             "#7fbc41"
            ],
            [
             0.9,
             "#4d9221"
            ],
            [
             1,
             "#276419"
            ]
           ],
           "sequential": [
            [
             0,
             "#0d0887"
            ],
            [
             0.1111111111111111,
             "#46039f"
            ],
            [
             0.2222222222222222,
             "#7201a8"
            ],
            [
             0.3333333333333333,
             "#9c179e"
            ],
            [
             0.4444444444444444,
             "#bd3786"
            ],
            [
             0.5555555555555556,
             "#d8576b"
            ],
            [
             0.6666666666666666,
             "#ed7953"
            ],
            [
             0.7777777777777778,
             "#fb9f3a"
            ],
            [
             0.8888888888888888,
             "#fdca26"
            ],
            [
             1,
             "#f0f921"
            ]
           ],
           "sequentialminus": [
            [
             0,
             "#0d0887"
            ],
            [
             0.1111111111111111,
             "#46039f"
            ],
            [
             0.2222222222222222,
             "#7201a8"
            ],
            [
             0.3333333333333333,
             "#9c179e"
            ],
            [
             0.4444444444444444,
             "#bd3786"
            ],
            [
             0.5555555555555556,
             "#d8576b"
            ],
            [
             0.6666666666666666,
             "#ed7953"
            ],
            [
             0.7777777777777778,
             "#fb9f3a"
            ],
            [
             0.8888888888888888,
             "#fdca26"
            ],
            [
             1,
             "#f0f921"
            ]
           ]
          },
          "colorway": [
           "#636efa",
           "#EF553B",
           "#00cc96",
           "#ab63fa",
           "#FFA15A",
           "#19d3f3",
           "#FF6692",
           "#B6E880",
           "#FF97FF",
           "#FECB52"
          ],
          "font": {
           "color": "#2a3f5f"
          },
          "geo": {
           "bgcolor": "white",
           "lakecolor": "white",
           "landcolor": "#E5ECF6",
           "showlakes": true,
           "showland": true,
           "subunitcolor": "white"
          },
          "hoverlabel": {
           "align": "left"
          },
          "hovermode": "closest",
          "mapbox": {
           "style": "light"
          },
          "paper_bgcolor": "white",
          "plot_bgcolor": "#E5ECF6",
          "polar": {
           "angularaxis": {
            "gridcolor": "white",
            "linecolor": "white",
            "ticks": ""
           },
           "bgcolor": "#E5ECF6",
           "radialaxis": {
            "gridcolor": "white",
            "linecolor": "white",
            "ticks": ""
           }
          },
          "scene": {
           "xaxis": {
            "backgroundcolor": "#E5ECF6",
            "gridcolor": "white",
            "gridwidth": 2,
            "linecolor": "white",
            "showbackground": true,
            "ticks": "",
            "zerolinecolor": "white"
           },
           "yaxis": {
            "backgroundcolor": "#E5ECF6",
            "gridcolor": "white",
            "gridwidth": 2,
            "linecolor": "white",
            "showbackground": true,
            "ticks": "",
            "zerolinecolor": "white"
           },
           "zaxis": {
            "backgroundcolor": "#E5ECF6",
            "gridcolor": "white",
            "gridwidth": 2,
            "linecolor": "white",
            "showbackground": true,
            "ticks": "",
            "zerolinecolor": "white"
           }
          },
          "shapedefaults": {
           "line": {
            "color": "#2a3f5f"
           }
          },
          "ternary": {
           "aaxis": {
            "gridcolor": "white",
            "linecolor": "white",
            "ticks": ""
           },
           "baxis": {
            "gridcolor": "white",
            "linecolor": "white",
            "ticks": ""
           },
           "bgcolor": "#E5ECF6",
           "caxis": {
            "gridcolor": "white",
            "linecolor": "white",
            "ticks": ""
           }
          },
          "title": {
           "x": 0.05
          },
          "xaxis": {
           "automargin": true,
           "gridcolor": "white",
           "linecolor": "white",
           "ticks": "",
           "title": {
            "standoff": 15
           },
           "zerolinecolor": "white",
           "zerolinewidth": 2
          },
          "yaxis": {
           "automargin": true,
           "gridcolor": "white",
           "linecolor": "white",
           "ticks": "",
           "title": {
            "standoff": 15
           },
           "zerolinecolor": "white",
           "zerolinewidth": 2
          }
         }
        },
        "title": {
         "font": {
          "color": "#4D5663"
         }
        },
        "xaxis": {
         "gridcolor": "#E1E5ED",
         "showgrid": true,
         "tickfont": {
          "color": "#4D5663"
         },
         "title": {
          "font": {
           "color": "#4D5663"
          },
          "text": ""
         },
         "zerolinecolor": "#E1E5ED"
        },
        "yaxis": {
         "gridcolor": "#E1E5ED",
         "showgrid": true,
         "tickfont": {
          "color": "#4D5663"
         },
         "title": {
          "font": {
           "color": "#4D5663"
          },
          "text": ""
         },
         "zerolinecolor": "#E1E5ED"
        }
       }
      },
      "text/html": [
       "<div>                            <div id=\"57736f68-0b3b-4063-82ab-2c00cf0a71ef\" class=\"plotly-graph-div\" style=\"height:525px; width:100%;\"></div>            <script type=\"text/javascript\">                require([\"plotly\"], function(Plotly) {                    window.PLOTLYENV=window.PLOTLYENV || {};\n",
       "                    window.PLOTLYENV.BASE_URL='https://plot.ly';                                    if (document.getElementById(\"57736f68-0b3b-4063-82ab-2c00cf0a71ef\")) {                    Plotly.newPlot(                        \"57736f68-0b3b-4063-82ab-2c00cf0a71ef\",                        [{\"line\":{\"color\":\"rgba(255, 153, 51, 1.0)\",\"dash\":\"solid\",\"shape\":\"linear\",\"width\":1.3},\"mode\":\"lines\",\"name\":\"Volume\",\"text\":\"\",\"x\":[\"2020-07-01\",\"2020-07-02\",\"2020-07-03\",\"2020-07-06\",\"2020-07-07\",\"2020-07-08\",\"2020-07-09\",\"2020-07-10\",\"2020-07-13\",\"2020-07-14\",\"2020-07-15\",\"2020-07-16\",\"2020-07-17\",\"2020-07-20\",\"2020-07-21\",\"2020-07-22\",\"2020-07-23\",\"2020-07-24\",\"2020-07-27\",\"2020-07-28\",\"2020-07-29\",\"2020-07-30\",\"2020-07-31\",\"2020-08-03\",\"2020-08-04\",\"2020-08-05\",\"2020-08-06\",\"2020-08-07\",\"2020-08-10\",\"2020-08-11\",\"2020-08-12\",\"2020-08-13\",\"2020-08-14\",\"2020-08-18\",\"2020-08-19\",\"2020-08-20\",\"2020-08-21\",\"2020-08-24\",\"2020-08-25\",\"2020-08-26\",\"2020-08-27\",\"2020-08-28\",\"2020-08-31\",\"2020-09-01\",\"2020-09-02\",\"2020-09-03\",\"2020-09-04\",\"2020-09-07\",\"2020-09-08\",\"2020-09-09\",\"2020-09-10\",\"2020-09-11\",\"2020-09-14\",\"2020-09-15\",\"2020-09-16\",\"2020-09-17\",\"2020-09-18\",\"2020-09-21\",\"2020-09-22\",\"2020-09-23\",\"2020-09-24\",\"2020-09-25\",\"2020-09-28\",\"2020-09-29\",\"2020-10-05\",\"2020-10-06\",\"2020-10-07\",\"2020-10-08\",\"2020-10-12\",\"2020-10-13\",\"2020-10-14\",\"2020-10-15\",\"2020-10-16\",\"2020-10-19\",\"2020-10-20\",\"2020-10-21\",\"2020-10-22\",\"2020-10-23\",\"2020-10-26\",\"2020-10-27\",\"2020-10-28\",\"2020-10-29\",\"2020-10-30\",\"2020-11-02\",\"2020-11-03\",\"2020-11-04\",\"2020-11-05\",\"2020-11-06\",\"2020-11-09\",\"2020-11-10\",\"2020-11-11\",\"2020-11-12\",\"2020-11-13\",\"2020-11-16\",\"2020-11-17\",\"2020-11-18\",\"2020-11-19\",\"2020-11-20\",\"2020-11-23\",\"2020-11-24\",\"2020-11-25\",\"2020-11-26\",\"2020-11-27\",\"2020-11-30\"],\"y\":[2957350,1429912,3505959,5148966,28716072,15686852,8047240,21832615,13164176,10573019,8046389,4585122,10346334,8684128,0,8513185,0,7202366,17014592,36371681,13369199,16135343,9550127,5853424,4529032,4779936,3403245,2582484,1869408,1760964,2147793,2849271,2635995,8167164,2279796,7406541,2826108,6447748,8298145,6839845,2753712,1932901,8923037,8457244,5227173,3060054,3207785,1990166,1896434,1971294,1168991,4196887,1454336,797504,1613973,1274638,11151883,5504786,13709460,5349571,3130738,3873628,8123549,3151057,3157659,2832451,3006442,1333877,1235415,2159439,1857945,1648363,1106753,3029185,1100126,3452509,1226408,1847507,840553,2104948,1019478,880817,663468,532258,1452688,1204282,577934,549155,589650,979177,1306219,3541236,10987113,4448368,2178006,1246035,2598945,786924,863132,1597675,1040250,3357638,798815,1409700],\"type\":\"scatter\"}],                        {\"legend\":{\"bgcolor\":\"#F5F6F9\",\"font\":{\"color\":\"#4D5663\"}},\"paper_bgcolor\":\"#F5F6F9\",\"plot_bgcolor\":\"#F5F6F9\",\"template\":{\"data\":{\"barpolar\":[{\"marker\":{\"line\":{\"color\":\"#E5ECF6\",\"width\":0.5},\"pattern\":{\"fillmode\":\"overlay\",\"size\":10,\"solidity\":0.2}},\"type\":\"barpolar\"}],\"bar\":[{\"error_x\":{\"color\":\"#2a3f5f\"},\"error_y\":{\"color\":\"#2a3f5f\"},\"marker\":{\"line\":{\"color\":\"#E5ECF6\",\"width\":0.5},\"pattern\":{\"fillmode\":\"overlay\",\"size\":10,\"solidity\":0.2}},\"type\":\"bar\"}],\"carpet\":[{\"aaxis\":{\"endlinecolor\":\"#2a3f5f\",\"gridcolor\":\"white\",\"linecolor\":\"white\",\"minorgridcolor\":\"white\",\"startlinecolor\":\"#2a3f5f\"},\"baxis\":{\"endlinecolor\":\"#2a3f5f\",\"gridcolor\":\"white\",\"linecolor\":\"white\",\"minorgridcolor\":\"white\",\"startlinecolor\":\"#2a3f5f\"},\"type\":\"carpet\"}],\"choropleth\":[{\"colorbar\":{\"outlinewidth\":0,\"ticks\":\"\"},\"type\":\"choropleth\"}],\"contourcarpet\":[{\"colorbar\":{\"outlinewidth\":0,\"ticks\":\"\"},\"type\":\"contourcarpet\"}],\"contour\":[{\"colorbar\":{\"outlinewidth\":0,\"ticks\":\"\"},\"colorscale\":[[0.0,\"#0d0887\"],[0.1111111111111111,\"#46039f\"],[0.2222222222222222,\"#7201a8\"],[0.3333333333333333,\"#9c179e\"],[0.4444444444444444,\"#bd3786\"],[0.5555555555555556,\"#d8576b\"],[0.6666666666666666,\"#ed7953\"],[0.7777777777777778,\"#fb9f3a\"],[0.8888888888888888,\"#fdca26\"],[1.0,\"#f0f921\"]],\"type\":\"contour\"}],\"heatmapgl\":[{\"colorbar\":{\"outlinewidth\":0,\"ticks\":\"\"},\"colorscale\":[[0.0,\"#0d0887\"],[0.1111111111111111,\"#46039f\"],[0.2222222222222222,\"#7201a8\"],[0.3333333333333333,\"#9c179e\"],[0.4444444444444444,\"#bd3786\"],[0.5555555555555556,\"#d8576b\"],[0.6666666666666666,\"#ed7953\"],[0.7777777777777778,\"#fb9f3a\"],[0.8888888888888888,\"#fdca26\"],[1.0,\"#f0f921\"]],\"type\":\"heatmapgl\"}],\"heatmap\":[{\"colorbar\":{\"outlinewidth\":0,\"ticks\":\"\"},\"colorscale\":[[0.0,\"#0d0887\"],[0.1111111111111111,\"#46039f\"],[0.2222222222222222,\"#7201a8\"],[0.3333333333333333,\"#9c179e\"],[0.4444444444444444,\"#bd3786\"],[0.5555555555555556,\"#d8576b\"],[0.6666666666666666,\"#ed7953\"],[0.7777777777777778,\"#fb9f3a\"],[0.8888888888888888,\"#fdca26\"],[1.0,\"#f0f921\"]],\"type\":\"heatmap\"}],\"histogram2dcontour\":[{\"colorbar\":{\"outlinewidth\":0,\"ticks\":\"\"},\"colorscale\":[[0.0,\"#0d0887\"],[0.1111111111111111,\"#46039f\"],[0.2222222222222222,\"#7201a8\"],[0.3333333333333333,\"#9c179e\"],[0.4444444444444444,\"#bd3786\"],[0.5555555555555556,\"#d8576b\"],[0.6666666666666666,\"#ed7953\"],[0.7777777777777778,\"#fb9f3a\"],[0.8888888888888888,\"#fdca26\"],[1.0,\"#f0f921\"]],\"type\":\"histogram2dcontour\"}],\"histogram2d\":[{\"colorbar\":{\"outlinewidth\":0,\"ticks\":\"\"},\"colorscale\":[[0.0,\"#0d0887\"],[0.1111111111111111,\"#46039f\"],[0.2222222222222222,\"#7201a8\"],[0.3333333333333333,\"#9c179e\"],[0.4444444444444444,\"#bd3786\"],[0.5555555555555556,\"#d8576b\"],[0.6666666666666666,\"#ed7953\"],[0.7777777777777778,\"#fb9f3a\"],[0.8888888888888888,\"#fdca26\"],[1.0,\"#f0f921\"]],\"type\":\"histogram2d\"}],\"histogram\":[{\"marker\":{\"pattern\":{\"fillmode\":\"overlay\",\"size\":10,\"solidity\":0.2}},\"type\":\"histogram\"}],\"mesh3d\":[{\"colorbar\":{\"outlinewidth\":0,\"ticks\":\"\"},\"type\":\"mesh3d\"}],\"parcoords\":[{\"line\":{\"colorbar\":{\"outlinewidth\":0,\"ticks\":\"\"}},\"type\":\"parcoords\"}],\"pie\":[{\"automargin\":true,\"type\":\"pie\"}],\"scatter3d\":[{\"line\":{\"colorbar\":{\"outlinewidth\":0,\"ticks\":\"\"}},\"marker\":{\"colorbar\":{\"outlinewidth\":0,\"ticks\":\"\"}},\"type\":\"scatter3d\"}],\"scattercarpet\":[{\"marker\":{\"colorbar\":{\"outlinewidth\":0,\"ticks\":\"\"}},\"type\":\"scattercarpet\"}],\"scattergeo\":[{\"marker\":{\"colorbar\":{\"outlinewidth\":0,\"ticks\":\"\"}},\"type\":\"scattergeo\"}],\"scattergl\":[{\"marker\":{\"colorbar\":{\"outlinewidth\":0,\"ticks\":\"\"}},\"type\":\"scattergl\"}],\"scattermapbox\":[{\"marker\":{\"colorbar\":{\"outlinewidth\":0,\"ticks\":\"\"}},\"type\":\"scattermapbox\"}],\"scatterpolargl\":[{\"marker\":{\"colorbar\":{\"outlinewidth\":0,\"ticks\":\"\"}},\"type\":\"scatterpolargl\"}],\"scatterpolar\":[{\"marker\":{\"colorbar\":{\"outlinewidth\":0,\"ticks\":\"\"}},\"type\":\"scatterpolar\"}],\"scatter\":[{\"fillpattern\":{\"fillmode\":\"overlay\",\"size\":10,\"solidity\":0.2},\"type\":\"scatter\"}],\"scatterternary\":[{\"marker\":{\"colorbar\":{\"outlinewidth\":0,\"ticks\":\"\"}},\"type\":\"scatterternary\"}],\"surface\":[{\"colorbar\":{\"outlinewidth\":0,\"ticks\":\"\"},\"colorscale\":[[0.0,\"#0d0887\"],[0.1111111111111111,\"#46039f\"],[0.2222222222222222,\"#7201a8\"],[0.3333333333333333,\"#9c179e\"],[0.4444444444444444,\"#bd3786\"],[0.5555555555555556,\"#d8576b\"],[0.6666666666666666,\"#ed7953\"],[0.7777777777777778,\"#fb9f3a\"],[0.8888888888888888,\"#fdca26\"],[1.0,\"#f0f921\"]],\"type\":\"surface\"}],\"table\":[{\"cells\":{\"fill\":{\"color\":\"#EBF0F8\"},\"line\":{\"color\":\"white\"}},\"header\":{\"fill\":{\"color\":\"#C8D4E3\"},\"line\":{\"color\":\"white\"}},\"type\":\"table\"}]},\"layout\":{\"annotationdefaults\":{\"arrowcolor\":\"#2a3f5f\",\"arrowhead\":0,\"arrowwidth\":1},\"autotypenumbers\":\"strict\",\"coloraxis\":{\"colorbar\":{\"outlinewidth\":0,\"ticks\":\"\"}},\"colorscale\":{\"diverging\":[[0,\"#8e0152\"],[0.1,\"#c51b7d\"],[0.2,\"#de77ae\"],[0.3,\"#f1b6da\"],[0.4,\"#fde0ef\"],[0.5,\"#f7f7f7\"],[0.6,\"#e6f5d0\"],[0.7,\"#b8e186\"],[0.8,\"#7fbc41\"],[0.9,\"#4d9221\"],[1,\"#276419\"]],\"sequential\":[[0.0,\"#0d0887\"],[0.1111111111111111,\"#46039f\"],[0.2222222222222222,\"#7201a8\"],[0.3333333333333333,\"#9c179e\"],[0.4444444444444444,\"#bd3786\"],[0.5555555555555556,\"#d8576b\"],[0.6666666666666666,\"#ed7953\"],[0.7777777777777778,\"#fb9f3a\"],[0.8888888888888888,\"#fdca26\"],[1.0,\"#f0f921\"]],\"sequentialminus\":[[0.0,\"#0d0887\"],[0.1111111111111111,\"#46039f\"],[0.2222222222222222,\"#7201a8\"],[0.3333333333333333,\"#9c179e\"],[0.4444444444444444,\"#bd3786\"],[0.5555555555555556,\"#d8576b\"],[0.6666666666666666,\"#ed7953\"],[0.7777777777777778,\"#fb9f3a\"],[0.8888888888888888,\"#fdca26\"],[1.0,\"#f0f921\"]]},\"colorway\":[\"#636efa\",\"#EF553B\",\"#00cc96\",\"#ab63fa\",\"#FFA15A\",\"#19d3f3\",\"#FF6692\",\"#B6E880\",\"#FF97FF\",\"#FECB52\"],\"font\":{\"color\":\"#2a3f5f\"},\"geo\":{\"bgcolor\":\"white\",\"lakecolor\":\"white\",\"landcolor\":\"#E5ECF6\",\"showlakes\":true,\"showland\":true,\"subunitcolor\":\"white\"},\"hoverlabel\":{\"align\":\"left\"},\"hovermode\":\"closest\",\"mapbox\":{\"style\":\"light\"},\"paper_bgcolor\":\"white\",\"plot_bgcolor\":\"#E5ECF6\",\"polar\":{\"angularaxis\":{\"gridcolor\":\"white\",\"linecolor\":\"white\",\"ticks\":\"\"},\"bgcolor\":\"#E5ECF6\",\"radialaxis\":{\"gridcolor\":\"white\",\"linecolor\":\"white\",\"ticks\":\"\"}},\"scene\":{\"xaxis\":{\"backgroundcolor\":\"#E5ECF6\",\"gridcolor\":\"white\",\"gridwidth\":2,\"linecolor\":\"white\",\"showbackground\":true,\"ticks\":\"\",\"zerolinecolor\":\"white\"},\"yaxis\":{\"backgroundcolor\":\"#E5ECF6\",\"gridcolor\":\"white\",\"gridwidth\":2,\"linecolor\":\"white\",\"showbackground\":true,\"ticks\":\"\",\"zerolinecolor\":\"white\"},\"zaxis\":{\"backgroundcolor\":\"#E5ECF6\",\"gridcolor\":\"white\",\"gridwidth\":2,\"linecolor\":\"white\",\"showbackground\":true,\"ticks\":\"\",\"zerolinecolor\":\"white\"}},\"shapedefaults\":{\"line\":{\"color\":\"#2a3f5f\"}},\"ternary\":{\"aaxis\":{\"gridcolor\":\"white\",\"linecolor\":\"white\",\"ticks\":\"\"},\"baxis\":{\"gridcolor\":\"white\",\"linecolor\":\"white\",\"ticks\":\"\"},\"bgcolor\":\"#E5ECF6\",\"caxis\":{\"gridcolor\":\"white\",\"linecolor\":\"white\",\"ticks\":\"\"}},\"title\":{\"x\":0.05},\"xaxis\":{\"automargin\":true,\"gridcolor\":\"white\",\"linecolor\":\"white\",\"ticks\":\"\",\"title\":{\"standoff\":15},\"zerolinecolor\":\"white\",\"zerolinewidth\":2},\"yaxis\":{\"automargin\":true,\"gridcolor\":\"white\",\"linecolor\":\"white\",\"ticks\":\"\",\"title\":{\"standoff\":15},\"zerolinecolor\":\"white\",\"zerolinewidth\":2}}},\"title\":{\"font\":{\"color\":\"#4D5663\"}},\"xaxis\":{\"gridcolor\":\"#E1E5ED\",\"showgrid\":true,\"tickfont\":{\"color\":\"#4D5663\"},\"title\":{\"font\":{\"color\":\"#4D5663\"},\"text\":\"\"},\"zerolinecolor\":\"#E1E5ED\"},\"yaxis\":{\"gridcolor\":\"#E1E5ED\",\"showgrid\":true,\"tickfont\":{\"color\":\"#4D5663\"},\"title\":{\"font\":{\"color\":\"#4D5663\"},\"text\":\"\"},\"zerolinecolor\":\"#E1E5ED\"}},                        {\"showLink\": true, \"linkText\": \"Export to plot.ly\", \"plotlyServerURL\": \"https://plot.ly\", \"responsive\": true}                    ).then(function(){\n",
       "                            \n",
       "var gd = document.getElementById('57736f68-0b3b-4063-82ab-2c00cf0a71ef');\n",
       "var x = new MutationObserver(function (mutations, observer) {{\n",
       "        var display = window.getComputedStyle(gd).display;\n",
       "        if (!display || display === 'none') {{\n",
       "            console.log([gd, 'removed!']);\n",
       "            Plotly.purge(gd);\n",
       "            observer.disconnect();\n",
       "        }}\n",
       "}});\n",
       "\n",
       "// Listen for the removal of the full notebook cells\n",
       "var notebookContainer = gd.closest('#notebook-container');\n",
       "if (notebookContainer) {{\n",
       "    x.observe(notebookContainer, {childList: true});\n",
       "}}\n",
       "\n",
       "// Listen for the clearing of the current output cell\n",
       "var outputEl = gd.closest('.output');\n",
       "if (outputEl) {{\n",
       "    x.observe(outputEl, {childList: true});\n",
       "}}\n",
       "\n",
       "                        })                };                });            </script>        </div>"
      ]
     },
     "metadata": {},
     "output_type": "display_data"
    }
   ],
   "source": [
    "df_sinpung['Volume'].iplot(kind = 'line')"
   ]
  },
  {
   "cell_type": "markdown",
   "metadata": {
    "ExecuteTime": {
     "end_time": "2022-12-07T12:06:08.098873Z",
     "start_time": "2022-12-07T12:06:08.085878Z"
    }
   },
   "source": [
    "코로나 19사태로 인해 백신개발 관련 종목들이 급등하면서 6월 21일, 6월 23일 매매거래가 정지되었다.<br>\n",
    "이와 같이 특수한 상황인 경우 모델이 다음 날 수익률을 예측하는데 어려움을 가질 수 있으므로 해당 데이터를 제거한다."
   ]
  }
 ],
 "metadata": {
  "kernelspec": {
   "display_name": "Python 3",
   "language": "python",
   "name": "python3"
  },
  "language_info": {
   "codemirror_mode": {
    "name": "ipython",
    "version": 3
   },
   "file_extension": ".py",
   "mimetype": "text/x-python",
   "name": "python",
   "nbconvert_exporter": "python",
   "pygments_lexer": "ipython3",
   "version": "3.8.5"
  },
  "toc": {
   "base_numbering": 1,
   "nav_menu": {},
   "number_sections": true,
   "sideBar": true,
   "skip_h1_title": false,
   "title_cell": "Table of Contents",
   "title_sidebar": "Contents",
   "toc_cell": false,
   "toc_position": {
    "height": "712px",
    "left": "1536px",
    "top": "584.125px",
    "width": "384px"
   },
   "toc_section_display": true,
   "toc_window_display": true
  }
 },
 "nbformat": 4,
 "nbformat_minor": 5
}
